{
 "cells": [
  {
   "cell_type": "markdown",
   "metadata": {},
   "source": [
    "### <font color=red>Creates labels for marine heatwave events</font>\n",
    "\n",
    "Marine heatwaves are defined using the *marineHeatWaves* module developed by [Eric Oliver](https://github.com/ecjoliver/marineHeatWaves)\n",
    "\n",
    "**The following criteria are used to define marine heatwaves:**\n",
    "- climatology: 1988-2017\n",
    "- threshold: 90th percentile\n",
    "- smoother: 31-days\n",
    "- min duration: 5 days\n",
    "- maximum gap between events = 2 days\n",
    "***\n",
    "Creator: Hillary Scannell \n",
    "\n",
    "Created: 07-23-2018"
   ]
  },
  {
   "cell_type": "code",
   "execution_count": 230,
   "metadata": {},
   "outputs": [],
   "source": [
    "import numpy as np\n",
    "import os, time, datetime\n",
    "from datetime import date\n",
    "from netCDF4 import Dataset\n",
    "import matplotlib.pyplot as plt\n",
    "import pandas as pd\n",
    "from pandas import DataFrame, Series, concat\n",
    "from marineHeatWaves import detect\n"
   ]
  },
  {
   "cell_type": "markdown",
   "metadata": {},
   "source": [
    "**Load data time series.**\n",
    "There are four time series of sea surface temperature (SST) contained in seperate netCDF files. The code below extracts the data from the data files using the indexing parameter *f*. Change the path (*fp*) to match the file directory on your machine and choose *f* values from 0 to 3 to change files. "
   ]
  },
  {
   "cell_type": "code",
   "execution_count": 231,
   "metadata": {},
   "outputs": [
    {
     "name": "stdout",
     "output_type": "stream",
     "text": [
      "Location: 50ºN,140ºS\n",
      "lat ('lat',) 1\n",
      "lon ('lon',) 1\n",
      "sst ('time', 'lat', 'lon') 13433\n",
      "time ('time',) 13433\n",
      "<class 'pandas.core.frame.DataFrame'> <class 'numpy.ma.core.MaskedArray'>\n",
      "         SST\n",
      "0  14.740000\n",
      "1  15.290000\n",
      "2  12.349999\n",
      "3  12.270000\n",
      "4  12.570000\n",
      "1981-09-01 2018-06-11\n"
     ]
    }
   ],
   "source": [
    "files = ['30n120w.nc', '30n140w.nc', '40n160w.nc', '50n140w.nc'] \n",
    "f = 3 # index to files  <- choose to analyze a different time series by changing f from 0 to 3\n",
    "\n",
    "lat = files[f][0:2]\n",
    "lon = files[f][3:6]\n",
    "print('Location: '+lat+'ºN,'+lon+'ºS')\n",
    "\n",
    "fp = '/Users/hscannell/Desktop/data/SST_daily_time_series/' # <- change this to your path\n",
    "data_files = Dataset(fp+'sst_'+files[f]) # reading the netCDF file and creating a dataset\n",
    "for c, value in enumerate(data_files.variables):\n",
    "    print(data_files[value].name, data_files[value].dimensions, data_files[value].size) \n",
    "    \n",
    "# SST (deg-C)   \n",
    "SST = np.squeeze(data_files.variables['sst'][:])\n",
    "\n",
    "# Time (days since)\n",
    "f_time = data_files.variables['time'][:] # time is given in days since 1800-01-01 00:00:00\n",
    "ref = datetime.date(1800, 1, 1).toordinal()\n",
    "sst_time = ref+f_time # adjust time as days since 0000-01-01 00:00:00\n",
    "\n",
    "# Dates (yyyy-mm-dd)\n",
    "sst_dates = [date.fromordinal(tt.astype(int)) for tt in sst_time]\n",
    "sst_dates = np.array(sst_dates)\n",
    "\n",
    "# Create a python series\n",
    "data = DataFrame(SST, columns=['SST'])\n",
    "print(type(data), type(sst_time))\n",
    "print(data.head())\n",
    "print(sst_dates[0], sst_dates[-1])"
   ]
  },
  {
   "cell_type": "markdown",
   "metadata": {},
   "source": [
    "**Find marine heatwave in time series using *detect***"
   ]
  },
  {
   "cell_type": "code",
   "execution_count": 232,
   "metadata": {},
   "outputs": [],
   "source": [
    "sst = np.array(data['SST'])\n",
    "time = np.array(sst_time)\n",
    "\n",
    "mhw, clim = detect(time, sst, climatologyPeriod=[1988, 2017], \n",
    "       pctile=90, windowHalfWidth=5, smoothPercentile=True, \n",
    "       smoothPercentileWidth=31, minDuration=6, \n",
    "       joinAcrossGaps=True, maxGap=2, maxPadLength=False, \n",
    "       coldSpells=False, alternateClimatology=False)\n",
    "\n",
    "mhw_st = mhw['index_start'] # Start index of MHW\n",
    "mhw_en = mhw['index_end'] # End index of MHW\n",
    "sst_clim = clim['seas'] # seasonal climatology computed between 1988-2017\n",
    "mhw_thres = clim['thresh'] # marine heatwave threshold computed as the 90th percentile from the seasonal climatology"
   ]
  },
  {
   "cell_type": "code",
   "execution_count": 233,
   "metadata": {},
   "outputs": [
    {
     "name": "stdout",
     "output_type": "stream",
     "text": [
      "34 34\n",
      "\n",
      "[894, 1910, 1968, 2951, 3730, 4433, 4504, 4545, 4738, 5844, 5857, 7785, 8363, 8613, 8677, 11668, 11704, 11812, 11986, 12013, 12044, 12095, 12173, 12240, 12292, 12318, 12380, 12411, 12485, 12561, 12654, 12678, 12777, 12809]\n",
      "6\n"
     ]
    }
   ],
   "source": [
    "print(len(mhw_st), len(mhw_en))\n",
    "print('')\n",
    "print(mhw_en)\n",
    "\n",
    "print(np.array(mhw_en[0])-np.array(mhw_st[0]))"
   ]
  },
  {
   "cell_type": "markdown",
   "metadata": {},
   "source": [
    "#### create labels, 1=mhw, 0=normal"
   ]
  },
  {
   "cell_type": "code",
   "execution_count": 234,
   "metadata": {},
   "outputs": [
    {
     "name": "stdout",
     "output_type": "stream",
     "text": [
      "At this location there were 34 MHWs between 1981-09-01 and 2018-06-11 \n",
      "\n",
      "minimum event duration: \t5 days\n",
      "maximum event duration: \t170 days \n",
      "\n",
      "minimum gap between events: \t4 days\n",
      "maximum gap between events: \t2983 days\n"
     ]
    }
   ],
   "source": [
    "mhw_label = sst*0\n",
    "\n",
    "for i in range(0,len(mhw_st)):\n",
    "    n = mhw_en[i]-mhw_st[i]\n",
    "    mhw_label[mhw_st[i]:mhw_en[i]] = np.ones(n)\n",
    "\n",
    "print('At this location there were {} MHWs between {} and {} \\n'.format(len(mhw_st), sst_dates[0], sst_dates[-1]))   \n",
    "    \n",
    "dur = np.array(mhw_en)-np.array(mhw_st)\n",
    "print('minimum event duration: \\t{} days'.format(min(dur)))\n",
    "print('maximum event duration: \\t{} days \\n'.format(max(dur)))\n",
    "\n",
    "gap = np.array(mhw_st[1:])-np.array(mhw_en[0:-1])\n",
    "print('minimum gap between events: \\t{} days'.format(min(gap)))\n",
    "print('maximum gap between events: \\t{} days'.format(max(gap)))"
   ]
  },
  {
   "cell_type": "markdown",
   "metadata": {},
   "source": [
    "#### Plot labels for this time series"
   ]
  },
  {
   "cell_type": "code",
   "execution_count": 235,
   "metadata": {},
   "outputs": [
    {
     "data": {
      "image/png": "[encoded data removed]",
      "text/plain": [
       "<Figure size 1008x216 with 1 Axes>"
      ]
     },
     "metadata": {},
     "output_type": "display_data"
    }
   ],
   "source": [
    "plt.rc('xtick', labelsize=16) \n",
    "plt.rc('ytick', labelsize=16)\n",
    "plt.figure(figsize=(14,3)); ax = plt.subplot(111) \n",
    "plt.plot(sst_dates, mhw_label, 'r')\n",
    "plt.ylabel('Label', fontsize=16)\n",
    "plt.xlabel('Time', fontsize=16)\n",
    "ax.get_xaxis().tick_bottom()  \n",
    "ax.get_yaxis().tick_left() \n",
    "ax.spines[\"top\"].set_visible(False)  \n",
    "ax.spines[\"right\"].set_visible(False) \n",
    "ax.spines[\"left\"].set_visible(False) \n",
    "ax.spines[\"bottom\"].set_visible(False) \n",
    "ax.tick_params(axis=u'both', which=u'both',length=0)\n",
    "plt.gcf().autofmt_xdate()\n",
    "plt.yticks([0, 1], ['Normal', 'MHW']);  \n",
    "plt.ylim(0, 1.2);"
   ]
  },
  {
   "cell_type": "markdown",
   "metadata": {},
   "source": [
    "#### Save labels into a CSV file"
   ]
  },
  {
   "cell_type": "code",
   "execution_count": 236,
   "metadata": {},
   "outputs": [
    {
     "name": "stdout",
     "output_type": "stream",
     "text": [
      "<class 'numpy.ndarray'> <class 'numpy.ndarray'>\n"
     ]
    }
   ],
   "source": [
    "print(type(sst_dates), type(mhw_label))"
   ]
  },
  {
   "cell_type": "code",
   "execution_count": 237,
   "metadata": {},
   "outputs": [
    {
     "name": "stdout",
     "output_type": "stream",
     "text": [
      "/Users/hscannell/Desktop/MHWpredict/data/Labels/mhwLabels_50n140w.csv\n",
      "Writing complete!\n"
     ]
    }
   ],
   "source": [
    "import csv\n",
    "\n",
    "fn = 'mhwLabels_'+files[f][:-3]+'.csv'\n",
    "download_dir = '/Users/hscannell/Desktop/MHWpredict/data/Labels/'+fn \n",
    "print(download_dir)\n",
    "#where you want the file to be downloaded to \n",
    "\n",
    "MyData = np.vstack((sst_dates, mhw_label))\n",
    "\n",
    "myFile = open(download_dir, \"w\") \n",
    "\n",
    "with myFile:\n",
    "    \n",
    "    writer = csv.writer(myFile)\n",
    "\n",
    "    writer.writerows(MyData)\n",
    "     \n",
    "print(\"Writing complete!\")"
   ]
  }
 ],
 "metadata": {
  "kernelspec": {
   "display_name": "Python 3",
   "language": "python",
   "name": "python3"
  },
  "language_info": {
   "codemirror_mode": {
    "name": "ipython",
    "version": 3
   },
   "file_extension": ".py",
   "mimetype": "text/x-python",
   "name": "python",
   "nbconvert_exporter": "python",
   "pygments_lexer": "ipython3",
   "version": "3.5.5"
  }
 },
 "nbformat": 4,
 "nbformat_minor": 2
}
