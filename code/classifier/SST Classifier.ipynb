{
 "cells": [
  {
   "cell_type": "code",
   "execution_count": 505,
   "metadata": {},
   "outputs": [],
   "source": [
    "%matplotlib inline\n",
    "import pandas as pd\n",
    "import numpy as np\n",
    "from netCDF4 import Dataset\n",
    "import os, time, datetime\n",
    "from datetime import date\n",
    "import matplotlib.pyplot as plt\n",
    "from sklearn.metrics import mean_squared_error\n",
    "from sklearn.preprocessing import MinMaxScaler\n",
    "from sklearn.utils import shuffle\n",
    "from keras.models import Sequential\n",
    "from keras.optimizers import SGD, Adam\n",
    "from keras.layers import Dense, LSTM, Activation, Dropout\n",
    "import xgboost as xgb\n",
    "import seaborn as sns\n",
    "from sklearn.model_selection import KFold, GridSearchCV, train_test_split, StratifiedKFold\n",
    "from sklearn.metrics import classification_report, confusion_matrix\n",
    "import warnings"
   ]
  },
  {
   "cell_type": "code",
   "execution_count": 506,
   "metadata": {},
   "outputs": [],
   "source": [
    "# it looks like XGBoost is using a library that's a bit older, silencing the deprication warning\n",
    "warnings.filterwarnings(\"ignore\")"
   ]
  },
  {
   "cell_type": "code",
   "execution_count": 507,
   "metadata": {},
   "outputs": [],
   "source": [
    "labels = pd.read_csv('data/Labels/mhwLabels_30n120w.csv')"
   ]
  },
  {
   "cell_type": "code",
   "execution_count": 508,
   "metadata": {},
   "outputs": [
    {
     "data": {
      "text/html": [
       "<div>\n",
       "<style scoped>\n",
       "    .dataframe tbody tr th:only-of-type {\n",
       "        vertical-align: middle;\n",
       "    }\n",
       "\n",
       "    .dataframe tbody tr th {\n",
       "        vertical-align: top;\n",
       "    }\n",
       "\n",
       "    .dataframe thead th {\n",
       "        text-align: right;\n",
       "    }\n",
       "</style>\n",
       "<table border=\"1\" class=\"dataframe\">\n",
       "  <thead>\n",
       "    <tr style=\"text-align: right;\">\n",
       "      <th></th>\n",
       "      <th>1981-09-01</th>\n",
       "      <th>1981-09-02</th>\n",
       "      <th>1981-09-03</th>\n",
       "      <th>1981-09-04</th>\n",
       "      <th>1981-09-05</th>\n",
       "      <th>1981-09-06</th>\n",
       "      <th>1981-09-07</th>\n",
       "      <th>1981-09-08</th>\n",
       "      <th>1981-09-09</th>\n",
       "      <th>1981-09-10</th>\n",
       "      <th>...</th>\n",
       "      <th>2018-06-02</th>\n",
       "      <th>2018-06-03</th>\n",
       "      <th>2018-06-04</th>\n",
       "      <th>2018-06-05</th>\n",
       "      <th>2018-06-06</th>\n",
       "      <th>2018-06-07</th>\n",
       "      <th>2018-06-08</th>\n",
       "      <th>2018-06-09</th>\n",
       "      <th>2018-06-10</th>\n",
       "      <th>2018-06-11</th>\n",
       "    </tr>\n",
       "  </thead>\n",
       "  <tbody>\n",
       "    <tr>\n",
       "      <th>0</th>\n",
       "      <td>0.0</td>\n",
       "      <td>0.0</td>\n",
       "      <td>0.0</td>\n",
       "      <td>0.0</td>\n",
       "      <td>0.0</td>\n",
       "      <td>0.0</td>\n",
       "      <td>0.0</td>\n",
       "      <td>0.0</td>\n",
       "      <td>0.0</td>\n",
       "      <td>0.0</td>\n",
       "      <td>...</td>\n",
       "      <td>0.0</td>\n",
       "      <td>0.0</td>\n",
       "      <td>0.0</td>\n",
       "      <td>0.0</td>\n",
       "      <td>0.0</td>\n",
       "      <td>0.0</td>\n",
       "      <td>0.0</td>\n",
       "      <td>0.0</td>\n",
       "      <td>0.0</td>\n",
       "      <td>0.0</td>\n",
       "    </tr>\n",
       "  </tbody>\n",
       "</table>\n",
       "<p>1 rows × 13433 columns</p>\n",
       "</div>"
      ],
      "text/plain": [
       "   1981-09-01  1981-09-02  1981-09-03  1981-09-04  1981-09-05  1981-09-06  \\\n",
       "0         0.0         0.0         0.0         0.0         0.0         0.0   \n",
       "\n",
       "   1981-09-07  1981-09-08  1981-09-09  1981-09-10     ...      2018-06-02  \\\n",
       "0         0.0         0.0         0.0         0.0     ...             0.0   \n",
       "\n",
       "   2018-06-03  2018-06-04  2018-06-05  2018-06-06  2018-06-07  2018-06-08  \\\n",
       "0         0.0         0.0         0.0         0.0         0.0         0.0   \n",
       "\n",
       "   2018-06-09  2018-06-10  2018-06-11  \n",
       "0         0.0         0.0         0.0  \n",
       "\n",
       "[1 rows x 13433 columns]"
      ]
     },
     "execution_count": 508,
     "metadata": {},
     "output_type": "execute_result"
    }
   ],
   "source": [
    "# labels data are currently one per column\n",
    "labels.head()"
   ]
  },
  {
   "cell_type": "code",
   "execution_count": 509,
   "metadata": {},
   "outputs": [],
   "source": [
    "# transform labels into a two column dataset with date and label\n",
    "labels = labels.melt()"
   ]
  },
  {
   "cell_type": "code",
   "execution_count": 510,
   "metadata": {},
   "outputs": [],
   "source": [
    "# give more relatable column names\n",
    "labels.rename(columns={'variable':'date','value':'label'},inplace=True)"
   ]
  },
  {
   "cell_type": "code",
   "execution_count": 511,
   "metadata": {},
   "outputs": [],
   "source": [
    "#loading the SST data following Hillary's code\n",
    "\n",
    "fp = 'data/' # <- change this to your path\n",
    "data = Dataset(fp+'sst_'+'30n120w.nc') # reading the netCDF file and creating a dataset"
   ]
  },
  {
   "cell_type": "code",
   "execution_count": 512,
   "metadata": {},
   "outputs": [],
   "source": [
    "#loading the SST data following Hillary's code\n",
    "\n",
    "# SST (deg-C)   \n",
    "SST = np.squeeze(data.variables['sst'][:])\n",
    "\n",
    "# Time (days since)\n",
    "f_time = data.variables['time'][:] # time is given in days since 1800-01-01 00:00:00\n",
    "ref = datetime.date(1800, 1, 1).toordinal()\n",
    "sst_time = ref+f_time # adjust time as days since 0000-01-01 00:00:00\n",
    "\n",
    "# Dates (yyyy-mm-dd)\n",
    "sst_dates = [date.fromordinal(tt.astype(int)) for tt in sst_time]\n",
    "sst_dates = np.array(sst_dates)\n",
    "\n",
    "# Create a python series\n",
    "sst = pd.Series(SST)"
   ]
  },
  {
   "cell_type": "code",
   "execution_count": 513,
   "metadata": {},
   "outputs": [],
   "source": [
    "#rename\n",
    "df = labels"
   ]
  },
  {
   "cell_type": "code",
   "execution_count": 514,
   "metadata": {},
   "outputs": [],
   "source": [
    "#combine labels\n",
    "df['sst'] = sst"
   ]
  },
  {
   "cell_type": "code",
   "execution_count": 515,
   "metadata": {},
   "outputs": [
    {
     "data": {
      "text/html": [
       "<div>\n",
       "<style scoped>\n",
       "    .dataframe tbody tr th:only-of-type {\n",
       "        vertical-align: middle;\n",
       "    }\n",
       "\n",
       "    .dataframe tbody tr th {\n",
       "        vertical-align: top;\n",
       "    }\n",
       "\n",
       "    .dataframe thead th {\n",
       "        text-align: right;\n",
       "    }\n",
       "</style>\n",
       "<table border=\"1\" class=\"dataframe\">\n",
       "  <thead>\n",
       "    <tr style=\"text-align: right;\">\n",
       "      <th></th>\n",
       "      <th>date</th>\n",
       "      <th>label</th>\n",
       "      <th>sst</th>\n",
       "    </tr>\n",
       "  </thead>\n",
       "  <tbody>\n",
       "    <tr>\n",
       "      <th>0</th>\n",
       "      <td>1981-09-01</td>\n",
       "      <td>0.0</td>\n",
       "      <td>18.559999</td>\n",
       "    </tr>\n",
       "    <tr>\n",
       "      <th>1</th>\n",
       "      <td>1981-09-02</td>\n",
       "      <td>0.0</td>\n",
       "      <td>18.629999</td>\n",
       "    </tr>\n",
       "    <tr>\n",
       "      <th>2</th>\n",
       "      <td>1981-09-03</td>\n",
       "      <td>0.0</td>\n",
       "      <td>18.400000</td>\n",
       "    </tr>\n",
       "    <tr>\n",
       "      <th>3</th>\n",
       "      <td>1981-09-04</td>\n",
       "      <td>0.0</td>\n",
       "      <td>18.359999</td>\n",
       "    </tr>\n",
       "    <tr>\n",
       "      <th>4</th>\n",
       "      <td>1981-09-05</td>\n",
       "      <td>0.0</td>\n",
       "      <td>19.049999</td>\n",
       "    </tr>\n",
       "  </tbody>\n",
       "</table>\n",
       "</div>"
      ],
      "text/plain": [
       "         date  label        sst\n",
       "0  1981-09-01    0.0  18.559999\n",
       "1  1981-09-02    0.0  18.629999\n",
       "2  1981-09-03    0.0  18.400000\n",
       "3  1981-09-04    0.0  18.359999\n",
       "4  1981-09-05    0.0  19.049999"
      ]
     },
     "execution_count": 515,
     "metadata": {},
     "output_type": "execute_result"
    }
   ],
   "source": [
    "df.head()"
   ]
  },
  {
   "cell_type": "code",
   "execution_count": 516,
   "metadata": {},
   "outputs": [],
   "source": [
    "# for each day in the dataset, loop back some number of days and report the SST for that day as a new column. \n",
    "# This loop creates a new column for each of the 40 previous days\n",
    "\n",
    "look_back = pd.DataFrame()\n",
    "back_range = [i+1 for i in range(40)]\n",
    "for day in back_range:\n",
    "    sst_back = []\n",
    "    for i in range(len(df)):\n",
    "        if i-day < 0:\n",
    "            sst_back.append(0)\n",
    "        else:\n",
    "            sst_back.append(df['sst'][i-day])\n",
    "    look_back['sst-'+str(day)] = sst_back"
   ]
  },
  {
   "cell_type": "code",
   "execution_count": 517,
   "metadata": {},
   "outputs": [],
   "source": [
    "# for each day in the dataset, loop forward some number of days and check if there was a heatwave in that range\n",
    "# If there was a heatwave, in any of the next 30 days, mark the column heat_30 as 1 else 0\n",
    "# this allows prediction on a give day: will there be a heatwave in the next 30 days\n",
    "\n",
    "heat_30 = np.zeros(len(df))\n",
    "forward_range = [i for i in range(30)]\n",
    "for i in range(len(df)):\n",
    "    event = 0\n",
    "    for day in forward_range:\n",
    "        if day+i >= len(df):\n",
    "            event += 0\n",
    "        else:\n",
    "            event += df['label'][day+i]\n",
    "    if event > 0:\n",
    "        heat_30[i] = 1\n",
    "    else:\n",
    "        heat_30[i] = 0"
   ]
  },
  {
   "cell_type": "code",
   "execution_count": 518,
   "metadata": {},
   "outputs": [],
   "source": [
    "# make the heat_30 column a single column dataframe\n",
    "heat_30 = pd.DataFrame({'heat_30':heat_30})"
   ]
  },
  {
   "cell_type": "code",
   "execution_count": 519,
   "metadata": {},
   "outputs": [],
   "source": [
    "# join the labels, backward lookin SST columns, and forward looking heatwave column together on their index\n",
    "# all are the same length and in chronological order so this should work directly\n",
    "result = pd.concat([df, look_back,heat_30], axis=1, join='inner')"
   ]
  },
  {
   "cell_type": "code",
   "execution_count": 520,
   "metadata": {},
   "outputs": [
    {
     "data": {
      "text/html": [
       "<div>\n",
       "<style scoped>\n",
       "    .dataframe tbody tr th:only-of-type {\n",
       "        vertical-align: middle;\n",
       "    }\n",
       "\n",
       "    .dataframe tbody tr th {\n",
       "        vertical-align: top;\n",
       "    }\n",
       "\n",
       "    .dataframe thead th {\n",
       "        text-align: right;\n",
       "    }\n",
       "</style>\n",
       "<table border=\"1\" class=\"dataframe\">\n",
       "  <thead>\n",
       "    <tr style=\"text-align: right;\">\n",
       "      <th></th>\n",
       "      <th>date</th>\n",
       "      <th>label</th>\n",
       "      <th>sst</th>\n",
       "      <th>sst-1</th>\n",
       "      <th>sst-2</th>\n",
       "      <th>sst-3</th>\n",
       "      <th>sst-4</th>\n",
       "      <th>sst-5</th>\n",
       "      <th>sst-6</th>\n",
       "      <th>sst-7</th>\n",
       "      <th>...</th>\n",
       "      <th>sst-32</th>\n",
       "      <th>sst-33</th>\n",
       "      <th>sst-34</th>\n",
       "      <th>sst-35</th>\n",
       "      <th>sst-36</th>\n",
       "      <th>sst-37</th>\n",
       "      <th>sst-38</th>\n",
       "      <th>sst-39</th>\n",
       "      <th>sst-40</th>\n",
       "      <th>heat_30</th>\n",
       "    </tr>\n",
       "  </thead>\n",
       "  <tbody>\n",
       "    <tr>\n",
       "      <th>40</th>\n",
       "      <td>1981-10-11</td>\n",
       "      <td>0.0</td>\n",
       "      <td>19.379999</td>\n",
       "      <td>19.639999</td>\n",
       "      <td>19.730000</td>\n",
       "      <td>19.809999</td>\n",
       "      <td>19.699999</td>\n",
       "      <td>19.379999</td>\n",
       "      <td>19.279999</td>\n",
       "      <td>19.539999</td>\n",
       "      <td>...</td>\n",
       "      <td>18.379999</td>\n",
       "      <td>18.389999</td>\n",
       "      <td>19.230000</td>\n",
       "      <td>19.180000</td>\n",
       "      <td>19.049999</td>\n",
       "      <td>18.359999</td>\n",
       "      <td>18.400000</td>\n",
       "      <td>18.629999</td>\n",
       "      <td>18.559999</td>\n",
       "      <td>0.0</td>\n",
       "    </tr>\n",
       "    <tr>\n",
       "      <th>41</th>\n",
       "      <td>1981-10-12</td>\n",
       "      <td>0.0</td>\n",
       "      <td>19.330000</td>\n",
       "      <td>19.379999</td>\n",
       "      <td>19.639999</td>\n",
       "      <td>19.730000</td>\n",
       "      <td>19.809999</td>\n",
       "      <td>19.699999</td>\n",
       "      <td>19.379999</td>\n",
       "      <td>19.279999</td>\n",
       "      <td>...</td>\n",
       "      <td>18.250000</td>\n",
       "      <td>18.379999</td>\n",
       "      <td>18.389999</td>\n",
       "      <td>19.230000</td>\n",
       "      <td>19.180000</td>\n",
       "      <td>19.049999</td>\n",
       "      <td>18.359999</td>\n",
       "      <td>18.400000</td>\n",
       "      <td>18.629999</td>\n",
       "      <td>0.0</td>\n",
       "    </tr>\n",
       "    <tr>\n",
       "      <th>42</th>\n",
       "      <td>1981-10-13</td>\n",
       "      <td>0.0</td>\n",
       "      <td>19.240000</td>\n",
       "      <td>19.330000</td>\n",
       "      <td>19.379999</td>\n",
       "      <td>19.639999</td>\n",
       "      <td>19.730000</td>\n",
       "      <td>19.809999</td>\n",
       "      <td>19.699999</td>\n",
       "      <td>19.379999</td>\n",
       "      <td>...</td>\n",
       "      <td>18.410000</td>\n",
       "      <td>18.250000</td>\n",
       "      <td>18.379999</td>\n",
       "      <td>18.389999</td>\n",
       "      <td>19.230000</td>\n",
       "      <td>19.180000</td>\n",
       "      <td>19.049999</td>\n",
       "      <td>18.359999</td>\n",
       "      <td>18.400000</td>\n",
       "      <td>0.0</td>\n",
       "    </tr>\n",
       "    <tr>\n",
       "      <th>43</th>\n",
       "      <td>1981-10-14</td>\n",
       "      <td>0.0</td>\n",
       "      <td>19.879999</td>\n",
       "      <td>19.240000</td>\n",
       "      <td>19.330000</td>\n",
       "      <td>19.379999</td>\n",
       "      <td>19.639999</td>\n",
       "      <td>19.730000</td>\n",
       "      <td>19.809999</td>\n",
       "      <td>19.699999</td>\n",
       "      <td>...</td>\n",
       "      <td>18.549999</td>\n",
       "      <td>18.410000</td>\n",
       "      <td>18.250000</td>\n",
       "      <td>18.379999</td>\n",
       "      <td>18.389999</td>\n",
       "      <td>19.230000</td>\n",
       "      <td>19.180000</td>\n",
       "      <td>19.049999</td>\n",
       "      <td>18.359999</td>\n",
       "      <td>0.0</td>\n",
       "    </tr>\n",
       "    <tr>\n",
       "      <th>44</th>\n",
       "      <td>1981-10-15</td>\n",
       "      <td>0.0</td>\n",
       "      <td>20.000000</td>\n",
       "      <td>19.879999</td>\n",
       "      <td>19.240000</td>\n",
       "      <td>19.330000</td>\n",
       "      <td>19.379999</td>\n",
       "      <td>19.639999</td>\n",
       "      <td>19.730000</td>\n",
       "      <td>19.809999</td>\n",
       "      <td>...</td>\n",
       "      <td>19.629999</td>\n",
       "      <td>18.549999</td>\n",
       "      <td>18.410000</td>\n",
       "      <td>18.250000</td>\n",
       "      <td>18.379999</td>\n",
       "      <td>18.389999</td>\n",
       "      <td>19.230000</td>\n",
       "      <td>19.180000</td>\n",
       "      <td>19.049999</td>\n",
       "      <td>0.0</td>\n",
       "    </tr>\n",
       "  </tbody>\n",
       "</table>\n",
       "<p>5 rows × 44 columns</p>\n",
       "</div>"
      ],
      "text/plain": [
       "          date  label        sst      sst-1      sst-2      sst-3      sst-4  \\\n",
       "40  1981-10-11    0.0  19.379999  19.639999  19.730000  19.809999  19.699999   \n",
       "41  1981-10-12    0.0  19.330000  19.379999  19.639999  19.730000  19.809999   \n",
       "42  1981-10-13    0.0  19.240000  19.330000  19.379999  19.639999  19.730000   \n",
       "43  1981-10-14    0.0  19.879999  19.240000  19.330000  19.379999  19.639999   \n",
       "44  1981-10-15    0.0  20.000000  19.879999  19.240000  19.330000  19.379999   \n",
       "\n",
       "        sst-5      sst-6      sst-7   ...        sst-32     sst-33     sst-34  \\\n",
       "40  19.379999  19.279999  19.539999   ...     18.379999  18.389999  19.230000   \n",
       "41  19.699999  19.379999  19.279999   ...     18.250000  18.379999  18.389999   \n",
       "42  19.809999  19.699999  19.379999   ...     18.410000  18.250000  18.379999   \n",
       "43  19.730000  19.809999  19.699999   ...     18.549999  18.410000  18.250000   \n",
       "44  19.639999  19.730000  19.809999   ...     19.629999  18.549999  18.410000   \n",
       "\n",
       "       sst-35     sst-36     sst-37     sst-38     sst-39     sst-40  heat_30  \n",
       "40  19.180000  19.049999  18.359999  18.400000  18.629999  18.559999      0.0  \n",
       "41  19.230000  19.180000  19.049999  18.359999  18.400000  18.629999      0.0  \n",
       "42  18.389999  19.230000  19.180000  19.049999  18.359999  18.400000      0.0  \n",
       "43  18.379999  18.389999  19.230000  19.180000  19.049999  18.359999      0.0  \n",
       "44  18.250000  18.379999  18.389999  19.230000  19.180000  19.049999      0.0  \n",
       "\n",
       "[5 rows x 44 columns]"
      ]
     },
     "execution_count": 520,
     "metadata": {},
     "output_type": "execute_result"
    }
   ],
   "source": [
    "# drop off the first 40 and last 30 sample days\n",
    "# these have data that were artificially set to 0 and so shouldn't be included\n",
    "# dropping 70 rows shouldn't effect the overall dataset quality\n",
    "result.drop(df.index[:40], inplace=True)\n",
    "result.drop(df.index[-30:], inplace=True)\n",
    "result.head()"
   ]
  },
  {
   "cell_type": "code",
   "execution_count": 521,
   "metadata": {},
   "outputs": [
    {
     "data": {
      "text/plain": [
       "<matplotlib.axes._subplots.AxesSubplot at 0x1e9ee8000f0>"
      ]
     },
     "execution_count": 521,
     "metadata": {},
     "output_type": "execute_result"
    },
    {
     "data": {
      "image/png": "[encoded data removed]",
      "text/plain": [
       "<matplotlib.figure.Figure at 0x1e9ed845860>"
      ]
     },
     "metadata": {},
     "output_type": "display_data"
    }
   ],
   "source": [
    "# just curious, do the days correlate with each other?\n",
    "# yes they seem to\n",
    "corr = result.corr()\n",
    "sns.heatmap(corr,\n",
    "            xticklabels=corr.columns.values,\n",
    "            yticklabels=corr.columns.values)"
   ]
  },
  {
   "cell_type": "code",
   "execution_count": 534,
   "metadata": {},
   "outputs": [],
   "source": [
    "#split the data into targets and features, dropping unneeded values\n",
    "y = result['heat_30'].astype('int')\n",
    "X = result.drop(['label','sst', 'date', 'heat_30'], axis=1)"
   ]
  },
  {
   "cell_type": "code",
   "execution_count": 535,
   "metadata": {},
   "outputs": [],
   "source": [
    "#split into a training and test set, ensuring to stratify the class breakdowns between sets\n",
    "X_train, X_test, y_train, y_test = train_test_split(X, y, test_size=0.2, random_state=0, stratify=y)"
   ]
  },
  {
   "cell_type": "code",
   "execution_count": 536,
   "metadata": {},
   "outputs": [],
   "source": [
    "#instantiate a gradient boosted machine for classification\n",
    "gbm = xgb.XGBClassifier(verbose=True, subsample=0.2, n_jobs=16, n_estimators=3000)"
   ]
  },
  {
   "cell_type": "code",
   "execution_count": 537,
   "metadata": {},
   "outputs": [
    {
     "data": {
      "text/plain": [
       "XGBClassifier(base_score=0.5, booster='gbtree', colsample_bylevel=1,\n",
       "       colsample_bytree=1, gamma=0, learning_rate=0.1, max_delta_step=0,\n",
       "       max_depth=3, min_child_weight=1, missing=None, n_estimators=3000,\n",
       "       n_jobs=16, nthread=None, objective='binary:logistic',\n",
       "       random_state=0, reg_alpha=0, reg_lambda=1, scale_pos_weight=1,\n",
       "       seed=None, silent=True, subsample=0.2, verbose=True)"
      ]
     },
     "execution_count": 537,
     "metadata": {},
     "output_type": "execute_result"
    }
   ],
   "source": [
    "gbm.fit(X_train, y_train)"
   ]
  },
  {
   "cell_type": "code",
   "execution_count": 544,
   "metadata": {},
   "outputs": [],
   "source": [
    "#this is a highly class imbalanced problem, so we should experiment with different thresholds.\n",
    "#very few heatwaves will likely spike to above 50% probability, but we can catch them by lowering the probablility threshold\n",
    "#we don't want to lower it too far though, because we will catch too many false positives.\n",
    "\n",
    "threshold = 0.23\n",
    "preds = gbm.predict_proba(X_test)[:,1]\n",
    "pred = []\n",
    "for i in range(len(preds)):\n",
    "    if preds[i] > threshold:\n",
    "        pred.append(1)\n",
    "    else:\n",
    "        pred.append(0)"
   ]
  },
  {
   "cell_type": "code",
   "execution_count": 545,
   "metadata": {},
   "outputs": [
    {
     "name": "stdout",
     "output_type": "stream",
     "text": [
      "             precision    recall  f1-score   support\n",
      "\n",
      "          0       0.92      0.92      0.92      2311\n",
      "          1       0.49      0.49      0.49       362\n",
      "\n",
      "avg / total       0.86      0.86      0.86      2673\n",
      "\n",
      "[[2127  184]\n",
      " [ 186  176]]\n"
     ]
    }
   ],
   "source": [
    "#eval model performance\n",
    "print(classification_report(y_test,pred))\n",
    "print(confusion_matrix(y_test,pred))"
   ]
  },
  {
   "cell_type": "code",
   "execution_count": null,
   "metadata": {},
   "outputs": [],
   "source": [
    "# the following section should be used if you want to precision tune the gbm -------------------"
   ]
  },
  {
   "cell_type": "code",
   "execution_count": 546,
   "metadata": {},
   "outputs": [],
   "source": [
    "#parameters = {'max_depth': [4,6,8], 'n_estimators': [2000, 2500, 3000, 4000], 'learning_rate': [0.005, 0.01, 0.02, 0.03, 0.05]}"
   ]
  },
  {
   "cell_type": "code",
   "execution_count": 547,
   "metadata": {},
   "outputs": [],
   "source": [
    "#clf = GridSearchCV(gbm, parameters, cv=5, verbose=True, scoring='recall')\n",
    "#clf.fit(X_train, y_train)"
   ]
  },
  {
   "cell_type": "code",
   "execution_count": 548,
   "metadata": {},
   "outputs": [],
   "source": [
    "#preds = clf.predict(X_test)"
   ]
  },
  {
   "cell_type": "code",
   "execution_count": 549,
   "metadata": {},
   "outputs": [],
   "source": [
    "#print(classification_report(y_test,preds))\n",
    "#print(confusion_matrix(y_test,preds))"
   ]
  },
  {
   "cell_type": "code",
   "execution_count": null,
   "metadata": {},
   "outputs": [],
   "source": [
    "# end precision tuning section ----------------------"
   ]
  },
  {
   "cell_type": "code",
   "execution_count": null,
   "metadata": {},
   "outputs": [],
   "source": [
    "# try a dense NN model "
   ]
  },
  {
   "cell_type": "code",
   "execution_count": 595,
   "metadata": {},
   "outputs": [],
   "source": [
    "X_train, X_test, y_train, y_test = train_test_split(X, y, test_size=0.2, random_state=0, shuffle=False)"
   ]
  },
  {
   "cell_type": "code",
   "execution_count": 596,
   "metadata": {},
   "outputs": [],
   "source": [
    "scl = MinMaxScaler(feature_range=(-1, 1))\n",
    "X_train = scl.fit_transform(X_train)\n",
    "X_test = scl.transform(X_test)"
   ]
  },
  {
   "cell_type": "code",
   "execution_count": 597,
   "metadata": {},
   "outputs": [],
   "source": [
    "class_weight = {0: 1.,\n",
    "                1: 2.}"
   ]
  },
  {
   "cell_type": "code",
   "execution_count": 598,
   "metadata": {},
   "outputs": [],
   "source": [
    "model = Sequential()"
   ]
  },
  {
   "cell_type": "code",
   "execution_count": 599,
   "metadata": {},
   "outputs": [],
   "source": [
    "model.add(Dense(64, activation='relu', input_shape=(40,)))\n",
    "model.add(Dense(64, activation='relu'))\n",
    "model.add(Dense(1, activation='sigmoid'))"
   ]
  },
  {
   "cell_type": "code",
   "execution_count": 600,
   "metadata": {},
   "outputs": [],
   "source": [
    "model.compile(optimizer='rmsprop', loss='binary_crossentropy', metrics=['accuracy'])"
   ]
  },
  {
   "cell_type": "code",
   "execution_count": 615,
   "metadata": {},
   "outputs": [
    {
     "name": "stdout",
     "output_type": "stream",
     "text": [
      "Epoch 1/30\n",
      "10690/10690 [==============================] - 0s 8us/step - loss: 0.3222 - acc: 0.9326\n",
      "Epoch 2/30\n",
      "10690/10690 [==============================] - 0s 8us/step - loss: 0.3202 - acc: 0.9324\n",
      "Epoch 3/30\n",
      "10690/10690 [==============================] - 0s 7us/step - loss: 0.3223 - acc: 0.9318\n",
      "Epoch 4/30\n",
      "10690/10690 [==============================] - 0s 8us/step - loss: 0.3192 - acc: 0.9325\n",
      "Epoch 5/30\n",
      "10690/10690 [==============================] - 0s 8us/step - loss: 0.3187 - acc: 0.9327\n",
      "Epoch 6/30\n",
      "10690/10690 [==============================] - 0s 6us/step - loss: 0.3194 - acc: 0.9332\n",
      "Epoch 7/30\n",
      "10690/10690 [==============================] - 0s 7us/step - loss: 0.3186 - acc: 0.9327\n",
      "Epoch 8/30\n",
      "10690/10690 [==============================] - 0s 7us/step - loss: 0.3172 - acc: 0.9324\n",
      "Epoch 9/30\n",
      "10690/10690 [==============================] - 0s 7us/step - loss: 0.3172 - acc: 0.9325\n",
      "Epoch 10/30\n",
      "10690/10690 [==============================] - 0s 7us/step - loss: 0.3153 - acc: 0.9330\n",
      "Epoch 11/30\n",
      "10690/10690 [==============================] - 0s 8us/step - loss: 0.3166 - acc: 0.9340\n",
      "Epoch 12/30\n",
      "10690/10690 [==============================] - 0s 7us/step - loss: 0.3154 - acc: 0.9336\n",
      "Epoch 13/30\n",
      "10690/10690 [==============================] - 0s 7us/step - loss: 0.3141 - acc: 0.9332\n",
      "Epoch 14/30\n",
      "10690/10690 [==============================] - 0s 7us/step - loss: 0.3137 - acc: 0.9333\n",
      "Epoch 15/30\n",
      "10690/10690 [==============================] - 0s 7us/step - loss: 0.3118 - acc: 0.9347\n",
      "Epoch 16/30\n",
      "10690/10690 [==============================] - 0s 7us/step - loss: 0.3128 - acc: 0.9329\n",
      "Epoch 17/30\n",
      "10690/10690 [==============================] - 0s 7us/step - loss: 0.3074 - acc: 0.9356\n",
      "Epoch 18/30\n",
      "10690/10690 [==============================] - 0s 7us/step - loss: 0.3119 - acc: 0.9326\n",
      "Epoch 19/30\n",
      "10690/10690 [==============================] - 0s 7us/step - loss: 0.3079 - acc: 0.9354\n",
      "Epoch 20/30\n",
      "10690/10690 [==============================] - 0s 7us/step - loss: 0.3105 - acc: 0.9316\n",
      "Epoch 21/30\n",
      "10690/10690 [==============================] - 0s 7us/step - loss: 0.3098 - acc: 0.9348\n",
      "Epoch 22/30\n",
      "10690/10690 [==============================] - 0s 7us/step - loss: 0.3096 - acc: 0.9348\n",
      "Epoch 23/30\n",
      "10690/10690 [==============================] - 0s 7us/step - loss: 0.3072 - acc: 0.9348\n",
      "Epoch 24/30\n",
      "10690/10690 [==============================] - 0s 7us/step - loss: 0.3090 - acc: 0.9338\n",
      "Epoch 25/30\n",
      "10690/10690 [==============================] - 0s 7us/step - loss: 0.3068 - acc: 0.9337\n",
      "Epoch 26/30\n",
      "10690/10690 [==============================] - 0s 7us/step - loss: 0.3056 - acc: 0.9333\n",
      "Epoch 27/30\n",
      "10690/10690 [==============================] - 0s 7us/step - loss: 0.3074 - acc: 0.9338\n",
      "Epoch 28/30\n",
      "10690/10690 [==============================] - 0s 7us/step - loss: 0.3035 - acc: 0.9341\n",
      "Epoch 29/30\n",
      "10690/10690 [==============================] - 0s 7us/step - loss: 0.3041 - acc: 0.9348\n",
      "Epoch 30/30\n",
      "10690/10690 [==============================] - 0s 7us/step - loss: 0.3069 - acc: 0.9326\n"
     ]
    },
    {
     "data": {
      "text/plain": [
       "<keras.callbacks.History at 0x1e9e2762d30>"
      ]
     },
     "execution_count": 615,
     "metadata": {},
     "output_type": "execute_result"
    }
   ],
   "source": [
    "model.fit(X_train,\n",
    "         y_train,\n",
    "         epochs=30,\n",
    "         batch_size=512,\n",
    "         class_weight=class_weight)"
   ]
  },
  {
   "cell_type": "code",
   "execution_count": 616,
   "metadata": {},
   "outputs": [],
   "source": [
    "threshold = 0.2\n",
    "preds = model.predict_proba(X_test)\n",
    "pred = []\n",
    "for i in range(len(preds)):\n",
    "    if preds[i] > threshold:\n",
    "        pred.append(1)\n",
    "    else:\n",
    "        pred.append(0)"
   ]
  },
  {
   "cell_type": "code",
   "execution_count": 617,
   "metadata": {},
   "outputs": [
    {
     "name": "stdout",
     "output_type": "stream",
     "text": [
      "             precision    recall  f1-score   support\n",
      "\n",
      "          0       0.70      0.77      0.73      1675\n",
      "          1       0.53      0.44      0.48       998\n",
      "\n",
      "avg / total       0.64      0.65      0.64      2673\n",
      "\n",
      "[[1296  379]\n",
      " [ 563  435]]\n"
     ]
    }
   ],
   "source": [
    "print(classification_report(y_test,pred))\n",
    "print(confusion_matrix(y_test,pred))"
   ]
  },
  {
   "cell_type": "code",
   "execution_count": null,
   "metadata": {},
   "outputs": [],
   "source": []
  }
 ],
 "metadata": {
  "kernelspec": {
   "display_name": "Python 3",
   "language": "python",
   "name": "python3"
  },
  "language_info": {
   "codemirror_mode": {
    "name": "ipython",
    "version": 3
   },
   "file_extension": ".py",
   "mimetype": "text/x-python",
   "name": "python",
   "nbconvert_exporter": "python",
   "pygments_lexer": "ipython3",
   "version": "3.6.4"
  }
 },
 "nbformat": 4,
 "nbformat_minor": 2
}
