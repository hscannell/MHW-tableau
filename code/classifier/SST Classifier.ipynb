{
 "cells": [
  {
   "cell_type": "code",
   "execution_count": 1,
   "metadata": {},
   "outputs": [
    {
     "name": "stderr",
     "output_type": "stream",
     "text": [
      "C:\\Users\\nmannheimer\\AppData\\Local\\Continuum\\anaconda3\\lib\\site-packages\\h5py\\__init__.py:36: FutureWarning: Conversion of the second argument of issubdtype from `float` to `np.floating` is deprecated. In future, it will be treated as `np.float64 == np.dtype(float).type`.\n",
      "  from ._conv import register_converters as _register_converters\n",
      "Using TensorFlow backend.\n"
     ]
    }
   ],
   "source": [
    "%matplotlib inline\n",
    "import pandas as pd\n",
    "import numpy as np\n",
    "from netCDF4 import Dataset\n",
    "import os, time, datetime\n",
    "from datetime import date\n",
    "import matplotlib.pyplot as plt\n",
    "from sklearn.preprocessing import MinMaxScaler, StandardScaler\n",
    "from sklearn.utils import shuffle\n",
    "from keras.models import Sequential\n",
    "from keras.optimizers import SGD, Adam\n",
    "from keras.layers import Dense, LSTM, Activation, Dropout\n",
    "import xgboost as xgb\n",
    "import seaborn as sns\n",
    "from sklearn.model_selection import KFold, GridSearchCV, train_test_split, StratifiedKFold\n",
    "from sklearn.metrics import classification_report, confusion_matrix\n",
    "import warnings"
   ]
  },
  {
   "cell_type": "code",
   "execution_count": 2,
   "metadata": {},
   "outputs": [],
   "source": [
    "# it looks like XGBoost is using a library that's a bit older, silencing the deprication warning\n",
    "warnings.filterwarnings(\"ignore\")"
   ]
  },
  {
   "cell_type": "code",
   "execution_count": 3,
   "metadata": {},
   "outputs": [],
   "source": [
    "labels = pd.read_csv('data/Labels/mhwLabels_30n120w.csv')"
   ]
  },
  {
   "cell_type": "code",
   "execution_count": 4,
   "metadata": {},
   "outputs": [
    {
     "data": {
      "text/html": [
       "<div>\n",
       "<style scoped>\n",
       "    .dataframe tbody tr th:only-of-type {\n",
       "        vertical-align: middle;\n",
       "    }\n",
       "\n",
       "    .dataframe tbody tr th {\n",
       "        vertical-align: top;\n",
       "    }\n",
       "\n",
       "    .dataframe thead th {\n",
       "        text-align: right;\n",
       "    }\n",
       "</style>\n",
       "<table border=\"1\" class=\"dataframe\">\n",
       "  <thead>\n",
       "    <tr style=\"text-align: right;\">\n",
       "      <th></th>\n",
       "      <th>1981-09-01</th>\n",
       "      <th>1981-09-02</th>\n",
       "      <th>1981-09-03</th>\n",
       "      <th>1981-09-04</th>\n",
       "      <th>1981-09-05</th>\n",
       "      <th>1981-09-06</th>\n",
       "      <th>1981-09-07</th>\n",
       "      <th>1981-09-08</th>\n",
       "      <th>1981-09-09</th>\n",
       "      <th>1981-09-10</th>\n",
       "      <th>...</th>\n",
       "      <th>2018-06-02</th>\n",
       "      <th>2018-06-03</th>\n",
       "      <th>2018-06-04</th>\n",
       "      <th>2018-06-05</th>\n",
       "      <th>2018-06-06</th>\n",
       "      <th>2018-06-07</th>\n",
       "      <th>2018-06-08</th>\n",
       "      <th>2018-06-09</th>\n",
       "      <th>2018-06-10</th>\n",
       "      <th>2018-06-11</th>\n",
       "    </tr>\n",
       "  </thead>\n",
       "  <tbody>\n",
       "    <tr>\n",
       "      <th>0</th>\n",
       "      <td>0.0</td>\n",
       "      <td>0.0</td>\n",
       "      <td>0.0</td>\n",
       "      <td>0.0</td>\n",
       "      <td>0.0</td>\n",
       "      <td>0.0</td>\n",
       "      <td>0.0</td>\n",
       "      <td>0.0</td>\n",
       "      <td>0.0</td>\n",
       "      <td>0.0</td>\n",
       "      <td>...</td>\n",
       "      <td>0.0</td>\n",
       "      <td>0.0</td>\n",
       "      <td>0.0</td>\n",
       "      <td>0.0</td>\n",
       "      <td>0.0</td>\n",
       "      <td>0.0</td>\n",
       "      <td>0.0</td>\n",
       "      <td>0.0</td>\n",
       "      <td>0.0</td>\n",
       "      <td>0.0</td>\n",
       "    </tr>\n",
       "  </tbody>\n",
       "</table>\n",
       "<p>1 rows × 13433 columns</p>\n",
       "</div>"
      ],
      "text/plain": [
       "   1981-09-01  1981-09-02  1981-09-03  1981-09-04  1981-09-05  1981-09-06  \\\n",
       "0         0.0         0.0         0.0         0.0         0.0         0.0   \n",
       "\n",
       "   1981-09-07  1981-09-08  1981-09-09  1981-09-10     ...      2018-06-02  \\\n",
       "0         0.0         0.0         0.0         0.0     ...             0.0   \n",
       "\n",
       "   2018-06-03  2018-06-04  2018-06-05  2018-06-06  2018-06-07  2018-06-08  \\\n",
       "0         0.0         0.0         0.0         0.0         0.0         0.0   \n",
       "\n",
       "   2018-06-09  2018-06-10  2018-06-11  \n",
       "0         0.0         0.0         0.0  \n",
       "\n",
       "[1 rows x 13433 columns]"
      ]
     },
     "execution_count": 4,
     "metadata": {},
     "output_type": "execute_result"
    }
   ],
   "source": [
    "# labels data are currently one per column\n",
    "labels.head()"
   ]
  },
  {
   "cell_type": "code",
   "execution_count": 5,
   "metadata": {},
   "outputs": [],
   "source": [
    "# transform labels into a two column dataset with date and label\n",
    "labels = labels.melt()"
   ]
  },
  {
   "cell_type": "code",
   "execution_count": 6,
   "metadata": {},
   "outputs": [],
   "source": [
    "# give more relatable column names\n",
    "labels.rename(columns={'variable':'date','value':'label'},inplace=True)"
   ]
  },
  {
   "cell_type": "code",
   "execution_count": 7,
   "metadata": {},
   "outputs": [],
   "source": [
    "def load_data(x):\n",
    "    fp = 'data/' # <- change this to your path\n",
    "    data = Dataset(fp+x+'_'+'30n120w.nc') # reading the netCDF file and creating a dataset\n",
    "    # SST (deg-C)   \n",
    "    data = np.squeeze(data.variables[x][:])\n",
    "    # Create a python series\n",
    "    data = pd.Series(data)\n",
    "    return data"
   ]
  },
  {
   "cell_type": "code",
   "execution_count": 8,
   "metadata": {},
   "outputs": [],
   "source": [
    "sst = load_data('sst')\n",
    "rhum = load_data('rhum')\n",
    "slp = load_data('slp')\n",
    "uwnd = load_data('uwnd')\n",
    "vwnd = load_data('vwnd')\n",
    "# airt = load_data('airt')"
   ]
  },
  {
   "cell_type": "code",
   "execution_count": 9,
   "metadata": {},
   "outputs": [],
   "source": [
    "#rename\n",
    "df = labels"
   ]
  },
  {
   "cell_type": "code",
   "execution_count": 10,
   "metadata": {},
   "outputs": [],
   "source": [
    "#combine labels\n",
    "#df['airt'] = airt\n",
    "df['rhum'] = rhum \n",
    "df['slp'] = slp\n",
    "df['uwnd'] = uwnd\n",
    "df['vwnd'] = vwnd\n",
    "df['sst'] = sst"
   ]
  },
  {
   "cell_type": "code",
   "execution_count": 11,
   "metadata": {},
   "outputs": [
    {
     "data": {
      "text/html": [
       "<div>\n",
       "<style scoped>\n",
       "    .dataframe tbody tr th:only-of-type {\n",
       "        vertical-align: middle;\n",
       "    }\n",
       "\n",
       "    .dataframe tbody tr th {\n",
       "        vertical-align: top;\n",
       "    }\n",
       "\n",
       "    .dataframe thead th {\n",
       "        text-align: right;\n",
       "    }\n",
       "</style>\n",
       "<table border=\"1\" class=\"dataframe\">\n",
       "  <thead>\n",
       "    <tr style=\"text-align: right;\">\n",
       "      <th></th>\n",
       "      <th>date</th>\n",
       "      <th>label</th>\n",
       "      <th>rhum</th>\n",
       "      <th>slp</th>\n",
       "      <th>uwnd</th>\n",
       "      <th>vwnd</th>\n",
       "      <th>sst</th>\n",
       "    </tr>\n",
       "  </thead>\n",
       "  <tbody>\n",
       "    <tr>\n",
       "      <th>0</th>\n",
       "      <td>1981-09-01</td>\n",
       "      <td>0.0</td>\n",
       "      <td>84.990005</td>\n",
       "      <td>1015.040039</td>\n",
       "      <td>1.169998</td>\n",
       "      <td>-4.580002</td>\n",
       "      <td>18.559999</td>\n",
       "    </tr>\n",
       "    <tr>\n",
       "      <th>1</th>\n",
       "      <td>1981-09-02</td>\n",
       "      <td>0.0</td>\n",
       "      <td>91.850006</td>\n",
       "      <td>1017.150024</td>\n",
       "      <td>-0.680008</td>\n",
       "      <td>-1.699997</td>\n",
       "      <td>18.629999</td>\n",
       "    </tr>\n",
       "    <tr>\n",
       "      <th>2</th>\n",
       "      <td>1981-09-03</td>\n",
       "      <td>0.0</td>\n",
       "      <td>73.580002</td>\n",
       "      <td>1019.500000</td>\n",
       "      <td>3.520004</td>\n",
       "      <td>-4.690002</td>\n",
       "      <td>18.400000</td>\n",
       "    </tr>\n",
       "    <tr>\n",
       "      <th>3</th>\n",
       "      <td>1981-09-04</td>\n",
       "      <td>0.0</td>\n",
       "      <td>67.819992</td>\n",
       "      <td>1018.970032</td>\n",
       "      <td>0.319992</td>\n",
       "      <td>-6.910004</td>\n",
       "      <td>18.359999</td>\n",
       "    </tr>\n",
       "    <tr>\n",
       "      <th>4</th>\n",
       "      <td>1981-09-05</td>\n",
       "      <td>0.0</td>\n",
       "      <td>80.850006</td>\n",
       "      <td>1015.100037</td>\n",
       "      <td>-2.059998</td>\n",
       "      <td>-4.330002</td>\n",
       "      <td>19.049999</td>\n",
       "    </tr>\n",
       "  </tbody>\n",
       "</table>\n",
       "</div>"
      ],
      "text/plain": [
       "         date  label       rhum          slp      uwnd      vwnd        sst\n",
       "0  1981-09-01    0.0  84.990005  1015.040039  1.169998 -4.580002  18.559999\n",
       "1  1981-09-02    0.0  91.850006  1017.150024 -0.680008 -1.699997  18.629999\n",
       "2  1981-09-03    0.0  73.580002  1019.500000  3.520004 -4.690002  18.400000\n",
       "3  1981-09-04    0.0  67.819992  1018.970032  0.319992 -6.910004  18.359999\n",
       "4  1981-09-05    0.0  80.850006  1015.100037 -2.059998 -4.330002  19.049999"
      ]
     },
     "execution_count": 11,
     "metadata": {},
     "output_type": "execute_result"
    }
   ],
   "source": [
    "df.head()"
   ]
  },
  {
   "cell_type": "code",
   "execution_count": 12,
   "metadata": {},
   "outputs": [],
   "source": [
    "# for each day in the dataset, loop back some number of days and report the SST for that day as a new column. \n",
    "# This loop creates a new column for each of the 40 previous days\n",
    "\n",
    "look_back = pd.DataFrame()\n",
    "back_range = [i+1 for i in range(40)]\n",
    "for feat in ['rhum','slp','sst','uwnd','vwnd']:\n",
    "    for day in back_range:\n",
    "        sst_back = []\n",
    "        for i in range(len(df)):\n",
    "            if i-day < 0:\n",
    "                sst_back.append(0)\n",
    "            else:\n",
    "                sst_back.append(df[feat][i-day])\n",
    "        look_back[feat+'-'+str(day)] = sst_back"
   ]
  },
  {
   "cell_type": "code",
   "execution_count": 13,
   "metadata": {},
   "outputs": [],
   "source": [
    "# for each day in the dataset, loop forward some number of days and check if there was a heatwave in that range\n",
    "# If there was a heatwave, in any of the next 30 days, mark the column heat_30 as 1 else 0\n",
    "# this allows prediction on a give day: will there be a heatwave in the next 30 days\n",
    "\n",
    "heat_30 = np.zeros(len(df))\n",
    "forward_range = [i for i in range(30)]\n",
    "for i in range(len(df)):\n",
    "    event = 0\n",
    "    for day in forward_range:\n",
    "        if day+i >= len(df):\n",
    "            event += 0\n",
    "        else:\n",
    "            event += df['label'][day+i]\n",
    "    if event > 0:\n",
    "        heat_30[i] = 1\n",
    "    else:\n",
    "        heat_30[i] = 0"
   ]
  },
  {
   "cell_type": "code",
   "execution_count": 14,
   "metadata": {},
   "outputs": [],
   "source": [
    "# make the heat_30 column a single column dataframe\n",
    "heat_30 = pd.DataFrame({'heat_30':heat_30})"
   ]
  },
  {
   "cell_type": "code",
   "execution_count": 15,
   "metadata": {},
   "outputs": [],
   "source": [
    "# join the labels, backward lookin SST columns, and forward looking heatwave column together on their index\n",
    "# all are the same length and in chronological order so this should work directly\n",
    "result = pd.concat([df, look_back,heat_30], axis=1, join='inner')"
   ]
  },
  {
   "cell_type": "code",
   "execution_count": 16,
   "metadata": {},
   "outputs": [
    {
     "data": {
      "text/html": [
       "<div>\n",
       "<style scoped>\n",
       "    .dataframe tbody tr th:only-of-type {\n",
       "        vertical-align: middle;\n",
       "    }\n",
       "\n",
       "    .dataframe tbody tr th {\n",
       "        vertical-align: top;\n",
       "    }\n",
       "\n",
       "    .dataframe thead th {\n",
       "        text-align: right;\n",
       "    }\n",
       "</style>\n",
       "<table border=\"1\" class=\"dataframe\">\n",
       "  <thead>\n",
       "    <tr style=\"text-align: right;\">\n",
       "      <th></th>\n",
       "      <th>date</th>\n",
       "      <th>label</th>\n",
       "      <th>rhum</th>\n",
       "      <th>slp</th>\n",
       "      <th>uwnd</th>\n",
       "      <th>vwnd</th>\n",
       "      <th>sst</th>\n",
       "      <th>rhum-1</th>\n",
       "      <th>rhum-2</th>\n",
       "      <th>rhum-3</th>\n",
       "      <th>...</th>\n",
       "      <th>vwnd-32</th>\n",
       "      <th>vwnd-33</th>\n",
       "      <th>vwnd-34</th>\n",
       "      <th>vwnd-35</th>\n",
       "      <th>vwnd-36</th>\n",
       "      <th>vwnd-37</th>\n",
       "      <th>vwnd-38</th>\n",
       "      <th>vwnd-39</th>\n",
       "      <th>vwnd-40</th>\n",
       "      <th>heat_30</th>\n",
       "    </tr>\n",
       "  </thead>\n",
       "  <tbody>\n",
       "    <tr>\n",
       "      <th>40</th>\n",
       "      <td>1981-10-11</td>\n",
       "      <td>0.0</td>\n",
       "      <td>84.729996</td>\n",
       "      <td>1015.790039</td>\n",
       "      <td>4.779999</td>\n",
       "      <td>-2.029999</td>\n",
       "      <td>19.379999</td>\n",
       "      <td>85.160004</td>\n",
       "      <td>88.789993</td>\n",
       "      <td>79.500000</td>\n",
       "      <td>...</td>\n",
       "      <td>-1.650009</td>\n",
       "      <td>-3.550003</td>\n",
       "      <td>-6.050003</td>\n",
       "      <td>-2.430008</td>\n",
       "      <td>-4.330002</td>\n",
       "      <td>-6.910004</td>\n",
       "      <td>-4.690002</td>\n",
       "      <td>-1.699997</td>\n",
       "      <td>-4.580002</td>\n",
       "      <td>0.0</td>\n",
       "    </tr>\n",
       "    <tr>\n",
       "      <th>41</th>\n",
       "      <td>1981-10-12</td>\n",
       "      <td>0.0</td>\n",
       "      <td>92.360001</td>\n",
       "      <td>1019.369995</td>\n",
       "      <td>-0.470001</td>\n",
       "      <td>-2.399994</td>\n",
       "      <td>19.330000</td>\n",
       "      <td>84.729996</td>\n",
       "      <td>85.160004</td>\n",
       "      <td>88.789993</td>\n",
       "      <td>...</td>\n",
       "      <td>-2.270004</td>\n",
       "      <td>-1.650009</td>\n",
       "      <td>-3.550003</td>\n",
       "      <td>-6.050003</td>\n",
       "      <td>-2.430008</td>\n",
       "      <td>-4.330002</td>\n",
       "      <td>-6.910004</td>\n",
       "      <td>-4.690002</td>\n",
       "      <td>-1.699997</td>\n",
       "      <td>0.0</td>\n",
       "    </tr>\n",
       "    <tr>\n",
       "      <th>42</th>\n",
       "      <td>1981-10-13</td>\n",
       "      <td>0.0</td>\n",
       "      <td>87.369995</td>\n",
       "      <td>1019.750000</td>\n",
       "      <td>-0.500000</td>\n",
       "      <td>-3.750000</td>\n",
       "      <td>19.240000</td>\n",
       "      <td>92.360001</td>\n",
       "      <td>84.729996</td>\n",
       "      <td>85.160004</td>\n",
       "      <td>...</td>\n",
       "      <td>-1.509995</td>\n",
       "      <td>-2.270004</td>\n",
       "      <td>-1.650009</td>\n",
       "      <td>-3.550003</td>\n",
       "      <td>-6.050003</td>\n",
       "      <td>-2.430008</td>\n",
       "      <td>-4.330002</td>\n",
       "      <td>-6.910004</td>\n",
       "      <td>-4.690002</td>\n",
       "      <td>0.0</td>\n",
       "    </tr>\n",
       "    <tr>\n",
       "      <th>43</th>\n",
       "      <td>1981-10-14</td>\n",
       "      <td>0.0</td>\n",
       "      <td>84.360001</td>\n",
       "      <td>1019.430054</td>\n",
       "      <td>1.440002</td>\n",
       "      <td>-4.029999</td>\n",
       "      <td>19.879999</td>\n",
       "      <td>87.369995</td>\n",
       "      <td>92.360001</td>\n",
       "      <td>84.729996</td>\n",
       "      <td>...</td>\n",
       "      <td>0.589996</td>\n",
       "      <td>-1.509995</td>\n",
       "      <td>-2.270004</td>\n",
       "      <td>-1.650009</td>\n",
       "      <td>-3.550003</td>\n",
       "      <td>-6.050003</td>\n",
       "      <td>-2.430008</td>\n",
       "      <td>-4.330002</td>\n",
       "      <td>-6.910004</td>\n",
       "      <td>0.0</td>\n",
       "    </tr>\n",
       "    <tr>\n",
       "      <th>44</th>\n",
       "      <td>1981-10-15</td>\n",
       "      <td>0.0</td>\n",
       "      <td>85.839996</td>\n",
       "      <td>1022.210022</td>\n",
       "      <td>3.990005</td>\n",
       "      <td>-2.430008</td>\n",
       "      <td>20.000000</td>\n",
       "      <td>84.360001</td>\n",
       "      <td>87.369995</td>\n",
       "      <td>92.360001</td>\n",
       "      <td>...</td>\n",
       "      <td>-0.139999</td>\n",
       "      <td>0.589996</td>\n",
       "      <td>-1.509995</td>\n",
       "      <td>-2.270004</td>\n",
       "      <td>-1.650009</td>\n",
       "      <td>-3.550003</td>\n",
       "      <td>-6.050003</td>\n",
       "      <td>-2.430008</td>\n",
       "      <td>-4.330002</td>\n",
       "      <td>0.0</td>\n",
       "    </tr>\n",
       "  </tbody>\n",
       "</table>\n",
       "<p>5 rows × 208 columns</p>\n",
       "</div>"
      ],
      "text/plain": [
       "          date  label       rhum          slp      uwnd      vwnd        sst  \\\n",
       "40  1981-10-11    0.0  84.729996  1015.790039  4.779999 -2.029999  19.379999   \n",
       "41  1981-10-12    0.0  92.360001  1019.369995 -0.470001 -2.399994  19.330000   \n",
       "42  1981-10-13    0.0  87.369995  1019.750000 -0.500000 -3.750000  19.240000   \n",
       "43  1981-10-14    0.0  84.360001  1019.430054  1.440002 -4.029999  19.879999   \n",
       "44  1981-10-15    0.0  85.839996  1022.210022  3.990005 -2.430008  20.000000   \n",
       "\n",
       "       rhum-1     rhum-2     rhum-3   ...      vwnd-32   vwnd-33   vwnd-34  \\\n",
       "40  85.160004  88.789993  79.500000   ...    -1.650009 -3.550003 -6.050003   \n",
       "41  84.729996  85.160004  88.789993   ...    -2.270004 -1.650009 -3.550003   \n",
       "42  92.360001  84.729996  85.160004   ...    -1.509995 -2.270004 -1.650009   \n",
       "43  87.369995  92.360001  84.729996   ...     0.589996 -1.509995 -2.270004   \n",
       "44  84.360001  87.369995  92.360001   ...    -0.139999  0.589996 -1.509995   \n",
       "\n",
       "     vwnd-35   vwnd-36   vwnd-37   vwnd-38   vwnd-39   vwnd-40  heat_30  \n",
       "40 -2.430008 -4.330002 -6.910004 -4.690002 -1.699997 -4.580002      0.0  \n",
       "41 -6.050003 -2.430008 -4.330002 -6.910004 -4.690002 -1.699997      0.0  \n",
       "42 -3.550003 -6.050003 -2.430008 -4.330002 -6.910004 -4.690002      0.0  \n",
       "43 -1.650009 -3.550003 -6.050003 -2.430008 -4.330002 -6.910004      0.0  \n",
       "44 -2.270004 -1.650009 -3.550003 -6.050003 -2.430008 -4.330002      0.0  \n",
       "\n",
       "[5 rows x 208 columns]"
      ]
     },
     "execution_count": 16,
     "metadata": {},
     "output_type": "execute_result"
    }
   ],
   "source": [
    "# drop off the first 40 and last 30 sample days\n",
    "# these have data that were artificially set to 0 and so shouldn't be included\n",
    "# dropping 70 rows shouldn't effect the overall dataset quality\n",
    "result.drop(df.index[:40], inplace=True)\n",
    "result.drop(df.index[-30:], inplace=True)\n",
    "result.head()"
   ]
  },
  {
   "cell_type": "code",
   "execution_count": 17,
   "metadata": {},
   "outputs": [
    {
     "data": {
      "text/plain": [
       "<matplotlib.axes._subplots.AxesSubplot at 0x1dd8004a2b0>"
      ]
     },
     "execution_count": 17,
     "metadata": {},
     "output_type": "execute_result"
    },
    {
     "data": {
      "image/png": "[encoded data removed]",
      "text/plain": [
       "<matplotlib.figure.Figure at 0x1ddfa0a44a8>"
      ]
     },
     "metadata": {},
     "output_type": "display_data"
    }
   ],
   "source": [
    "# just curious, do the days correlate with each other?\n",
    "# yes they seem to\n",
    "corr = result.corr()\n",
    "sns.heatmap(corr,\n",
    "            xticklabels=corr.columns.values,\n",
    "            yticklabels=corr.columns.values)"
   ]
  },
  {
   "cell_type": "code",
   "execution_count": 18,
   "metadata": {},
   "outputs": [],
   "source": [
    "#split the data into targets and features, dropping unneeded values\n",
    "y = result['heat_30'].astype('int')\n",
    "X = result.drop(['label','sst', 'date', 'heat_30','rhum','slp','uwnd','vwnd'], axis=1)"
   ]
  },
  {
   "cell_type": "code",
   "execution_count": 19,
   "metadata": {},
   "outputs": [],
   "source": [
    "X = np.nan_to_num(X)"
   ]
  },
  {
   "cell_type": "code",
   "execution_count": 20,
   "metadata": {},
   "outputs": [],
   "source": [
    "#split into a training and test set, ensuring to stratify the class breakdowns between sets\n",
    "X_train, X_test, y_train, y_test = train_test_split(X, y, test_size=0.2, random_state=0, stratify=y)"
   ]
  },
  {
   "cell_type": "code",
   "execution_count": 21,
   "metadata": {},
   "outputs": [],
   "source": [
    "#instantiate a gradient boosted machine for classification\n",
    "gbm = xgb.XGBClassifier(verbose=True, subsample=0.2, n_jobs=4, n_estimators=3000)"
   ]
  },
  {
   "cell_type": "code",
   "execution_count": 22,
   "metadata": {},
   "outputs": [
    {
     "data": {
      "text/plain": [
       "XGBClassifier(base_score=0.5, booster='gbtree', colsample_bylevel=1,\n",
       "       colsample_bytree=1, gamma=0, learning_rate=0.1, max_delta_step=0,\n",
       "       max_depth=3, min_child_weight=1, missing=None, n_estimators=3000,\n",
       "       n_jobs=4, nthread=None, objective='binary:logistic', random_state=0,\n",
       "       reg_alpha=0, reg_lambda=1, scale_pos_weight=1, seed=None,\n",
       "       silent=True, subsample=0.2, verbose=True)"
      ]
     },
     "execution_count": 22,
     "metadata": {},
     "output_type": "execute_result"
    }
   ],
   "source": [
    "gbm.fit(X_train, y_train)"
   ]
  },
  {
   "cell_type": "code",
   "execution_count": 23,
   "metadata": {},
   "outputs": [],
   "source": [
    "#this is a highly class imbalanced problem, so we should experiment with different thresholds.\n",
    "#very few heatwaves will likely spike to above 50% probability, but we can catch them by lowering the probablility threshold\n",
    "#we don't want to lower it too far though, because we will catch too many false positives.\n",
    "\n",
    "threshold = 0.3\n",
    "preds = gbm.predict_proba(X_test)[:,1]\n",
    "pred = []\n",
    "for i in range(len(preds)):\n",
    "    if preds[i] > threshold:\n",
    "        pred.append(1)\n",
    "    else:\n",
    "        pred.append(0)"
   ]
  },
  {
   "cell_type": "code",
   "execution_count": 24,
   "metadata": {},
   "outputs": [
    {
     "name": "stdout",
     "output_type": "stream",
     "text": [
      "             precision    recall  f1-score   support\n",
      "\n",
      "          0       0.95      0.97      0.96      2311\n",
      "          1       0.81      0.70      0.75       362\n",
      "\n",
      "avg / total       0.93      0.94      0.93      2673\n",
      "\n",
      "[[2250   61]\n",
      " [ 110  252]]\n"
     ]
    }
   ],
   "source": [
    "#eval model performance\n",
    "print(classification_report(y_test,pred))\n",
    "print(confusion_matrix(y_test,pred))"
   ]
  },
  {
   "cell_type": "code",
   "execution_count": 42,
   "metadata": {},
   "outputs": [],
   "source": [
    "all_pred = pd.DataFrame({'pred':gbm.predict(X),'proba':gbm.predict_proba(X)[:,1]})\n",
    "result = pd.concat([labels, all_pred], axis=1, join='inner')\n",
    "result.to_csv('output.csv')"
   ]
  },
  {
   "cell_type": "code",
   "execution_count": null,
   "metadata": {
    "collapsed": true
   },
   "outputs": [],
   "source": [
    "# the following section should be used if you want to precision tune the gbm -------------------"
   ]
  },
  {
   "cell_type": "code",
   "execution_count": null,
   "metadata": {
    "collapsed": true
   },
   "outputs": [],
   "source": [
    "#parameters = {'max_depth': [4,6,8], 'n_estimators': [2000, 2500, 3000, 4000], 'learning_rate': [0.005, 0.01, 0.02, 0.03, 0.05]}"
   ]
  },
  {
   "cell_type": "code",
   "execution_count": null,
   "metadata": {
    "collapsed": true
   },
   "outputs": [],
   "source": [
    "#clf = GridSearchCV(gbm, parameters, cv=5, verbose=True, scoring='recall')\n",
    "#clf.fit(X_train, y_train)"
   ]
  },
  {
   "cell_type": "code",
   "execution_count": null,
   "metadata": {
    "collapsed": true
   },
   "outputs": [],
   "source": [
    "#preds = clf.predict(X_test)"
   ]
  },
  {
   "cell_type": "code",
   "execution_count": null,
   "metadata": {
    "collapsed": true
   },
   "outputs": [],
   "source": [
    "#print(classification_report(y_test,preds))\n",
    "#print(confusion_matrix(y_test,preds))"
   ]
  },
  {
   "cell_type": "code",
   "execution_count": null,
   "metadata": {
    "collapsed": true
   },
   "outputs": [],
   "source": [
    "# end precision tuning section ----------------------"
   ]
  },
  {
   "cell_type": "code",
   "execution_count": null,
   "metadata": {
    "collapsed": true
   },
   "outputs": [],
   "source": [
    "# try a dense NN model "
   ]
  },
  {
   "cell_type": "code",
   "execution_count": 43,
   "metadata": {},
   "outputs": [],
   "source": [
    "X_train, X_test, y_train, y_test = train_test_split(X, y, test_size=0.2, random_state=0, shuffle=False)"
   ]
  },
  {
   "cell_type": "code",
   "execution_count": 44,
   "metadata": {},
   "outputs": [],
   "source": [
    "scl = MinMaxScaler(feature_range=(-1, 1))\n",
    "X_train = scl.fit_transform(X_train)\n",
    "X_test = scl.transform(X_test)"
   ]
  },
  {
   "cell_type": "code",
   "execution_count": 45,
   "metadata": {},
   "outputs": [],
   "source": [
    "class_weight = {0: 1.,\n",
    "                1: 5.}"
   ]
  },
  {
   "cell_type": "code",
   "execution_count": 46,
   "metadata": {},
   "outputs": [],
   "source": [
    "model = Sequential()"
   ]
  },
  {
   "cell_type": "code",
   "execution_count": 47,
   "metadata": {},
   "outputs": [],
   "source": [
    "model.add(Dense(256, activation='relu', input_shape=(200,)))\n",
    "model.add(Dense(200, activation='relu'))\n",
    "model.add(Dense(1, activation='sigmoid'))"
   ]
  },
  {
   "cell_type": "code",
   "execution_count": 48,
   "metadata": {},
   "outputs": [],
   "source": [
    "model.compile(optimizer='rmsprop', loss='binary_crossentropy', metrics=['accuracy'])"
   ]
  },
  {
   "cell_type": "code",
   "execution_count": 49,
   "metadata": {},
   "outputs": [
    {
     "name": "stdout",
     "output_type": "stream",
     "text": [
      "Epoch 1/50\n",
      "10690/10690 [==============================] - 0s 34us/step - loss: 0.6804 - acc: 0.8781\n",
      "Epoch 2/50\n",
      "10690/10690 [==============================] - 0s 12us/step - loss: 0.5690 - acc: 0.8806\n",
      "Epoch 3/50\n",
      "10690/10690 [==============================] - 0s 12us/step - loss: 0.5266 - acc: 0.8862\n",
      "Epoch 4/50\n",
      "10690/10690 [==============================] - 0s 12us/step - loss: 0.4896 - acc: 0.8832\n",
      "Epoch 5/50\n",
      "10690/10690 [==============================] - 0s 11us/step - loss: 0.4617 - acc: 0.8848\n",
      "Epoch 6/50\n",
      "10690/10690 [==============================] - 0s 11us/step - loss: 0.4316 - acc: 0.8951\n",
      "Epoch 7/50\n",
      "10690/10690 [==============================] - 0s 10us/step - loss: 0.3904 - acc: 0.9061\n",
      "Epoch 8/50\n",
      "10690/10690 [==============================] - 0s 10us/step - loss: 0.3630 - acc: 0.9090\n",
      "Epoch 9/50\n",
      "10690/10690 [==============================] - 0s 10us/step - loss: 0.3493 - acc: 0.9119\n",
      "Epoch 10/50\n",
      "10690/10690 [==============================] - 0s 10us/step - loss: 0.3268 - acc: 0.9151\n",
      "Epoch 11/50\n",
      "10690/10690 [==============================] - 0s 10us/step - loss: 0.2848 - acc: 0.9315\n",
      "Epoch 12/50\n",
      "10690/10690 [==============================] - 0s 10us/step - loss: 0.2874 - acc: 0.9247\n",
      "Epoch 13/50\n",
      "10690/10690 [==============================] - 0s 11us/step - loss: 0.2645 - acc: 0.9358\n",
      "Epoch 14/50\n",
      "10690/10690 [==============================] - 0s 10us/step - loss: 0.2466 - acc: 0.9377\n",
      "Epoch 15/50\n",
      "10690/10690 [==============================] - 0s 10us/step - loss: 0.2240 - acc: 0.9442\n",
      "Epoch 16/50\n",
      "10690/10690 [==============================] - 0s 10us/step - loss: 0.2057 - acc: 0.9523\n",
      "Epoch 17/50\n",
      "10690/10690 [==============================] - 0s 10us/step - loss: 0.2005 - acc: 0.9480\n",
      "Epoch 18/50\n",
      "10690/10690 [==============================] - 0s 10us/step - loss: 0.1806 - acc: 0.9573\n",
      "Epoch 19/50\n",
      "10690/10690 [==============================] - 0s 10us/step - loss: 0.1577 - acc: 0.9673\n",
      "Epoch 20/50\n",
      "10690/10690 [==============================] - 0s 10us/step - loss: 0.1523 - acc: 0.9589\n",
      "Epoch 21/50\n",
      "10690/10690 [==============================] - 0s 10us/step - loss: 0.1415 - acc: 0.9656\n",
      "Epoch 22/50\n",
      "10690/10690 [==============================] - 0s 10us/step - loss: 0.1207 - acc: 0.9724\n",
      "Epoch 23/50\n",
      "10690/10690 [==============================] - 0s 10us/step - loss: 0.1201 - acc: 0.9708\n",
      "Epoch 24/50\n",
      "10690/10690 [==============================] - 0s 10us/step - loss: 0.1010 - acc: 0.9761\n",
      "Epoch 25/50\n",
      "10690/10690 [==============================] - 0s 10us/step - loss: 0.1096 - acc: 0.9750\n",
      "Epoch 26/50\n",
      "10690/10690 [==============================] - 0s 10us/step - loss: 0.0926 - acc: 0.9784\n",
      "Epoch 27/50\n",
      "10690/10690 [==============================] - 0s 10us/step - loss: 0.0914 - acc: 0.9779\n",
      "Epoch 28/50\n",
      "10690/10690 [==============================] - 0s 10us/step - loss: 0.0853 - acc: 0.9804\n",
      "Epoch 29/50\n",
      "10690/10690 [==============================] - 0s 10us/step - loss: 0.0890 - acc: 0.9804\n",
      "Epoch 30/50\n",
      "10690/10690 [==============================] - 0s 10us/step - loss: 0.0502 - acc: 0.9903\n",
      "Epoch 31/50\n",
      "10690/10690 [==============================] - 0s 10us/step - loss: 0.0811 - acc: 0.9808\n",
      "Epoch 32/50\n",
      "10690/10690 [==============================] - 0s 10us/step - loss: 0.1024 - acc: 0.9801\n",
      "Epoch 33/50\n",
      "10690/10690 [==============================] - 0s 10us/step - loss: 0.0285 - acc: 0.9973\n",
      "Epoch 34/50\n",
      "10690/10690 [==============================] - 0s 10us/step - loss: 0.0685 - acc: 0.9864\n",
      "Epoch 35/50\n",
      "10690/10690 [==============================] - 0s 10us/step - loss: 0.0699 - acc: 0.9834\n",
      "Epoch 36/50\n",
      "10690/10690 [==============================] - 0s 10us/step - loss: 0.0211 - acc: 0.9982\n",
      "Epoch 37/50\n",
      "10690/10690 [==============================] - 0s 10us/step - loss: 0.0906 - acc: 0.9804\n",
      "Epoch 38/50\n",
      "10690/10690 [==============================] - 0s 10us/step - loss: 0.0174 - acc: 0.9990\n",
      "Epoch 39/50\n",
      "10690/10690 [==============================] - 0s 10us/step - loss: 0.0549 - acc: 0.9862\n",
      "Epoch 40/50\n",
      "10690/10690 [==============================] - 0s 10us/step - loss: 0.0498 - acc: 0.9891\n",
      "Epoch 41/50\n",
      "10690/10690 [==============================] - 0s 10us/step - loss: 0.0679 - acc: 0.9882\n",
      "Epoch 42/50\n",
      "10690/10690 [==============================] - 0s 10us/step - loss: 0.0123 - acc: 0.9990\n",
      "Epoch 43/50\n",
      "10690/10690 [==============================] - 0s 10us/step - loss: 0.0634 - acc: 0.9879\n",
      "Epoch 44/50\n",
      "10690/10690 [==============================] - 0s 10us/step - loss: 0.0092 - acc: 0.9997\n",
      "Epoch 45/50\n",
      "10690/10690 [==============================] - 0s 10us/step - loss: 0.0676 - acc: 0.9857\n",
      "Epoch 46/50\n",
      "10690/10690 [==============================] - 0s 10us/step - loss: 0.0079 - acc: 0.9998\n",
      "Epoch 47/50\n",
      "10690/10690 [==============================] - 0s 10us/step - loss: 0.0606 - acc: 0.9885\n",
      "Epoch 48/50\n",
      "10690/10690 [==============================] - 0s 10us/step - loss: 0.0064 - acc: 0.9999\n",
      "Epoch 49/50\n",
      "10690/10690 [==============================] - 0s 10us/step - loss: 0.0626 - acc: 0.9873\n",
      "Epoch 50/50\n",
      "10690/10690 [==============================] - 0s 10us/step - loss: 0.0057 - acc: 0.9999\n"
     ]
    },
    {
     "data": {
      "text/plain": [
       "<keras.callbacks.History at 0x1dd819d5160>"
      ]
     },
     "execution_count": 49,
     "metadata": {},
     "output_type": "execute_result"
    }
   ],
   "source": [
    "model.fit(X_train,\n",
    "         y_train,\n",
    "         epochs=50,\n",
    "         batch_size=512,\n",
    "         class_weight=class_weight)"
   ]
  },
  {
   "cell_type": "code",
   "execution_count": 50,
   "metadata": {},
   "outputs": [],
   "source": [
    "threshold = 0.2\n",
    "preds = model.predict_proba(X_test)\n",
    "pred = []\n",
    "for i in range(len(preds)):\n",
    "    if preds[i] > threshold:\n",
    "        pred.append(1)\n",
    "    else:\n",
    "        pred.append(0)"
   ]
  },
  {
   "cell_type": "code",
   "execution_count": 51,
   "metadata": {},
   "outputs": [
    {
     "name": "stdout",
     "output_type": "stream",
     "text": [
      "             precision    recall  f1-score   support\n",
      "\n",
      "          0       0.75      0.93      0.83      1675\n",
      "          1       0.80      0.49      0.61       998\n",
      "\n",
      "avg / total       0.77      0.76      0.75      2673\n",
      "\n",
      "[[1554  121]\n",
      " [ 508  490]]\n"
     ]
    }
   ],
   "source": [
    "print(classification_report(y_test,pred))\n",
    "print(confusion_matrix(y_test,pred))"
   ]
  },
  {
   "cell_type": "code",
   "execution_count": 55,
   "metadata": {},
   "outputs": [],
   "source": [
    "X_scl = scl.transform(X)"
   ]
  },
  {
   "cell_type": "code",
   "execution_count": 57,
   "metadata": {},
   "outputs": [
    {
     "ename": "TypeError",
     "evalue": "Index(...) must be called with a collection of some kind, True was passed",
     "output_type": "error",
     "traceback": [
      "\u001b[1;31m---------------------------------------------------------------------------\u001b[0m",
      "\u001b[1;31mTypeError\u001b[0m                                 Traceback (most recent call last)",
      "\u001b[1;32m<ipython-input-57-9ae0bc3c8473>\u001b[0m in \u001b[0;36m<module>\u001b[1;34m()\u001b[0m\n\u001b[1;32m----> 1\u001b[1;33m \u001b[0mall_pred\u001b[0m \u001b[1;33m=\u001b[0m \u001b[0mpd\u001b[0m\u001b[1;33m.\u001b[0m\u001b[0mDataFrame\u001b[0m\u001b[1;33m(\u001b[0m\u001b[1;33m{\u001b[0m\u001b[1;34m'pred'\u001b[0m\u001b[1;33m:\u001b[0m\u001b[0mmodel\u001b[0m\u001b[1;33m.\u001b[0m\u001b[0mpredict\u001b[0m\u001b[1;33m(\u001b[0m\u001b[0mX_scl\u001b[0m\u001b[1;33m)\u001b[0m\u001b[1;33m,\u001b[0m\u001b[1;34m'proba'\u001b[0m\u001b[1;33m:\u001b[0m\u001b[0mmodel\u001b[0m\u001b[1;33m.\u001b[0m\u001b[0mpredict_proba\u001b[0m\u001b[1;33m(\u001b[0m\u001b[0mX_scl\u001b[0m\u001b[1;33m)\u001b[0m\u001b[1;33m}\u001b[0m\u001b[1;33m,\u001b[0m \u001b[0mindex\u001b[0m\u001b[1;33m=\u001b[0m\u001b[1;32mTrue\u001b[0m\u001b[1;33m)\u001b[0m\u001b[1;33m\u001b[0m\u001b[0m\n\u001b[0m\u001b[0;32m      2\u001b[0m \u001b[0mresult\u001b[0m \u001b[1;33m=\u001b[0m \u001b[0mpd\u001b[0m\u001b[1;33m.\u001b[0m\u001b[0mconcat\u001b[0m\u001b[1;33m(\u001b[0m\u001b[1;33m[\u001b[0m\u001b[0mlabels\u001b[0m\u001b[1;33m,\u001b[0m \u001b[0mall_pred\u001b[0m\u001b[1;33m]\u001b[0m\u001b[1;33m,\u001b[0m \u001b[0maxis\u001b[0m\u001b[1;33m=\u001b[0m\u001b[1;36m1\u001b[0m\u001b[1;33m,\u001b[0m \u001b[0mjoin\u001b[0m\u001b[1;33m=\u001b[0m\u001b[1;34m'inner'\u001b[0m\u001b[1;33m)\u001b[0m\u001b[1;33m\u001b[0m\u001b[0m\n\u001b[0;32m      3\u001b[0m \u001b[0mresult\u001b[0m\u001b[1;33m.\u001b[0m\u001b[0mto_csv\u001b[0m\u001b[1;33m(\u001b[0m\u001b[1;34m'output_NN.csv'\u001b[0m\u001b[1;33m)\u001b[0m\u001b[1;33m\u001b[0m\u001b[0m\n",
      "\u001b[1;32m~\\AppData\\Local\\Continuum\\anaconda3\\lib\\site-packages\\pandas\\core\\frame.py\u001b[0m in \u001b[0;36m__init__\u001b[1;34m(self, data, index, columns, dtype, copy)\u001b[0m\n\u001b[0;32m    328\u001b[0m                                  dtype=dtype, copy=copy)\n\u001b[0;32m    329\u001b[0m         \u001b[1;32melif\u001b[0m \u001b[0misinstance\u001b[0m\u001b[1;33m(\u001b[0m\u001b[0mdata\u001b[0m\u001b[1;33m,\u001b[0m \u001b[0mdict\u001b[0m\u001b[1;33m)\u001b[0m\u001b[1;33m:\u001b[0m\u001b[1;33m\u001b[0m\u001b[0m\n\u001b[1;32m--> 330\u001b[1;33m             \u001b[0mmgr\u001b[0m \u001b[1;33m=\u001b[0m \u001b[0mself\u001b[0m\u001b[1;33m.\u001b[0m\u001b[0m_init_dict\u001b[0m\u001b[1;33m(\u001b[0m\u001b[0mdata\u001b[0m\u001b[1;33m,\u001b[0m \u001b[0mindex\u001b[0m\u001b[1;33m,\u001b[0m \u001b[0mcolumns\u001b[0m\u001b[1;33m,\u001b[0m \u001b[0mdtype\u001b[0m\u001b[1;33m=\u001b[0m\u001b[0mdtype\u001b[0m\u001b[1;33m)\u001b[0m\u001b[1;33m\u001b[0m\u001b[0m\n\u001b[0m\u001b[0;32m    331\u001b[0m         \u001b[1;32melif\u001b[0m \u001b[0misinstance\u001b[0m\u001b[1;33m(\u001b[0m\u001b[0mdata\u001b[0m\u001b[1;33m,\u001b[0m \u001b[0mma\u001b[0m\u001b[1;33m.\u001b[0m\u001b[0mMaskedArray\u001b[0m\u001b[1;33m)\u001b[0m\u001b[1;33m:\u001b[0m\u001b[1;33m\u001b[0m\u001b[0m\n\u001b[0;32m    332\u001b[0m             \u001b[1;32mimport\u001b[0m \u001b[0mnumpy\u001b[0m\u001b[1;33m.\u001b[0m\u001b[0mma\u001b[0m\u001b[1;33m.\u001b[0m\u001b[0mmrecords\u001b[0m \u001b[1;32mas\u001b[0m \u001b[0mmrecords\u001b[0m\u001b[1;33m\u001b[0m\u001b[0m\n",
      "\u001b[1;32m~\\AppData\\Local\\Continuum\\anaconda3\\lib\\site-packages\\pandas\\core\\frame.py\u001b[0m in \u001b[0;36m_init_dict\u001b[1;34m(self, data, index, columns, dtype)\u001b[0m\n\u001b[0;32m    459\u001b[0m             \u001b[0marrays\u001b[0m \u001b[1;33m=\u001b[0m \u001b[1;33m[\u001b[0m\u001b[0mdata\u001b[0m\u001b[1;33m[\u001b[0m\u001b[0mk\u001b[0m\u001b[1;33m]\u001b[0m \u001b[1;32mfor\u001b[0m \u001b[0mk\u001b[0m \u001b[1;32min\u001b[0m \u001b[0mkeys\u001b[0m\u001b[1;33m]\u001b[0m\u001b[1;33m\u001b[0m\u001b[0m\n\u001b[0;32m    460\u001b[0m \u001b[1;33m\u001b[0m\u001b[0m\n\u001b[1;32m--> 461\u001b[1;33m         \u001b[1;32mreturn\u001b[0m \u001b[0m_arrays_to_mgr\u001b[0m\u001b[1;33m(\u001b[0m\u001b[0marrays\u001b[0m\u001b[1;33m,\u001b[0m \u001b[0mdata_names\u001b[0m\u001b[1;33m,\u001b[0m \u001b[0mindex\u001b[0m\u001b[1;33m,\u001b[0m \u001b[0mcolumns\u001b[0m\u001b[1;33m,\u001b[0m \u001b[0mdtype\u001b[0m\u001b[1;33m=\u001b[0m\u001b[0mdtype\u001b[0m\u001b[1;33m)\u001b[0m\u001b[1;33m\u001b[0m\u001b[0m\n\u001b[0m\u001b[0;32m    462\u001b[0m \u001b[1;33m\u001b[0m\u001b[0m\n\u001b[0;32m    463\u001b[0m     \u001b[1;32mdef\u001b[0m \u001b[0m_init_ndarray\u001b[0m\u001b[1;33m(\u001b[0m\u001b[0mself\u001b[0m\u001b[1;33m,\u001b[0m \u001b[0mvalues\u001b[0m\u001b[1;33m,\u001b[0m \u001b[0mindex\u001b[0m\u001b[1;33m,\u001b[0m \u001b[0mcolumns\u001b[0m\u001b[1;33m,\u001b[0m \u001b[0mdtype\u001b[0m\u001b[1;33m=\u001b[0m\u001b[1;32mNone\u001b[0m\u001b[1;33m,\u001b[0m \u001b[0mcopy\u001b[0m\u001b[1;33m=\u001b[0m\u001b[1;32mFalse\u001b[0m\u001b[1;33m)\u001b[0m\u001b[1;33m:\u001b[0m\u001b[1;33m\u001b[0m\u001b[0m\n",
      "\u001b[1;32m~\\AppData\\Local\\Continuum\\anaconda3\\lib\\site-packages\\pandas\\core\\frame.py\u001b[0m in \u001b[0;36m_arrays_to_mgr\u001b[1;34m(arrays, arr_names, index, columns, dtype)\u001b[0m\n\u001b[0;32m   6163\u001b[0m         \u001b[0mindex\u001b[0m \u001b[1;33m=\u001b[0m \u001b[0mextract_index\u001b[0m\u001b[1;33m(\u001b[0m\u001b[0marrays\u001b[0m\u001b[1;33m)\u001b[0m\u001b[1;33m\u001b[0m\u001b[0m\n\u001b[0;32m   6164\u001b[0m     \u001b[1;32melse\u001b[0m\u001b[1;33m:\u001b[0m\u001b[1;33m\u001b[0m\u001b[0m\n\u001b[1;32m-> 6165\u001b[1;33m         \u001b[0mindex\u001b[0m \u001b[1;33m=\u001b[0m \u001b[0m_ensure_index\u001b[0m\u001b[1;33m(\u001b[0m\u001b[0mindex\u001b[0m\u001b[1;33m)\u001b[0m\u001b[1;33m\u001b[0m\u001b[0m\n\u001b[0m\u001b[0;32m   6166\u001b[0m \u001b[1;33m\u001b[0m\u001b[0m\n\u001b[0;32m   6167\u001b[0m     \u001b[1;31m# don't force copy because getting jammed in an ndarray anyway\u001b[0m\u001b[1;33m\u001b[0m\u001b[1;33m\u001b[0m\u001b[0m\n",
      "\u001b[1;32m~\\AppData\\Local\\Continuum\\anaconda3\\lib\\site-packages\\pandas\\core\\indexes\\base.py\u001b[0m in \u001b[0;36m_ensure_index\u001b[1;34m(index_like, copy)\u001b[0m\n\u001b[0;32m   4210\u001b[0m             \u001b[0mindex_like\u001b[0m \u001b[1;33m=\u001b[0m \u001b[0mcopy\u001b[0m\u001b[1;33m(\u001b[0m\u001b[0mindex_like\u001b[0m\u001b[1;33m)\u001b[0m\u001b[1;33m\u001b[0m\u001b[0m\n\u001b[0;32m   4211\u001b[0m \u001b[1;33m\u001b[0m\u001b[0m\n\u001b[1;32m-> 4212\u001b[1;33m     \u001b[1;32mreturn\u001b[0m \u001b[0mIndex\u001b[0m\u001b[1;33m(\u001b[0m\u001b[0mindex_like\u001b[0m\u001b[1;33m)\u001b[0m\u001b[1;33m\u001b[0m\u001b[0m\n\u001b[0m\u001b[0;32m   4213\u001b[0m \u001b[1;33m\u001b[0m\u001b[0m\n\u001b[0;32m   4214\u001b[0m \u001b[1;33m\u001b[0m\u001b[0m\n",
      "\u001b[1;32m~\\AppData\\Local\\Continuum\\anaconda3\\lib\\site-packages\\pandas\\core\\indexes\\base.py\u001b[0m in \u001b[0;36m__new__\u001b[1;34m(cls, data, dtype, copy, name, fastpath, tupleize_cols, **kwargs)\u001b[0m\n\u001b[0;32m    353\u001b[0m                          **kwargs)\n\u001b[0;32m    354\u001b[0m         \u001b[1;32melif\u001b[0m \u001b[0mdata\u001b[0m \u001b[1;32mis\u001b[0m \u001b[1;32mNone\u001b[0m \u001b[1;32mor\u001b[0m \u001b[0mis_scalar\u001b[0m\u001b[1;33m(\u001b[0m\u001b[0mdata\u001b[0m\u001b[1;33m)\u001b[0m\u001b[1;33m:\u001b[0m\u001b[1;33m\u001b[0m\u001b[0m\n\u001b[1;32m--> 355\u001b[1;33m             \u001b[0mcls\u001b[0m\u001b[1;33m.\u001b[0m\u001b[0m_scalar_data_error\u001b[0m\u001b[1;33m(\u001b[0m\u001b[0mdata\u001b[0m\u001b[1;33m)\u001b[0m\u001b[1;33m\u001b[0m\u001b[0m\n\u001b[0m\u001b[0;32m    356\u001b[0m         \u001b[1;32melse\u001b[0m\u001b[1;33m:\u001b[0m\u001b[1;33m\u001b[0m\u001b[0m\n\u001b[0;32m    357\u001b[0m             if (tupleize_cols and isinstance(data, list) and data and\n",
      "\u001b[1;32m~\\AppData\\Local\\Continuum\\anaconda3\\lib\\site-packages\\pandas\\core\\indexes\\base.py\u001b[0m in \u001b[0;36m_scalar_data_error\u001b[1;34m(cls, data)\u001b[0m\n\u001b[0;32m    708\u001b[0m         raise TypeError('{0}(...) must be called with a collection of some '\n\u001b[0;32m    709\u001b[0m                         'kind, {1} was passed'.format(cls.__name__,\n\u001b[1;32m--> 710\u001b[1;33m                                                       repr(data)))\n\u001b[0m\u001b[0;32m    711\u001b[0m \u001b[1;33m\u001b[0m\u001b[0m\n\u001b[0;32m    712\u001b[0m     \u001b[1;33m@\u001b[0m\u001b[0mclassmethod\u001b[0m\u001b[1;33m\u001b[0m\u001b[0m\n",
      "\u001b[1;31mTypeError\u001b[0m: Index(...) must be called with a collection of some kind, True was passed"
     ]
    }
   ],
   "source": [
    "all_pred = pd.DataFrame({'pred':model.predict(X_scl),'proba':model.predict_proba(X_scl)})\n",
    "result = pd.concat([labels, all_pred], axis=1, join='inner')\n",
    "result.to_csv('output_NN.csv')"
   ]
  },
  {
   "cell_type": "code",
   "execution_count": null,
   "metadata": {},
   "outputs": [],
   "source": []
  }
 ],
 "metadata": {
  "kernelspec": {
   "display_name": "Python 3",
   "language": "python",
   "name": "python3"
  },
  "language_info": {
   "codemirror_mode": {
    "name": "ipython",
    "version": 3
   },
   "file_extension": ".py",
   "mimetype": "text/x-python",
   "name": "python",
   "nbconvert_exporter": "python",
   "pygments_lexer": "ipython3",
   "version": "3.6.4"
  }
 },
 "nbformat": 4,
 "nbformat_minor": 2
}
