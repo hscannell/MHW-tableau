{
 "cells": [
  {
   "cell_type": "code",
   "execution_count": 16,
   "metadata": {},
   "outputs": [],
   "source": [
    "%matplotlib inline\n",
    "import pandas as pd\n",
    "import numpy as np\n",
    "from netCDF4 import Dataset\n",
    "import os, time, datetime\n",
    "from datetime import date\n",
    "import matplotlib.pyplot as plt\n",
    "from sklearn.preprocessing import MinMaxScaler, StandardScaler\n",
    "from sklearn.utils import shuffle\n",
    "from keras.models import Sequential\n",
    "from keras.optimizers import SGD, Adam\n",
    "from keras.layers import Dense, LSTM, Activation, Dropout\n",
    "import xgboost as xgb\n",
    "import seaborn as sns\n",
    "from sklearn.model_selection import KFold, GridSearchCV, train_test_split, StratifiedKFold\n",
    "from sklearn.metrics import classification_report, confusion_matrix\n",
    "import warnings"
   ]
  },
  {
   "cell_type": "code",
   "execution_count": 17,
   "metadata": {
    "collapsed": true
   },
   "outputs": [],
   "source": [
    "# it looks like XGBoost is using a library that's a bit older, silencing the deprication warning\n",
    "warnings.filterwarnings(\"ignore\")"
   ]
  },
  {
   "cell_type": "code",
   "execution_count": 18,
   "metadata": {
    "collapsed": true
   },
   "outputs": [],
   "source": [
    "labels = pd.read_csv('data/Labels/mhwLabels_30n120w.csv')"
   ]
  },
  {
   "cell_type": "code",
   "execution_count": 19,
   "metadata": {},
   "outputs": [
    {
     "data": {
      "text/html": [
       "<div>\n",
       "<style>\n",
       "    .dataframe thead tr:only-child th {\n",
       "        text-align: right;\n",
       "    }\n",
       "\n",
       "    .dataframe thead th {\n",
       "        text-align: left;\n",
       "    }\n",
       "\n",
       "    .dataframe tbody tr th {\n",
       "        vertical-align: top;\n",
       "    }\n",
       "</style>\n",
       "<table border=\"1\" class=\"dataframe\">\n",
       "  <thead>\n",
       "    <tr style=\"text-align: right;\">\n",
       "      <th></th>\n",
       "      <th>1981-09-01</th>\n",
       "      <th>1981-09-02</th>\n",
       "      <th>1981-09-03</th>\n",
       "      <th>1981-09-04</th>\n",
       "      <th>1981-09-05</th>\n",
       "      <th>1981-09-06</th>\n",
       "      <th>1981-09-07</th>\n",
       "      <th>1981-09-08</th>\n",
       "      <th>1981-09-09</th>\n",
       "      <th>1981-09-10</th>\n",
       "      <th>...</th>\n",
       "      <th>2018-06-02</th>\n",
       "      <th>2018-06-03</th>\n",
       "      <th>2018-06-04</th>\n",
       "      <th>2018-06-05</th>\n",
       "      <th>2018-06-06</th>\n",
       "      <th>2018-06-07</th>\n",
       "      <th>2018-06-08</th>\n",
       "      <th>2018-06-09</th>\n",
       "      <th>2018-06-10</th>\n",
       "      <th>2018-06-11</th>\n",
       "    </tr>\n",
       "  </thead>\n",
       "  <tbody>\n",
       "    <tr>\n",
       "      <th>0</th>\n",
       "      <td>0.0</td>\n",
       "      <td>0.0</td>\n",
       "      <td>0.0</td>\n",
       "      <td>0.0</td>\n",
       "      <td>0.0</td>\n",
       "      <td>0.0</td>\n",
       "      <td>0.0</td>\n",
       "      <td>0.0</td>\n",
       "      <td>0.0</td>\n",
       "      <td>0.0</td>\n",
       "      <td>...</td>\n",
       "      <td>0.0</td>\n",
       "      <td>0.0</td>\n",
       "      <td>0.0</td>\n",
       "      <td>0.0</td>\n",
       "      <td>0.0</td>\n",
       "      <td>0.0</td>\n",
       "      <td>0.0</td>\n",
       "      <td>0.0</td>\n",
       "      <td>0.0</td>\n",
       "      <td>0.0</td>\n",
       "    </tr>\n",
       "  </tbody>\n",
       "</table>\n",
       "<p>1 rows × 13433 columns</p>\n",
       "</div>"
      ],
      "text/plain": [
       "   1981-09-01  1981-09-02  1981-09-03  1981-09-04  1981-09-05  1981-09-06  \\\n",
       "0         0.0         0.0         0.0         0.0         0.0         0.0   \n",
       "\n",
       "   1981-09-07  1981-09-08  1981-09-09  1981-09-10     ...      2018-06-02  \\\n",
       "0         0.0         0.0         0.0         0.0     ...             0.0   \n",
       "\n",
       "   2018-06-03  2018-06-04  2018-06-05  2018-06-06  2018-06-07  2018-06-08  \\\n",
       "0         0.0         0.0         0.0         0.0         0.0         0.0   \n",
       "\n",
       "   2018-06-09  2018-06-10  2018-06-11  \n",
       "0         0.0         0.0         0.0  \n",
       "\n",
       "[1 rows x 13433 columns]"
      ]
     },
     "execution_count": 19,
     "metadata": {},
     "output_type": "execute_result"
    }
   ],
   "source": [
    "# labels data are currently one per column\n",
    "labels.head()"
   ]
  },
  {
   "cell_type": "code",
   "execution_count": 20,
   "metadata": {
    "collapsed": true
   },
   "outputs": [],
   "source": [
    "# transform labels into a two column dataset with date and label\n",
    "labels = labels.melt()"
   ]
  },
  {
   "cell_type": "code",
   "execution_count": 21,
   "metadata": {},
   "outputs": [
    {
     "data": {
      "text/html": [
       "<div>\n",
       "<style>\n",
       "    .dataframe thead tr:only-child th {\n",
       "        text-align: right;\n",
       "    }\n",
       "\n",
       "    .dataframe thead th {\n",
       "        text-align: left;\n",
       "    }\n",
       "\n",
       "    .dataframe tbody tr th {\n",
       "        vertical-align: top;\n",
       "    }\n",
       "</style>\n",
       "<table border=\"1\" class=\"dataframe\">\n",
       "  <thead>\n",
       "    <tr style=\"text-align: right;\">\n",
       "      <th></th>\n",
       "      <th>date</th>\n",
       "      <th>label</th>\n",
       "    </tr>\n",
       "  </thead>\n",
       "  <tbody>\n",
       "    <tr>\n",
       "      <th>0</th>\n",
       "      <td>1981-09-01</td>\n",
       "      <td>0.0</td>\n",
       "    </tr>\n",
       "    <tr>\n",
       "      <th>1</th>\n",
       "      <td>1981-09-02</td>\n",
       "      <td>0.0</td>\n",
       "    </tr>\n",
       "    <tr>\n",
       "      <th>2</th>\n",
       "      <td>1981-09-03</td>\n",
       "      <td>0.0</td>\n",
       "    </tr>\n",
       "    <tr>\n",
       "      <th>3</th>\n",
       "      <td>1981-09-04</td>\n",
       "      <td>0.0</td>\n",
       "    </tr>\n",
       "    <tr>\n",
       "      <th>4</th>\n",
       "      <td>1981-09-05</td>\n",
       "      <td>0.0</td>\n",
       "    </tr>\n",
       "  </tbody>\n",
       "</table>\n",
       "</div>"
      ],
      "text/plain": [
       "         date  label\n",
       "0  1981-09-01    0.0\n",
       "1  1981-09-02    0.0\n",
       "2  1981-09-03    0.0\n",
       "3  1981-09-04    0.0\n",
       "4  1981-09-05    0.0"
      ]
     },
     "execution_count": 21,
     "metadata": {},
     "output_type": "execute_result"
    }
   ],
   "source": [
    "# give more relatable column names\n",
    "labels.rename(columns={'variable':'date','value':'label'},inplace=True)\n",
    "labels.head()"
   ]
  },
  {
   "cell_type": "code",
   "execution_count": 24,
   "metadata": {
    "collapsed": true
   },
   "outputs": [],
   "source": [
    "def load_data(x):\n",
    "    fp = 'data/' # <- change this to your path\n",
    "    if x != 'air':\n",
    "        data = Dataset(fp+x+'_'+'30n120w.nc') # reading the netCDF file and creating a dataset\n",
    "    else:\n",
    "         data = Dataset(fp+'airt'+'_'+'30n120w.nc') # correct for the fact that the file is called airt but the var is air\n",
    "            \n",
    "    # pull out selected variable   \n",
    "    value = np.squeeze(data.variables[x][:])\n",
    "    \n",
    "    # Time (days since)\n",
    "    f_time = data.variables['time'][:] # time is given in days since 1800-01-01 00:00:00\n",
    "    if x == 'sst':\n",
    "        ref = datetime.date(1800, 1, 1).toordinal()\n",
    "    else:\n",
    "        ref = datetime.date(1, 1, 1).toordinal()\n",
    "    time = ref+f_time # adjust time as days since 0000-01-01 00:00:00\n",
    "\n",
    "    # Dates (yyyy-mm-dd)\n",
    "    dates = [date.fromordinal(tt.astype(int)) for tt in time]\n",
    "    dates = np.array(dates)\n",
    "    \n",
    "    # Create a python series\n",
    "    data = pd.DataFrame({'date':dates,str(x):value})\n",
    "    return data"
   ]
  },
  {
   "cell_type": "code",
   "execution_count": 25,
   "metadata": {},
   "outputs": [],
   "source": [
    "sst = load_data('sst')\n",
    "rhum = load_data('rhum')\n",
    "slp = load_data('slp')\n",
    "uwnd = load_data('uwnd')\n",
    "vwnd = load_data('vwnd')\n",
    "airt = load_data('air')"
   ]
  },
  {
   "cell_type": "code",
   "execution_count": 26,
   "metadata": {
    "collapsed": true
   },
   "outputs": [],
   "source": [
    "#rename\n",
    "df = labels"
   ]
  },
  {
   "cell_type": "code",
   "execution_count": 28,
   "metadata": {},
   "outputs": [
    {
     "data": {
      "text/html": [
       "<div>\n",
       "<style>\n",
       "    .dataframe thead tr:only-child th {\n",
       "        text-align: right;\n",
       "    }\n",
       "\n",
       "    .dataframe thead th {\n",
       "        text-align: left;\n",
       "    }\n",
       "\n",
       "    .dataframe tbody tr th {\n",
       "        vertical-align: top;\n",
       "    }\n",
       "</style>\n",
       "<table border=\"1\" class=\"dataframe\">\n",
       "  <thead>\n",
       "    <tr style=\"text-align: right;\">\n",
       "      <th></th>\n",
       "      <th>date</th>\n",
       "      <th>sst</th>\n",
       "      <th>rhum</th>\n",
       "      <th>slp</th>\n",
       "      <th>uwnd</th>\n",
       "      <th>vwnd</th>\n",
       "      <th>air</th>\n",
       "    </tr>\n",
       "  </thead>\n",
       "  <tbody>\n",
       "    <tr>\n",
       "      <th>0</th>\n",
       "      <td>1981-09-01</td>\n",
       "      <td>18.559999</td>\n",
       "      <td>80.059998</td>\n",
       "      <td>1006.420044</td>\n",
       "      <td>0.889999</td>\n",
       "      <td>-5.889999</td>\n",
       "      <td>295.010010</td>\n",
       "    </tr>\n",
       "    <tr>\n",
       "      <th>1</th>\n",
       "      <td>1981-09-02</td>\n",
       "      <td>18.629999</td>\n",
       "      <td>80.190002</td>\n",
       "      <td>1006.920044</td>\n",
       "      <td>0.599991</td>\n",
       "      <td>-5.520004</td>\n",
       "      <td>294.209991</td>\n",
       "    </tr>\n",
       "    <tr>\n",
       "      <th>2</th>\n",
       "      <td>1981-09-03</td>\n",
       "      <td>18.400000</td>\n",
       "      <td>80.309998</td>\n",
       "      <td>1007.420044</td>\n",
       "      <td>0.309998</td>\n",
       "      <td>-5.149994</td>\n",
       "      <td>293.399994</td>\n",
       "    </tr>\n",
       "    <tr>\n",
       "      <th>3</th>\n",
       "      <td>1981-09-04</td>\n",
       "      <td>18.359999</td>\n",
       "      <td>80.440002</td>\n",
       "      <td>1007.920044</td>\n",
       "      <td>0.020004</td>\n",
       "      <td>-4.779999</td>\n",
       "      <td>292.599976</td>\n",
       "    </tr>\n",
       "    <tr>\n",
       "      <th>4</th>\n",
       "      <td>1981-09-05</td>\n",
       "      <td>19.049999</td>\n",
       "      <td>80.569992</td>\n",
       "      <td>1008.420044</td>\n",
       "      <td>-0.270004</td>\n",
       "      <td>-4.419998</td>\n",
       "      <td>291.799988</td>\n",
       "    </tr>\n",
       "  </tbody>\n",
       "</table>\n",
       "</div>"
      ],
      "text/plain": [
       "         date        sst       rhum          slp      uwnd      vwnd  \\\n",
       "0  1981-09-01  18.559999  80.059998  1006.420044  0.889999 -5.889999   \n",
       "1  1981-09-02  18.629999  80.190002  1006.920044  0.599991 -5.520004   \n",
       "2  1981-09-03  18.400000  80.309998  1007.420044  0.309998 -5.149994   \n",
       "3  1981-09-04  18.359999  80.440002  1007.920044  0.020004 -4.779999   \n",
       "4  1981-09-05  19.049999  80.569992  1008.420044 -0.270004 -4.419998   \n",
       "\n",
       "          air  \n",
       "0  295.010010  \n",
       "1  294.209991  \n",
       "2  293.399994  \n",
       "3  292.599976  \n",
       "4  291.799988  "
      ]
     },
     "execution_count": 28,
     "metadata": {},
     "output_type": "execute_result"
    }
   ],
   "source": [
    "#combine all values\n",
    "#value_df = value_df.join([rhum,slp,uwnd,vwnd], on='date', how='inner')\n",
    "value_df = sst.merge(rhum, on='date')\n",
    "value_df = value_df.merge(slp, on='date')\n",
    "value_df = value_df.merge(uwnd, on='date')\n",
    "value_df = value_df.merge(vwnd, on='date')\n",
    "value_df = value_df.merge(airt, on='date')\n",
    "value_df.head()"
   ]
  },
  {
   "cell_type": "code",
   "execution_count": 29,
   "metadata": {
    "collapsed": true
   },
   "outputs": [],
   "source": [
    "df = df.merge(value_df, how='inner', left_index=True, right_index=True)"
   ]
  },
  {
   "cell_type": "code",
   "execution_count": 30,
   "metadata": {
    "collapsed": true
   },
   "outputs": [],
   "source": [
    "# for each day in the dataset, loop back some number of days and report the SST for that day as a new column. \n",
    "# This loop creates a new column for each of the 40 previous days\n",
    "\n",
    "look_back = pd.DataFrame()\n",
    "back_range = [i+1 for i in range(40)]\n",
    "for feat in ['rhum','slp','sst','uwnd','vwnd','air']:\n",
    "    for day in back_range:\n",
    "        sst_back = []\n",
    "        for i in range(len(df)):\n",
    "            if i-day < 0:\n",
    "                sst_back.append(0)\n",
    "            else:\n",
    "                sst_back.append(df[feat][i-day])\n",
    "        look_back[feat+'-'+str(day)] = sst_back"
   ]
  },
  {
   "cell_type": "code",
   "execution_count": 31,
   "metadata": {
    "collapsed": true
   },
   "outputs": [],
   "source": [
    "# for each day in the dataset, loop forward some number of days and check if there was a heatwave in that range\n",
    "# If there was a heatwave, in any of the next 30 days, mark the column heat_30 as 1 else 0\n",
    "# this allows prediction on a give day: will there be a heatwave in the next 30 days\n",
    "\n",
    "heat_30 = np.zeros(len(df))\n",
    "forward_range = [i+1 for i in range(30)]\n",
    "for i in range(len(df)):\n",
    "    event = 0\n",
    "    for day in forward_range:\n",
    "        if day+i >= len(df):\n",
    "            event += 0\n",
    "        else:\n",
    "            event += df['label'][day+i]\n",
    "    if event > 0:\n",
    "        heat_30[i] = 1\n",
    "    else:\n",
    "        heat_30[i] = 0"
   ]
  },
  {
   "cell_type": "code",
   "execution_count": 32,
   "metadata": {
    "collapsed": true
   },
   "outputs": [],
   "source": [
    "# make the heat_30 column a single column dataframe\n",
    "heat_30 = pd.DataFrame({'heat_30':heat_30})"
   ]
  },
  {
   "cell_type": "code",
   "execution_count": 33,
   "metadata": {},
   "outputs": [
    {
     "data": {
      "text/html": [
       "<div>\n",
       "<style>\n",
       "    .dataframe thead tr:only-child th {\n",
       "        text-align: right;\n",
       "    }\n",
       "\n",
       "    .dataframe thead th {\n",
       "        text-align: left;\n",
       "    }\n",
       "\n",
       "    .dataframe tbody tr th {\n",
       "        vertical-align: top;\n",
       "    }\n",
       "</style>\n",
       "<table border=\"1\" class=\"dataframe\">\n",
       "  <thead>\n",
       "    <tr style=\"text-align: right;\">\n",
       "      <th></th>\n",
       "      <th>date_x</th>\n",
       "      <th>label</th>\n",
       "      <th>date_y</th>\n",
       "      <th>sst</th>\n",
       "      <th>rhum</th>\n",
       "      <th>slp</th>\n",
       "      <th>uwnd</th>\n",
       "      <th>vwnd</th>\n",
       "      <th>air</th>\n",
       "      <th>rhum-1</th>\n",
       "      <th>...</th>\n",
       "      <th>air-32</th>\n",
       "      <th>air-33</th>\n",
       "      <th>air-34</th>\n",
       "      <th>air-35</th>\n",
       "      <th>air-36</th>\n",
       "      <th>air-37</th>\n",
       "      <th>air-38</th>\n",
       "      <th>air-39</th>\n",
       "      <th>air-40</th>\n",
       "      <th>heat_30</th>\n",
       "    </tr>\n",
       "  </thead>\n",
       "  <tbody>\n",
       "    <tr>\n",
       "      <th>0</th>\n",
       "      <td>1981-09-01</td>\n",
       "      <td>0.0</td>\n",
       "      <td>1981-09-01</td>\n",
       "      <td>18.559999</td>\n",
       "      <td>80.059998</td>\n",
       "      <td>1006.420044</td>\n",
       "      <td>0.889999</td>\n",
       "      <td>-5.889999</td>\n",
       "      <td>295.010010</td>\n",
       "      <td>0.000000</td>\n",
       "      <td>...</td>\n",
       "      <td>0.0</td>\n",
       "      <td>0.0</td>\n",
       "      <td>0.0</td>\n",
       "      <td>0.0</td>\n",
       "      <td>0.0</td>\n",
       "      <td>0.0</td>\n",
       "      <td>0.0</td>\n",
       "      <td>0.0</td>\n",
       "      <td>0.0</td>\n",
       "      <td>0.0</td>\n",
       "    </tr>\n",
       "    <tr>\n",
       "      <th>1</th>\n",
       "      <td>1981-09-02</td>\n",
       "      <td>0.0</td>\n",
       "      <td>1981-09-02</td>\n",
       "      <td>18.629999</td>\n",
       "      <td>80.190002</td>\n",
       "      <td>1006.920044</td>\n",
       "      <td>0.599991</td>\n",
       "      <td>-5.520004</td>\n",
       "      <td>294.209991</td>\n",
       "      <td>80.059998</td>\n",
       "      <td>...</td>\n",
       "      <td>0.0</td>\n",
       "      <td>0.0</td>\n",
       "      <td>0.0</td>\n",
       "      <td>0.0</td>\n",
       "      <td>0.0</td>\n",
       "      <td>0.0</td>\n",
       "      <td>0.0</td>\n",
       "      <td>0.0</td>\n",
       "      <td>0.0</td>\n",
       "      <td>0.0</td>\n",
       "    </tr>\n",
       "    <tr>\n",
       "      <th>2</th>\n",
       "      <td>1981-09-03</td>\n",
       "      <td>0.0</td>\n",
       "      <td>1981-09-03</td>\n",
       "      <td>18.400000</td>\n",
       "      <td>80.309998</td>\n",
       "      <td>1007.420044</td>\n",
       "      <td>0.309998</td>\n",
       "      <td>-5.149994</td>\n",
       "      <td>293.399994</td>\n",
       "      <td>80.190002</td>\n",
       "      <td>...</td>\n",
       "      <td>0.0</td>\n",
       "      <td>0.0</td>\n",
       "      <td>0.0</td>\n",
       "      <td>0.0</td>\n",
       "      <td>0.0</td>\n",
       "      <td>0.0</td>\n",
       "      <td>0.0</td>\n",
       "      <td>0.0</td>\n",
       "      <td>0.0</td>\n",
       "      <td>0.0</td>\n",
       "    </tr>\n",
       "    <tr>\n",
       "      <th>3</th>\n",
       "      <td>1981-09-04</td>\n",
       "      <td>0.0</td>\n",
       "      <td>1981-09-04</td>\n",
       "      <td>18.359999</td>\n",
       "      <td>80.440002</td>\n",
       "      <td>1007.920044</td>\n",
       "      <td>0.020004</td>\n",
       "      <td>-4.779999</td>\n",
       "      <td>292.599976</td>\n",
       "      <td>80.309998</td>\n",
       "      <td>...</td>\n",
       "      <td>0.0</td>\n",
       "      <td>0.0</td>\n",
       "      <td>0.0</td>\n",
       "      <td>0.0</td>\n",
       "      <td>0.0</td>\n",
       "      <td>0.0</td>\n",
       "      <td>0.0</td>\n",
       "      <td>0.0</td>\n",
       "      <td>0.0</td>\n",
       "      <td>0.0</td>\n",
       "    </tr>\n",
       "    <tr>\n",
       "      <th>4</th>\n",
       "      <td>1981-09-05</td>\n",
       "      <td>0.0</td>\n",
       "      <td>1981-09-05</td>\n",
       "      <td>19.049999</td>\n",
       "      <td>80.569992</td>\n",
       "      <td>1008.420044</td>\n",
       "      <td>-0.270004</td>\n",
       "      <td>-4.419998</td>\n",
       "      <td>291.799988</td>\n",
       "      <td>80.440002</td>\n",
       "      <td>...</td>\n",
       "      <td>0.0</td>\n",
       "      <td>0.0</td>\n",
       "      <td>0.0</td>\n",
       "      <td>0.0</td>\n",
       "      <td>0.0</td>\n",
       "      <td>0.0</td>\n",
       "      <td>0.0</td>\n",
       "      <td>0.0</td>\n",
       "      <td>0.0</td>\n",
       "      <td>0.0</td>\n",
       "    </tr>\n",
       "  </tbody>\n",
       "</table>\n",
       "<p>5 rows × 250 columns</p>\n",
       "</div>"
      ],
      "text/plain": [
       "       date_x  label      date_y        sst       rhum          slp      uwnd  \\\n",
       "0  1981-09-01    0.0  1981-09-01  18.559999  80.059998  1006.420044  0.889999   \n",
       "1  1981-09-02    0.0  1981-09-02  18.629999  80.190002  1006.920044  0.599991   \n",
       "2  1981-09-03    0.0  1981-09-03  18.400000  80.309998  1007.420044  0.309998   \n",
       "3  1981-09-04    0.0  1981-09-04  18.359999  80.440002  1007.920044  0.020004   \n",
       "4  1981-09-05    0.0  1981-09-05  19.049999  80.569992  1008.420044 -0.270004   \n",
       "\n",
       "       vwnd         air     rhum-1   ...     air-32  air-33  air-34  air-35  \\\n",
       "0 -5.889999  295.010010   0.000000   ...        0.0     0.0     0.0     0.0   \n",
       "1 -5.520004  294.209991  80.059998   ...        0.0     0.0     0.0     0.0   \n",
       "2 -5.149994  293.399994  80.190002   ...        0.0     0.0     0.0     0.0   \n",
       "3 -4.779999  292.599976  80.309998   ...        0.0     0.0     0.0     0.0   \n",
       "4 -4.419998  291.799988  80.440002   ...        0.0     0.0     0.0     0.0   \n",
       "\n",
       "   air-36  air-37  air-38  air-39  air-40  heat_30  \n",
       "0     0.0     0.0     0.0     0.0     0.0      0.0  \n",
       "1     0.0     0.0     0.0     0.0     0.0      0.0  \n",
       "2     0.0     0.0     0.0     0.0     0.0      0.0  \n",
       "3     0.0     0.0     0.0     0.0     0.0      0.0  \n",
       "4     0.0     0.0     0.0     0.0     0.0      0.0  \n",
       "\n",
       "[5 rows x 250 columns]"
      ]
     },
     "execution_count": 33,
     "metadata": {},
     "output_type": "execute_result"
    }
   ],
   "source": [
    "# join the labels, backward lookin SST columns, and forward looking heatwave column together on their index\n",
    "# all are the same length and in chronological order so this should work directly\n",
    "result = pd.concat([df, look_back,heat_30], axis=1, join='inner')\n",
    "result.head()"
   ]
  },
  {
   "cell_type": "code",
   "execution_count": 34,
   "metadata": {},
   "outputs": [
    {
     "data": {
      "text/html": [
       "<div>\n",
       "<style>\n",
       "    .dataframe thead tr:only-child th {\n",
       "        text-align: right;\n",
       "    }\n",
       "\n",
       "    .dataframe thead th {\n",
       "        text-align: left;\n",
       "    }\n",
       "\n",
       "    .dataframe tbody tr th {\n",
       "        vertical-align: top;\n",
       "    }\n",
       "</style>\n",
       "<table border=\"1\" class=\"dataframe\">\n",
       "  <thead>\n",
       "    <tr style=\"text-align: right;\">\n",
       "      <th></th>\n",
       "      <th>date_x</th>\n",
       "      <th>label</th>\n",
       "      <th>date_y</th>\n",
       "      <th>sst</th>\n",
       "      <th>rhum</th>\n",
       "      <th>slp</th>\n",
       "      <th>uwnd</th>\n",
       "      <th>vwnd</th>\n",
       "      <th>air</th>\n",
       "      <th>rhum-1</th>\n",
       "      <th>...</th>\n",
       "      <th>air-32</th>\n",
       "      <th>air-33</th>\n",
       "      <th>air-34</th>\n",
       "      <th>air-35</th>\n",
       "      <th>air-36</th>\n",
       "      <th>air-37</th>\n",
       "      <th>air-38</th>\n",
       "      <th>air-39</th>\n",
       "      <th>air-40</th>\n",
       "      <th>heat_30</th>\n",
       "    </tr>\n",
       "  </thead>\n",
       "  <tbody>\n",
       "    <tr>\n",
       "      <th>40</th>\n",
       "      <td>1981-10-11</td>\n",
       "      <td>0.0</td>\n",
       "      <td>1981-10-11</td>\n",
       "      <td>19.379999</td>\n",
       "      <td>72.959991</td>\n",
       "      <td>1014.020020</td>\n",
       "      <td>2.270004</td>\n",
       "      <td>-2.520004</td>\n",
       "      <td>289.630005</td>\n",
       "      <td>74.600006</td>\n",
       "      <td>...</td>\n",
       "      <td>290.479980</td>\n",
       "      <td>288.250000</td>\n",
       "      <td>290.190002</td>\n",
       "      <td>291.000000</td>\n",
       "      <td>291.799988</td>\n",
       "      <td>292.599976</td>\n",
       "      <td>293.399994</td>\n",
       "      <td>294.209991</td>\n",
       "      <td>295.010010</td>\n",
       "      <td>0.0</td>\n",
       "    </tr>\n",
       "    <tr>\n",
       "      <th>41</th>\n",
       "      <td>1981-10-12</td>\n",
       "      <td>0.0</td>\n",
       "      <td>1981-10-12</td>\n",
       "      <td>19.330000</td>\n",
       "      <td>71.319992</td>\n",
       "      <td>1014.070007</td>\n",
       "      <td>2.209991</td>\n",
       "      <td>-2.649994</td>\n",
       "      <td>289.809998</td>\n",
       "      <td>72.959991</td>\n",
       "      <td>...</td>\n",
       "      <td>294.720001</td>\n",
       "      <td>290.479980</td>\n",
       "      <td>288.250000</td>\n",
       "      <td>290.190002</td>\n",
       "      <td>291.000000</td>\n",
       "      <td>291.799988</td>\n",
       "      <td>292.599976</td>\n",
       "      <td>293.399994</td>\n",
       "      <td>294.209991</td>\n",
       "      <td>0.0</td>\n",
       "    </tr>\n",
       "    <tr>\n",
       "      <th>42</th>\n",
       "      <td>1981-10-13</td>\n",
       "      <td>0.0</td>\n",
       "      <td>1981-10-13</td>\n",
       "      <td>19.240000</td>\n",
       "      <td>81.319992</td>\n",
       "      <td>1014.190063</td>\n",
       "      <td>1.319992</td>\n",
       "      <td>-1.580002</td>\n",
       "      <td>287.940002</td>\n",
       "      <td>71.319992</td>\n",
       "      <td>...</td>\n",
       "      <td>299.169983</td>\n",
       "      <td>294.720001</td>\n",
       "      <td>290.479980</td>\n",
       "      <td>288.250000</td>\n",
       "      <td>290.190002</td>\n",
       "      <td>291.000000</td>\n",
       "      <td>291.799988</td>\n",
       "      <td>292.599976</td>\n",
       "      <td>293.399994</td>\n",
       "      <td>0.0</td>\n",
       "    </tr>\n",
       "    <tr>\n",
       "      <th>43</th>\n",
       "      <td>1981-10-14</td>\n",
       "      <td>0.0</td>\n",
       "      <td>1981-10-14</td>\n",
       "      <td>19.879999</td>\n",
       "      <td>85.259995</td>\n",
       "      <td>1014.400024</td>\n",
       "      <td>3.089996</td>\n",
       "      <td>-5.360001</td>\n",
       "      <td>289.390015</td>\n",
       "      <td>81.319992</td>\n",
       "      <td>...</td>\n",
       "      <td>297.299988</td>\n",
       "      <td>299.169983</td>\n",
       "      <td>294.720001</td>\n",
       "      <td>290.479980</td>\n",
       "      <td>288.250000</td>\n",
       "      <td>290.190002</td>\n",
       "      <td>291.000000</td>\n",
       "      <td>291.799988</td>\n",
       "      <td>292.599976</td>\n",
       "      <td>0.0</td>\n",
       "    </tr>\n",
       "    <tr>\n",
       "      <th>44</th>\n",
       "      <td>1981-10-15</td>\n",
       "      <td>0.0</td>\n",
       "      <td>1981-10-15</td>\n",
       "      <td>20.000000</td>\n",
       "      <td>81.470001</td>\n",
       "      <td>1013.520020</td>\n",
       "      <td>4.270004</td>\n",
       "      <td>-4.089996</td>\n",
       "      <td>287.989990</td>\n",
       "      <td>85.259995</td>\n",
       "      <td>...</td>\n",
       "      <td>293.089996</td>\n",
       "      <td>297.299988</td>\n",
       "      <td>299.169983</td>\n",
       "      <td>294.720001</td>\n",
       "      <td>290.479980</td>\n",
       "      <td>288.250000</td>\n",
       "      <td>290.190002</td>\n",
       "      <td>291.000000</td>\n",
       "      <td>291.799988</td>\n",
       "      <td>0.0</td>\n",
       "    </tr>\n",
       "  </tbody>\n",
       "</table>\n",
       "<p>5 rows × 250 columns</p>\n",
       "</div>"
      ],
      "text/plain": [
       "        date_x  label      date_y        sst       rhum          slp  \\\n",
       "40  1981-10-11    0.0  1981-10-11  19.379999  72.959991  1014.020020   \n",
       "41  1981-10-12    0.0  1981-10-12  19.330000  71.319992  1014.070007   \n",
       "42  1981-10-13    0.0  1981-10-13  19.240000  81.319992  1014.190063   \n",
       "43  1981-10-14    0.0  1981-10-14  19.879999  85.259995  1014.400024   \n",
       "44  1981-10-15    0.0  1981-10-15  20.000000  81.470001  1013.520020   \n",
       "\n",
       "        uwnd      vwnd         air     rhum-1   ...         air-32  \\\n",
       "40  2.270004 -2.520004  289.630005  74.600006   ...     290.479980   \n",
       "41  2.209991 -2.649994  289.809998  72.959991   ...     294.720001   \n",
       "42  1.319992 -1.580002  287.940002  71.319992   ...     299.169983   \n",
       "43  3.089996 -5.360001  289.390015  81.319992   ...     297.299988   \n",
       "44  4.270004 -4.089996  287.989990  85.259995   ...     293.089996   \n",
       "\n",
       "        air-33      air-34      air-35      air-36      air-37      air-38  \\\n",
       "40  288.250000  290.190002  291.000000  291.799988  292.599976  293.399994   \n",
       "41  290.479980  288.250000  290.190002  291.000000  291.799988  292.599976   \n",
       "42  294.720001  290.479980  288.250000  290.190002  291.000000  291.799988   \n",
       "43  299.169983  294.720001  290.479980  288.250000  290.190002  291.000000   \n",
       "44  297.299988  299.169983  294.720001  290.479980  288.250000  290.190002   \n",
       "\n",
       "        air-39      air-40  heat_30  \n",
       "40  294.209991  295.010010      0.0  \n",
       "41  293.399994  294.209991      0.0  \n",
       "42  292.599976  293.399994      0.0  \n",
       "43  291.799988  292.599976      0.0  \n",
       "44  291.000000  291.799988      0.0  \n",
       "\n",
       "[5 rows x 250 columns]"
      ]
     },
     "execution_count": 34,
     "metadata": {},
     "output_type": "execute_result"
    }
   ],
   "source": [
    "# drop off the first 40 and last 30 sample days\n",
    "# these have data that were artificially set to 0 and so shouldn't be included\n",
    "# dropping 70 rows shouldn't effect the overall dataset quality\n",
    "result.drop(df.index[:40], inplace=True)\n",
    "result.drop(df.index[-30:], inplace=True)\n",
    "result.head()"
   ]
  },
  {
   "cell_type": "code",
   "execution_count": 36,
   "metadata": {
    "collapsed": true
   },
   "outputs": [],
   "source": [
    "result.to_csv('featurized_data')"
   ]
  },
  {
   "cell_type": "code",
   "execution_count": 37,
   "metadata": {},
   "outputs": [
    {
     "data": {
      "text/plain": [
       "<matplotlib.axes._subplots.AxesSubplot at 0x1df19ec9ef0>"
      ]
     },
     "execution_count": 37,
     "metadata": {},
     "output_type": "execute_result"
    },
    {
     "data": {
      "image/png": "[encoded data removed]",
      "text/plain": [
       "<matplotlib.figure.Figure at 0x1df13a7de48>"
      ]
     },
     "metadata": {},
     "output_type": "display_data"
    }
   ],
   "source": [
    "# just curious, do the days correlate with each other?\n",
    "# yes they seem to\n",
    "corr = result.corr()\n",
    "sns.heatmap(corr,\n",
    "            xticklabels=corr.columns.values,\n",
    "            yticklabels=corr.columns.values)"
   ]
  },
  {
   "cell_type": "code",
   "execution_count": 38,
   "metadata": {
    "collapsed": true
   },
   "outputs": [],
   "source": [
    "#split the data into targets and features, dropping unneeded values\n",
    "y = result['heat_30'].astype('int')\n",
    "X = result.drop(['label','sst', 'date_x','date_y', 'heat_30','rhum','slp','uwnd','vwnd','air'], axis=1)"
   ]
  },
  {
   "cell_type": "code",
   "execution_count": 39,
   "metadata": {
    "collapsed": true
   },
   "outputs": [],
   "source": [
    "X = np.nan_to_num(X)"
   ]
  },
  {
   "cell_type": "code",
   "execution_count": 40,
   "metadata": {
    "collapsed": true
   },
   "outputs": [],
   "source": [
    "#split into a training and test set, ensuring to stratify the class breakdowns between sets\n",
    "X_train, X_test, y_train, y_test = train_test_split(X, y, test_size=0.2, random_state=0, stratify=y)"
   ]
  },
  {
   "cell_type": "code",
   "execution_count": 41,
   "metadata": {
    "collapsed": true
   },
   "outputs": [],
   "source": [
    "#instantiate a gradient boosted machine for classification\n",
    "gbm = xgb.XGBClassifier(verbose=True, subsample=0.2, n_jobs=7, n_estimators=3000)"
   ]
  },
  {
   "cell_type": "code",
   "execution_count": 42,
   "metadata": {},
   "outputs": [
    {
     "data": {
      "text/plain": [
       "XGBClassifier(base_score=0.5, booster='gbtree', colsample_bylevel=1,\n",
       "       colsample_bytree=1, gamma=0, learning_rate=0.1, max_delta_step=0,\n",
       "       max_depth=3, min_child_weight=1, missing=None, n_estimators=3000,\n",
       "       n_jobs=7, nthread=None, objective='binary:logistic', random_state=0,\n",
       "       reg_alpha=0, reg_lambda=1, scale_pos_weight=1, seed=None,\n",
       "       silent=True, subsample=0.2, verbose=True)"
      ]
     },
     "execution_count": 42,
     "metadata": {},
     "output_type": "execute_result"
    }
   ],
   "source": [
    "gbm.fit(X_train, y_train)"
   ]
  },
  {
   "cell_type": "code",
   "execution_count": 45,
   "metadata": {
    "collapsed": true
   },
   "outputs": [],
   "source": [
    "#this is a highly class imbalanced problem, so we should experiment with different thresholds.\n",
    "#very few heatwaves will likely spike to above 50% probability, but we can catch them by lowering the probablility threshold\n",
    "#we don't want to lower it too far though, because we will catch too many false positives.\n",
    "\n",
    "threshold = 0.2\n",
    "preds = gbm.predict_proba(X_test)[:,1]\n",
    "pred = []\n",
    "for i in range(len(preds)):\n",
    "    if preds[i] > threshold:\n",
    "        pred.append(1)\n",
    "    else:\n",
    "        pred.append(0)"
   ]
  },
  {
   "cell_type": "code",
   "execution_count": 46,
   "metadata": {},
   "outputs": [
    {
     "name": "stdout",
     "output_type": "stream",
     "text": [
      "             precision    recall  f1-score   support\n",
      "\n",
      "          0       0.95      0.96      0.96      2311\n",
      "          1       0.73      0.69      0.71       362\n",
      "\n",
      "avg / total       0.92      0.92      0.92      2673\n",
      "\n",
      "[[2218   93]\n",
      " [ 112  250]]\n"
     ]
    }
   ],
   "source": [
    "#eval model performance\n",
    "print(classification_report(y_test,pred))\n",
    "print(confusion_matrix(y_test,pred))"
   ]
  },
  {
   "cell_type": "code",
   "execution_count": 47,
   "metadata": {
    "collapsed": true
   },
   "outputs": [],
   "source": [
    "all_pred = pd.DataFrame({'pred':gbm.predict(X),'proba':gbm.predict_proba(X)[:,1]})\n",
    "result = pd.concat([df, all_pred,heat_30], axis=1, join='inner')\n",
    "result.to_csv('output.csv')"
   ]
  },
  {
   "cell_type": "code",
   "execution_count": 48,
   "metadata": {
    "collapsed": true
   },
   "outputs": [],
   "source": [
    "# the following section should be used if you want to precision tune the gbm -------------------"
   ]
  },
  {
   "cell_type": "code",
   "execution_count": 49,
   "metadata": {
    "collapsed": true
   },
   "outputs": [],
   "source": [
    "#parameters = {'max_depth': [4,6,8], 'n_estimators': [2000, 2500, 3000, 4000], 'learning_rate': [0.005, 0.01, 0.02, 0.03, 0.05]}"
   ]
  },
  {
   "cell_type": "code",
   "execution_count": 50,
   "metadata": {
    "collapsed": true
   },
   "outputs": [],
   "source": [
    "#clf = GridSearchCV(gbm, parameters, cv=5, verbose=True, scoring='recall')\n",
    "#clf.fit(X_train, y_train)"
   ]
  },
  {
   "cell_type": "code",
   "execution_count": 51,
   "metadata": {
    "collapsed": true
   },
   "outputs": [],
   "source": [
    "#preds = clf.predict(X_test)"
   ]
  },
  {
   "cell_type": "code",
   "execution_count": 52,
   "metadata": {
    "collapsed": true
   },
   "outputs": [],
   "source": [
    "#print(classification_report(y_test,preds))\n",
    "#print(confusion_matrix(y_test,preds))"
   ]
  },
  {
   "cell_type": "code",
   "execution_count": 53,
   "metadata": {
    "collapsed": true
   },
   "outputs": [],
   "source": [
    "# end precision tuning section ----------------------"
   ]
  },
  {
   "cell_type": "code",
   "execution_count": 54,
   "metadata": {
    "collapsed": true
   },
   "outputs": [],
   "source": [
    "# try a dense NN model "
   ]
  },
  {
   "cell_type": "code",
   "execution_count": 65,
   "metadata": {
    "collapsed": true
   },
   "outputs": [],
   "source": [
    "X_train, X_test, y_train, y_test = train_test_split(X, y, test_size=0.2, random_state=0, stratify=y)"
   ]
  },
  {
   "cell_type": "code",
   "execution_count": 66,
   "metadata": {
    "collapsed": true
   },
   "outputs": [],
   "source": [
    "scl = MinMaxScaler(feature_range=(-1, 1))\n",
    "X_train = scl.fit_transform(X_train)\n",
    "X_test = scl.transform(X_test)"
   ]
  },
  {
   "cell_type": "code",
   "execution_count": 67,
   "metadata": {
    "collapsed": true
   },
   "outputs": [],
   "source": [
    "class_weight = {0: 1.,\n",
    "                1: 1.}"
   ]
  },
  {
   "cell_type": "code",
   "execution_count": 68,
   "metadata": {
    "collapsed": true
   },
   "outputs": [],
   "source": [
    "model = Sequential()"
   ]
  },
  {
   "cell_type": "code",
   "execution_count": 69,
   "metadata": {
    "collapsed": true
   },
   "outputs": [],
   "source": [
    "model.add(Dense(512, activation='relu', input_shape=(240,)))\n",
    "model.add(Dense(256, activation='relu'))\n",
    "model.add(Dense(256, activation='relu'))\n",
    "model.add(Dense(1, activation='sigmoid'))"
   ]
  },
  {
   "cell_type": "code",
   "execution_count": 70,
   "metadata": {
    "collapsed": true
   },
   "outputs": [],
   "source": [
    "model.compile(optimizer='rmsprop', loss='binary_crossentropy', metrics=['acc'])"
   ]
  },
  {
   "cell_type": "code",
   "execution_count": 71,
   "metadata": {},
   "outputs": [
    {
     "name": "stdout",
     "output_type": "stream",
     "text": [
      "Epoch 1/50\n",
      "10690/10690 [==============================] - 1s 136us/step - loss: 0.3783 - acc: 0.8507\n",
      "Epoch 2/50\n",
      "10690/10690 [==============================] - 0s 10us/step - loss: 0.3142 - acc: 0.8832\n",
      "Epoch 3/50\n",
      "10690/10690 [==============================] - 0s 11us/step - loss: 0.2931 - acc: 0.8906\n",
      "Epoch 4/50\n",
      "10690/10690 [==============================] - 0s 10us/step - loss: 0.2779 - acc: 0.8920\n",
      "Epoch 5/50\n",
      "10690/10690 [==============================] - 0s 11us/step - loss: 0.2632 - acc: 0.9019\n",
      "Epoch 6/50\n",
      "10690/10690 [==============================] - 0s 10us/step - loss: 0.2463 - acc: 0.9042\n",
      "Epoch 7/50\n",
      "10690/10690 [==============================] - 0s 10us/step - loss: 0.2242 - acc: 0.9148\n",
      "Epoch 8/50\n",
      "10690/10690 [==============================] - 0s 11us/step - loss: 0.2041 - acc: 0.9250\n",
      "Epoch 9/50\n",
      "10690/10690 [==============================] - 0s 10us/step - loss: 0.1865 - acc: 0.9309\n",
      "Epoch 10/50\n",
      "10690/10690 [==============================] - 0s 11us/step - loss: 0.1643 - acc: 0.9381\n",
      "Epoch 11/50\n",
      "10690/10690 [==============================] - 0s 12us/step - loss: 0.1590 - acc: 0.9406\n",
      "Epoch 12/50\n",
      "10690/10690 [==============================] - 0s 12us/step - loss: 0.1310 - acc: 0.9516\n",
      "Epoch 13/50\n",
      "10690/10690 [==============================] - 0s 11us/step - loss: 0.1154 - acc: 0.9580\n",
      "Epoch 14/50\n",
      "10690/10690 [==============================] - 0s 11us/step - loss: 0.1091 - acc: 0.9606\n",
      "Epoch 15/50\n",
      "10690/10690 [==============================] - 0s 11us/step - loss: 0.1120 - acc: 0.9611\n",
      "Epoch 16/50\n",
      "10690/10690 [==============================] - 0s 10us/step - loss: 0.0750 - acc: 0.9741\n",
      "Epoch 17/50\n",
      "10690/10690 [==============================] - 0s 11us/step - loss: 0.0830 - acc: 0.9715\n",
      "Epoch 18/50\n",
      "10690/10690 [==============================] - 0s 10us/step - loss: 0.0993 - acc: 0.9647\n",
      "Epoch 19/50\n",
      "10690/10690 [==============================] - 0s 10us/step - loss: 0.0512 - acc: 0.9824\n",
      "Epoch 20/50\n",
      "10690/10690 [==============================] - 0s 11us/step - loss: 0.0797 - acc: 0.9764\n",
      "Epoch 21/50\n",
      "10690/10690 [==============================] - 0s 12us/step - loss: 0.0594 - acc: 0.9822\n",
      "Epoch 22/50\n",
      "10690/10690 [==============================] - 0s 11us/step - loss: 0.0556 - acc: 0.9811\n",
      "Epoch 23/50\n",
      "10690/10690 [==============================] - 0s 10us/step - loss: 0.0316 - acc: 0.9910\n",
      "Epoch 24/50\n",
      "10690/10690 [==============================] - 0s 11us/step - loss: 0.0463 - acc: 0.9828\n",
      "Epoch 25/50\n",
      "10690/10690 [==============================] - 0s 11us/step - loss: 0.0192 - acc: 0.9966\n",
      "Epoch 26/50\n",
      "10690/10690 [==============================] - 0s 11us/step - loss: 0.0765 - acc: 0.9862\n",
      "Epoch 27/50\n",
      "10690/10690 [==============================] - 0s 11us/step - loss: 0.0579 - acc: 0.9848\n",
      "Epoch 28/50\n",
      "10690/10690 [==============================] - 0s 11us/step - loss: 0.0077 - acc: 0.9993\n",
      "Epoch 29/50\n",
      "10690/10690 [==============================] - 0s 10us/step - loss: 0.0584 - acc: 0.9844\n",
      "Epoch 30/50\n",
      "10690/10690 [==============================] - 0s 10us/step - loss: 0.0070 - acc: 0.9984\n",
      "Epoch 31/50\n",
      "10690/10690 [==============================] - 0s 11us/step - loss: 0.0788 - acc: 0.9834\n",
      "Epoch 32/50\n",
      "10690/10690 [==============================] - 0s 10us/step - loss: 0.0026 - acc: 0.9997\n",
      "Epoch 33/50\n",
      "10690/10690 [==============================] - 0s 11us/step - loss: 0.0982 - acc: 0.9816\n",
      "Epoch 34/50\n",
      "10690/10690 [==============================] - 0s 10us/step - loss: 0.0040 - acc: 0.9998\n",
      "Epoch 35/50\n",
      "10690/10690 [==============================] - 0s 10us/step - loss: 0.1190 - acc: 0.9808\n",
      "Epoch 36/50\n",
      "10690/10690 [==============================] - 0s 10us/step - loss: 0.0044 - acc: 0.9998\n",
      "Epoch 37/50\n",
      "10690/10690 [==============================] - 0s 11us/step - loss: 0.0011 - acc: 1.0000\n",
      "Epoch 38/50\n",
      "10690/10690 [==============================] - 0s 12us/step - loss: 0.1249 - acc: 0.9827\n",
      "Epoch 39/50\n",
      "10690/10690 [==============================] - 0s 11us/step - loss: 0.0037 - acc: 0.9997\n",
      "Epoch 40/50\n",
      "10690/10690 [==============================] - 0s 10us/step - loss: 8.0466e-04 - acc: 1.0000\n",
      "Epoch 41/50\n",
      "10690/10690 [==============================] - 0s 11us/step - loss: 0.0382 - acc: 0.9949\n",
      "Epoch 42/50\n",
      "10690/10690 [==============================] - 0s 10us/step - loss: 0.1462 - acc: 0.9771\n",
      "Epoch 43/50\n",
      "10690/10690 [==============================] - 0s 11us/step - loss: 0.0015 - acc: 1.0000\n",
      "Epoch 44/50\n",
      "10690/10690 [==============================] - 0s 10us/step - loss: 4.7025e-04 - acc: 1.0000\n",
      "Epoch 45/50\n",
      "10690/10690 [==============================] - 0s 11us/step - loss: 0.1131 - acc: 0.9838\n",
      "Epoch 46/50\n",
      "10690/10690 [==============================] - 0s 12us/step - loss: 9.4059e-04 - acc: 1.0000\n",
      "Epoch 47/50\n",
      "10690/10690 [==============================] - 0s 11us/step - loss: 3.3030e-04 - acc: 1.0000\n",
      "Epoch 48/50\n",
      "10690/10690 [==============================] - 0s 10us/step - loss: 0.1525 - acc: 0.9802\n",
      "Epoch 49/50\n",
      "10690/10690 [==============================] - 0s 10us/step - loss: 0.0012 - acc: 1.0000\n",
      "Epoch 50/50\n",
      "10690/10690 [==============================] - 0s 10us/step - loss: 4.0062e-04 - acc: 1.0000\n"
     ]
    },
    {
     "data": {
      "text/plain": [
       "<keras.callbacks.History at 0x1df1b589ba8>"
      ]
     },
     "execution_count": 71,
     "metadata": {},
     "output_type": "execute_result"
    }
   ],
   "source": [
    "model.fit(X_train,\n",
    "         y_train,\n",
    "         epochs=50,\n",
    "         batch_size=512,\n",
    "         class_weight=class_weight)"
   ]
  },
  {
   "cell_type": "code",
   "execution_count": 85,
   "metadata": {
    "collapsed": true
   },
   "outputs": [],
   "source": [
    "threshold = 0.3\n",
    "preds = model.predict_proba(X_test)\n",
    "pred = []\n",
    "for i in range(len(preds)):\n",
    "    if preds[i] > threshold:\n",
    "        pred.append(1)\n",
    "    else:\n",
    "        pred.append(0)"
   ]
  },
  {
   "cell_type": "code",
   "execution_count": 86,
   "metadata": {},
   "outputs": [
    {
     "name": "stdout",
     "output_type": "stream",
     "text": [
      "             precision    recall  f1-score   support\n",
      "\n",
      "          0       0.98      1.00      0.99      2311\n",
      "          1       0.97      0.88      0.93       362\n",
      "\n",
      "avg / total       0.98      0.98      0.98      2673\n",
      "\n",
      "[[2302    9]\n",
      " [  42  320]]\n"
     ]
    }
   ],
   "source": [
    "print(classification_report(y_test,pred))\n",
    "print(confusion_matrix(y_test,pred))"
   ]
  },
  {
   "cell_type": "code",
   "execution_count": 74,
   "metadata": {
    "collapsed": true
   },
   "outputs": [],
   "source": [
    "X_scl = scl.transform(X)"
   ]
  },
  {
   "cell_type": "code",
   "execution_count": 75,
   "metadata": {
    "collapsed": true
   },
   "outputs": [],
   "source": [
    "pred = [x[0] for x in model.predict(X_scl)]\n",
    "proba = [x[0] for x in model.predict_proba(X_scl)]"
   ]
  },
  {
   "cell_type": "code",
   "execution_count": 76,
   "metadata": {
    "collapsed": true
   },
   "outputs": [],
   "source": [
    "all_pred = pd.DataFrame({'pred':pred,'proba':proba})\n",
    "result = pd.concat([df, all_pred, heat_30], axis=1, join='inner')\n",
    "result.to_csv('output_NN.csv')"
   ]
  },
  {
   "cell_type": "code",
   "execution_count": null,
   "metadata": {
    "collapsed": true
   },
   "outputs": [],
   "source": []
  }
 ],
 "metadata": {
  "kernelspec": {
   "display_name": "Python 3",
   "language": "python",
   "name": "python3"
  },
  "language_info": {
   "codemirror_mode": {
    "name": "ipython",
    "version": 3
   },
   "file_extension": ".py",
   "mimetype": "text/x-python",
   "name": "python",
   "nbconvert_exporter": "python",
   "pygments_lexer": "ipython3",
   "version": "3.6.3"
  }
 },
 "nbformat": 4,
 "nbformat_minor": 2
}
