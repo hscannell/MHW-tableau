{
 "cells": [
  {
   "cell_type": "code",
   "execution_count": 105,
   "metadata": {},
   "outputs": [],
   "source": [
    "%matplotlib inline\n",
    "import pandas as pd\n",
    "import numpy as np\n",
    "from netCDF4 import Dataset\n",
    "import os, time, datetime\n",
    "from datetime import date\n",
    "import matplotlib.pyplot as plt\n",
    "from sklearn.preprocessing import MinMaxScaler, StandardScaler\n",
    "from sklearn.utils import shuffle\n",
    "from keras.models import Sequential\n",
    "from keras.optimizers import SGD, Adam\n",
    "from keras.layers import Dense, LSTM, Activation, Dropout\n",
    "import xgboost as xgb\n",
    "import seaborn as sns\n",
    "from sklearn.model_selection import KFold, GridSearchCV, train_test_split, StratifiedKFold\n",
    "from sklearn.metrics import classification_report, confusion_matrix\n",
    "import warnings"
   ]
  },
  {
   "cell_type": "code",
   "execution_count": 106,
   "metadata": {
    "collapsed": true
   },
   "outputs": [],
   "source": [
    "# it looks like XGBoost is using a library that's a bit older, silencing the deprication warning\n",
    "warnings.filterwarnings(\"ignore\")"
   ]
  },
  {
   "cell_type": "code",
   "execution_count": 107,
   "metadata": {
    "collapsed": true
   },
   "outputs": [],
   "source": [
    "labels = pd.read_csv('data/Labels/mhwLabels_30n120w.csv')"
   ]
  },
  {
   "cell_type": "code",
   "execution_count": 108,
   "metadata": {},
   "outputs": [
    {
     "data": {
      "text/html": [
       "<div>\n",
       "<style>\n",
       "    .dataframe thead tr:only-child th {\n",
       "        text-align: right;\n",
       "    }\n",
       "\n",
       "    .dataframe thead th {\n",
       "        text-align: left;\n",
       "    }\n",
       "\n",
       "    .dataframe tbody tr th {\n",
       "        vertical-align: top;\n",
       "    }\n",
       "</style>\n",
       "<table border=\"1\" class=\"dataframe\">\n",
       "  <thead>\n",
       "    <tr style=\"text-align: right;\">\n",
       "      <th></th>\n",
       "      <th>1981-09-01</th>\n",
       "      <th>1981-09-02</th>\n",
       "      <th>1981-09-03</th>\n",
       "      <th>1981-09-04</th>\n",
       "      <th>1981-09-05</th>\n",
       "      <th>1981-09-06</th>\n",
       "      <th>1981-09-07</th>\n",
       "      <th>1981-09-08</th>\n",
       "      <th>1981-09-09</th>\n",
       "      <th>1981-09-10</th>\n",
       "      <th>...</th>\n",
       "      <th>2018-06-02</th>\n",
       "      <th>2018-06-03</th>\n",
       "      <th>2018-06-04</th>\n",
       "      <th>2018-06-05</th>\n",
       "      <th>2018-06-06</th>\n",
       "      <th>2018-06-07</th>\n",
       "      <th>2018-06-08</th>\n",
       "      <th>2018-06-09</th>\n",
       "      <th>2018-06-10</th>\n",
       "      <th>2018-06-11</th>\n",
       "    </tr>\n",
       "  </thead>\n",
       "  <tbody>\n",
       "    <tr>\n",
       "      <th>0</th>\n",
       "      <td>0.0</td>\n",
       "      <td>0.0</td>\n",
       "      <td>0.0</td>\n",
       "      <td>0.0</td>\n",
       "      <td>0.0</td>\n",
       "      <td>0.0</td>\n",
       "      <td>0.0</td>\n",
       "      <td>0.0</td>\n",
       "      <td>0.0</td>\n",
       "      <td>0.0</td>\n",
       "      <td>...</td>\n",
       "      <td>0.0</td>\n",
       "      <td>0.0</td>\n",
       "      <td>0.0</td>\n",
       "      <td>0.0</td>\n",
       "      <td>0.0</td>\n",
       "      <td>0.0</td>\n",
       "      <td>0.0</td>\n",
       "      <td>0.0</td>\n",
       "      <td>0.0</td>\n",
       "      <td>0.0</td>\n",
       "    </tr>\n",
       "  </tbody>\n",
       "</table>\n",
       "<p>1 rows × 13433 columns</p>\n",
       "</div>"
      ],
      "text/plain": [
       "   1981-09-01  1981-09-02  1981-09-03  1981-09-04  1981-09-05  1981-09-06  \\\n",
       "0         0.0         0.0         0.0         0.0         0.0         0.0   \n",
       "\n",
       "   1981-09-07  1981-09-08  1981-09-09  1981-09-10     ...      2018-06-02  \\\n",
       "0         0.0         0.0         0.0         0.0     ...             0.0   \n",
       "\n",
       "   2018-06-03  2018-06-04  2018-06-05  2018-06-06  2018-06-07  2018-06-08  \\\n",
       "0         0.0         0.0         0.0         0.0         0.0         0.0   \n",
       "\n",
       "   2018-06-09  2018-06-10  2018-06-11  \n",
       "0         0.0         0.0         0.0  \n",
       "\n",
       "[1 rows x 13433 columns]"
      ]
     },
     "execution_count": 108,
     "metadata": {},
     "output_type": "execute_result"
    }
   ],
   "source": [
    "# labels data are currently one per column\n",
    "labels.head()"
   ]
  },
  {
   "cell_type": "code",
   "execution_count": 109,
   "metadata": {
    "collapsed": true
   },
   "outputs": [],
   "source": [
    "# transform labels into a two column dataset with date and label\n",
    "labels = labels.melt()"
   ]
  },
  {
   "cell_type": "code",
   "execution_count": 110,
   "metadata": {
    "collapsed": true
   },
   "outputs": [],
   "source": [
    "# give more relatable column names\n",
    "labels.rename(columns={'variable':'date','value':'label'},inplace=True)"
   ]
  },
  {
   "cell_type": "code",
   "execution_count": 111,
   "metadata": {},
   "outputs": [],
   "source": [
    "def load_data(x):\n",
    "    fp = 'data/' # <- change this to your path\n",
    "    data = Dataset(fp+x+'_'+'30n120w.nc') # reading the netCDF file and creating a dataset\n",
    "    # SST (deg-C)   \n",
    "    data = np.squeeze(data.variables[x][:])\n",
    "    # Create a python series\n",
    "    data = pd.Series(data)\n",
    "    return data"
   ]
  },
  {
   "cell_type": "code",
   "execution_count": 112,
   "metadata": {},
   "outputs": [],
   "source": [
    "sst = load_data('sst')\n",
    "rhum = load_data('rhum')\n",
    "slp = load_data('slp')\n",
    "uwnd = load_data('uwnd')\n",
    "vwnd = load_data('vwnd')\n",
    "# airt = load_data('airt')"
   ]
  },
  {
   "cell_type": "code",
   "execution_count": 113,
   "metadata": {
    "collapsed": true
   },
   "outputs": [],
   "source": [
    "#rename\n",
    "df = labels"
   ]
  },
  {
   "cell_type": "code",
   "execution_count": 114,
   "metadata": {
    "collapsed": true
   },
   "outputs": [],
   "source": [
    "#combine labels\n",
    "#df['airt'] = airt\n",
    "df['rhum'] = rhum \n",
    "df['slp'] = slp\n",
    "df['uwnd'] = uwnd\n",
    "df['vwnd'] = vwnd\n",
    "df['sst'] = sst"
   ]
  },
  {
   "cell_type": "code",
   "execution_count": 115,
   "metadata": {},
   "outputs": [
    {
     "data": {
      "text/html": [
       "<div>\n",
       "<style>\n",
       "    .dataframe thead tr:only-child th {\n",
       "        text-align: right;\n",
       "    }\n",
       "\n",
       "    .dataframe thead th {\n",
       "        text-align: left;\n",
       "    }\n",
       "\n",
       "    .dataframe tbody tr th {\n",
       "        vertical-align: top;\n",
       "    }\n",
       "</style>\n",
       "<table border=\"1\" class=\"dataframe\">\n",
       "  <thead>\n",
       "    <tr style=\"text-align: right;\">\n",
       "      <th></th>\n",
       "      <th>date</th>\n",
       "      <th>label</th>\n",
       "      <th>rhum</th>\n",
       "      <th>slp</th>\n",
       "      <th>uwnd</th>\n",
       "      <th>vwnd</th>\n",
       "      <th>sst</th>\n",
       "    </tr>\n",
       "  </thead>\n",
       "  <tbody>\n",
       "    <tr>\n",
       "      <th>0</th>\n",
       "      <td>1981-09-01</td>\n",
       "      <td>0.0</td>\n",
       "      <td>84.990005</td>\n",
       "      <td>1015.040039</td>\n",
       "      <td>1.169998</td>\n",
       "      <td>-4.580002</td>\n",
       "      <td>18.559999</td>\n",
       "    </tr>\n",
       "    <tr>\n",
       "      <th>1</th>\n",
       "      <td>1981-09-02</td>\n",
       "      <td>0.0</td>\n",
       "      <td>91.850006</td>\n",
       "      <td>1017.150024</td>\n",
       "      <td>-0.680008</td>\n",
       "      <td>-1.699997</td>\n",
       "      <td>18.629999</td>\n",
       "    </tr>\n",
       "    <tr>\n",
       "      <th>2</th>\n",
       "      <td>1981-09-03</td>\n",
       "      <td>0.0</td>\n",
       "      <td>73.580002</td>\n",
       "      <td>1019.500000</td>\n",
       "      <td>3.520004</td>\n",
       "      <td>-4.690002</td>\n",
       "      <td>18.400000</td>\n",
       "    </tr>\n",
       "    <tr>\n",
       "      <th>3</th>\n",
       "      <td>1981-09-04</td>\n",
       "      <td>0.0</td>\n",
       "      <td>67.819992</td>\n",
       "      <td>1018.970032</td>\n",
       "      <td>0.319992</td>\n",
       "      <td>-6.910004</td>\n",
       "      <td>18.359999</td>\n",
       "    </tr>\n",
       "    <tr>\n",
       "      <th>4</th>\n",
       "      <td>1981-09-05</td>\n",
       "      <td>0.0</td>\n",
       "      <td>80.850006</td>\n",
       "      <td>1015.100037</td>\n",
       "      <td>-2.059998</td>\n",
       "      <td>-4.330002</td>\n",
       "      <td>19.049999</td>\n",
       "    </tr>\n",
       "  </tbody>\n",
       "</table>\n",
       "</div>"
      ],
      "text/plain": [
       "         date  label       rhum          slp      uwnd      vwnd        sst\n",
       "0  1981-09-01    0.0  84.990005  1015.040039  1.169998 -4.580002  18.559999\n",
       "1  1981-09-02    0.0  91.850006  1017.150024 -0.680008 -1.699997  18.629999\n",
       "2  1981-09-03    0.0  73.580002  1019.500000  3.520004 -4.690002  18.400000\n",
       "3  1981-09-04    0.0  67.819992  1018.970032  0.319992 -6.910004  18.359999\n",
       "4  1981-09-05    0.0  80.850006  1015.100037 -2.059998 -4.330002  19.049999"
      ]
     },
     "execution_count": 115,
     "metadata": {},
     "output_type": "execute_result"
    }
   ],
   "source": [
    "df.head()"
   ]
  },
  {
   "cell_type": "code",
   "execution_count": 116,
   "metadata": {},
   "outputs": [],
   "source": [
    "# for each day in the dataset, loop back some number of days and report the SST for that day as a new column. \n",
    "# This loop creates a new column for each of the 40 previous days\n",
    "\n",
    "look_back = pd.DataFrame()\n",
    "back_range = [i+1 for i in range(40)]\n",
    "for feat in ['rhum','slp','sst','uwnd','vwnd']:\n",
    "    for day in back_range:\n",
    "        sst_back = []\n",
    "        for i in range(len(df)):\n",
    "            if i-day < 0:\n",
    "                sst_back.append(0)\n",
    "            else:\n",
    "                sst_back.append(df[feat][i-day])\n",
    "        look_back[feat+'-'+str(day)] = sst_back"
   ]
  },
  {
   "cell_type": "code",
   "execution_count": 117,
   "metadata": {
    "collapsed": true
   },
   "outputs": [],
   "source": [
    "# for each day in the dataset, loop forward some number of days and check if there was a heatwave in that range\n",
    "# If there was a heatwave, in any of the next 30 days, mark the column heat_30 as 1 else 0\n",
    "# this allows prediction on a give day: will there be a heatwave in the next 30 days\n",
    "\n",
    "heat_30 = np.zeros(len(df))\n",
    "forward_range = [i for i in range(30)]\n",
    "for i in range(len(df)):\n",
    "    event = 0\n",
    "    for day in forward_range:\n",
    "        if day+i >= len(df):\n",
    "            event += 0\n",
    "        else:\n",
    "            event += df['label'][day+i]\n",
    "    if event > 0:\n",
    "        heat_30[i] = 1\n",
    "    else:\n",
    "        heat_30[i] = 0"
   ]
  },
  {
   "cell_type": "code",
   "execution_count": 118,
   "metadata": {
    "collapsed": true
   },
   "outputs": [],
   "source": [
    "# make the heat_30 column a single column dataframe\n",
    "heat_30 = pd.DataFrame({'heat_30':heat_30})"
   ]
  },
  {
   "cell_type": "code",
   "execution_count": 119,
   "metadata": {
    "collapsed": true
   },
   "outputs": [],
   "source": [
    "# join the labels, backward lookin SST columns, and forward looking heatwave column together on their index\n",
    "# all are the same length and in chronological order so this should work directly\n",
    "result = pd.concat([df, look_back,heat_30], axis=1, join='inner')"
   ]
  },
  {
   "cell_type": "code",
   "execution_count": 120,
   "metadata": {},
   "outputs": [
    {
     "data": {
      "text/html": [
       "<div>\n",
       "<style>\n",
       "    .dataframe thead tr:only-child th {\n",
       "        text-align: right;\n",
       "    }\n",
       "\n",
       "    .dataframe thead th {\n",
       "        text-align: left;\n",
       "    }\n",
       "\n",
       "    .dataframe tbody tr th {\n",
       "        vertical-align: top;\n",
       "    }\n",
       "</style>\n",
       "<table border=\"1\" class=\"dataframe\">\n",
       "  <thead>\n",
       "    <tr style=\"text-align: right;\">\n",
       "      <th></th>\n",
       "      <th>date</th>\n",
       "      <th>label</th>\n",
       "      <th>rhum</th>\n",
       "      <th>slp</th>\n",
       "      <th>uwnd</th>\n",
       "      <th>vwnd</th>\n",
       "      <th>sst</th>\n",
       "      <th>rhum-1</th>\n",
       "      <th>rhum-2</th>\n",
       "      <th>rhum-3</th>\n",
       "      <th>...</th>\n",
       "      <th>vwnd-32</th>\n",
       "      <th>vwnd-33</th>\n",
       "      <th>vwnd-34</th>\n",
       "      <th>vwnd-35</th>\n",
       "      <th>vwnd-36</th>\n",
       "      <th>vwnd-37</th>\n",
       "      <th>vwnd-38</th>\n",
       "      <th>vwnd-39</th>\n",
       "      <th>vwnd-40</th>\n",
       "      <th>heat_30</th>\n",
       "    </tr>\n",
       "  </thead>\n",
       "  <tbody>\n",
       "    <tr>\n",
       "      <th>40</th>\n",
       "      <td>1981-10-11</td>\n",
       "      <td>0.0</td>\n",
       "      <td>84.729996</td>\n",
       "      <td>1015.790039</td>\n",
       "      <td>4.779999</td>\n",
       "      <td>-2.029999</td>\n",
       "      <td>19.379999</td>\n",
       "      <td>85.160004</td>\n",
       "      <td>88.789993</td>\n",
       "      <td>79.500000</td>\n",
       "      <td>...</td>\n",
       "      <td>-1.650009</td>\n",
       "      <td>-3.550003</td>\n",
       "      <td>-6.050003</td>\n",
       "      <td>-2.430008</td>\n",
       "      <td>-4.330002</td>\n",
       "      <td>-6.910004</td>\n",
       "      <td>-4.690002</td>\n",
       "      <td>-1.699997</td>\n",
       "      <td>-4.580002</td>\n",
       "      <td>0.0</td>\n",
       "    </tr>\n",
       "    <tr>\n",
       "      <th>41</th>\n",
       "      <td>1981-10-12</td>\n",
       "      <td>0.0</td>\n",
       "      <td>92.360001</td>\n",
       "      <td>1019.369995</td>\n",
       "      <td>-0.470001</td>\n",
       "      <td>-2.399994</td>\n",
       "      <td>19.330000</td>\n",
       "      <td>84.729996</td>\n",
       "      <td>85.160004</td>\n",
       "      <td>88.789993</td>\n",
       "      <td>...</td>\n",
       "      <td>-2.270004</td>\n",
       "      <td>-1.650009</td>\n",
       "      <td>-3.550003</td>\n",
       "      <td>-6.050003</td>\n",
       "      <td>-2.430008</td>\n",
       "      <td>-4.330002</td>\n",
       "      <td>-6.910004</td>\n",
       "      <td>-4.690002</td>\n",
       "      <td>-1.699997</td>\n",
       "      <td>0.0</td>\n",
       "    </tr>\n",
       "    <tr>\n",
       "      <th>42</th>\n",
       "      <td>1981-10-13</td>\n",
       "      <td>0.0</td>\n",
       "      <td>87.369995</td>\n",
       "      <td>1019.750000</td>\n",
       "      <td>-0.500000</td>\n",
       "      <td>-3.750000</td>\n",
       "      <td>19.240000</td>\n",
       "      <td>92.360001</td>\n",
       "      <td>84.729996</td>\n",
       "      <td>85.160004</td>\n",
       "      <td>...</td>\n",
       "      <td>-1.509995</td>\n",
       "      <td>-2.270004</td>\n",
       "      <td>-1.650009</td>\n",
       "      <td>-3.550003</td>\n",
       "      <td>-6.050003</td>\n",
       "      <td>-2.430008</td>\n",
       "      <td>-4.330002</td>\n",
       "      <td>-6.910004</td>\n",
       "      <td>-4.690002</td>\n",
       "      <td>0.0</td>\n",
       "    </tr>\n",
       "    <tr>\n",
       "      <th>43</th>\n",
       "      <td>1981-10-14</td>\n",
       "      <td>0.0</td>\n",
       "      <td>84.360001</td>\n",
       "      <td>1019.430054</td>\n",
       "      <td>1.440002</td>\n",
       "      <td>-4.029999</td>\n",
       "      <td>19.879999</td>\n",
       "      <td>87.369995</td>\n",
       "      <td>92.360001</td>\n",
       "      <td>84.729996</td>\n",
       "      <td>...</td>\n",
       "      <td>0.589996</td>\n",
       "      <td>-1.509995</td>\n",
       "      <td>-2.270004</td>\n",
       "      <td>-1.650009</td>\n",
       "      <td>-3.550003</td>\n",
       "      <td>-6.050003</td>\n",
       "      <td>-2.430008</td>\n",
       "      <td>-4.330002</td>\n",
       "      <td>-6.910004</td>\n",
       "      <td>0.0</td>\n",
       "    </tr>\n",
       "    <tr>\n",
       "      <th>44</th>\n",
       "      <td>1981-10-15</td>\n",
       "      <td>0.0</td>\n",
       "      <td>85.839996</td>\n",
       "      <td>1022.210022</td>\n",
       "      <td>3.990005</td>\n",
       "      <td>-2.430008</td>\n",
       "      <td>20.000000</td>\n",
       "      <td>84.360001</td>\n",
       "      <td>87.369995</td>\n",
       "      <td>92.360001</td>\n",
       "      <td>...</td>\n",
       "      <td>-0.139999</td>\n",
       "      <td>0.589996</td>\n",
       "      <td>-1.509995</td>\n",
       "      <td>-2.270004</td>\n",
       "      <td>-1.650009</td>\n",
       "      <td>-3.550003</td>\n",
       "      <td>-6.050003</td>\n",
       "      <td>-2.430008</td>\n",
       "      <td>-4.330002</td>\n",
       "      <td>0.0</td>\n",
       "    </tr>\n",
       "  </tbody>\n",
       "</table>\n",
       "<p>5 rows × 208 columns</p>\n",
       "</div>"
      ],
      "text/plain": [
       "          date  label       rhum          slp      uwnd      vwnd        sst  \\\n",
       "40  1981-10-11    0.0  84.729996  1015.790039  4.779999 -2.029999  19.379999   \n",
       "41  1981-10-12    0.0  92.360001  1019.369995 -0.470001 -2.399994  19.330000   \n",
       "42  1981-10-13    0.0  87.369995  1019.750000 -0.500000 -3.750000  19.240000   \n",
       "43  1981-10-14    0.0  84.360001  1019.430054  1.440002 -4.029999  19.879999   \n",
       "44  1981-10-15    0.0  85.839996  1022.210022  3.990005 -2.430008  20.000000   \n",
       "\n",
       "       rhum-1     rhum-2     rhum-3   ...      vwnd-32   vwnd-33   vwnd-34  \\\n",
       "40  85.160004  88.789993  79.500000   ...    -1.650009 -3.550003 -6.050003   \n",
       "41  84.729996  85.160004  88.789993   ...    -2.270004 -1.650009 -3.550003   \n",
       "42  92.360001  84.729996  85.160004   ...    -1.509995 -2.270004 -1.650009   \n",
       "43  87.369995  92.360001  84.729996   ...     0.589996 -1.509995 -2.270004   \n",
       "44  84.360001  87.369995  92.360001   ...    -0.139999  0.589996 -1.509995   \n",
       "\n",
       "     vwnd-35   vwnd-36   vwnd-37   vwnd-38   vwnd-39   vwnd-40  heat_30  \n",
       "40 -2.430008 -4.330002 -6.910004 -4.690002 -1.699997 -4.580002      0.0  \n",
       "41 -6.050003 -2.430008 -4.330002 -6.910004 -4.690002 -1.699997      0.0  \n",
       "42 -3.550003 -6.050003 -2.430008 -4.330002 -6.910004 -4.690002      0.0  \n",
       "43 -1.650009 -3.550003 -6.050003 -2.430008 -4.330002 -6.910004      0.0  \n",
       "44 -2.270004 -1.650009 -3.550003 -6.050003 -2.430008 -4.330002      0.0  \n",
       "\n",
       "[5 rows x 208 columns]"
      ]
     },
     "execution_count": 120,
     "metadata": {},
     "output_type": "execute_result"
    }
   ],
   "source": [
    "# drop off the first 40 and last 30 sample days\n",
    "# these have data that were artificially set to 0 and so shouldn't be included\n",
    "# dropping 70 rows shouldn't effect the overall dataset quality\n",
    "result.drop(df.index[:40], inplace=True)\n",
    "result.drop(df.index[-30:], inplace=True)\n",
    "result.head()"
   ]
  },
  {
   "cell_type": "code",
   "execution_count": 121,
   "metadata": {},
   "outputs": [
    {
     "data": {
      "text/plain": [
       "<matplotlib.axes._subplots.AxesSubplot at 0x21408115668>"
      ]
     },
     "execution_count": 121,
     "metadata": {},
     "output_type": "execute_result"
    },
    {
     "data": {
      "image/png": "[encoded data removed]",
      "text/plain": [
       "<matplotlib.figure.Figure at 0x21377d8e940>"
      ]
     },
     "metadata": {},
     "output_type": "display_data"
    }
   ],
   "source": [
    "# just curious, do the days correlate with each other?\n",
    "# yes they seem to\n",
    "corr = result.corr()\n",
    "sns.heatmap(corr,\n",
    "            xticklabels=corr.columns.values,\n",
    "            yticklabels=corr.columns.values)"
   ]
  },
  {
   "cell_type": "code",
   "execution_count": 129,
   "metadata": {
    "collapsed": true
   },
   "outputs": [],
   "source": [
    "#split the data into targets and features, dropping unneeded values\n",
    "y = result['heat_30'].astype('int')\n",
    "X = result.drop(['label','sst', 'date', 'heat_30','rhum','slp','uwnd','vwnd'], axis=1)"
   ]
  },
  {
   "cell_type": "code",
   "execution_count": 131,
   "metadata": {},
   "outputs": [],
   "source": [
    "X = np.nan_to_num(X)"
   ]
  },
  {
   "cell_type": "code",
   "execution_count": 229,
   "metadata": {
    "collapsed": true
   },
   "outputs": [],
   "source": [
    "#split into a training and test set, ensuring to stratify the class breakdowns between sets\n",
    "X_train, X_test, y_train, y_test = train_test_split(X, y, test_size=0.2, random_state=0, stratify=y)"
   ]
  },
  {
   "cell_type": "code",
   "execution_count": 230,
   "metadata": {
    "collapsed": true
   },
   "outputs": [],
   "source": [
    "#instantiate a gradient boosted machine for classification\n",
    "gbm = xgb.XGBClassifier(verbose=True, subsample=0.2, n_jobs=4, n_estimators=3000)"
   ]
  },
  {
   "cell_type": "code",
   "execution_count": 231,
   "metadata": {},
   "outputs": [
    {
     "data": {
      "text/plain": [
       "XGBClassifier(base_score=0.5, booster='gbtree', colsample_bylevel=1,\n",
       "       colsample_bytree=1, gamma=0, learning_rate=0.1, max_delta_step=0,\n",
       "       max_depth=3, min_child_weight=1, missing=None, n_estimators=3000,\n",
       "       n_jobs=4, nthread=None, objective='binary:logistic', random_state=0,\n",
       "       reg_alpha=0, reg_lambda=1, scale_pos_weight=1, seed=None,\n",
       "       silent=True, subsample=0.2, verbose=True)"
      ]
     },
     "execution_count": 231,
     "metadata": {},
     "output_type": "execute_result"
    }
   ],
   "source": [
    "gbm.fit(X_train, y_train)"
   ]
  },
  {
   "cell_type": "code",
   "execution_count": 234,
   "metadata": {
    "collapsed": true
   },
   "outputs": [],
   "source": [
    "#this is a highly class imbalanced problem, so we should experiment with different thresholds.\n",
    "#very few heatwaves will likely spike to above 50% probability, but we can catch them by lowering the probablility threshold\n",
    "#we don't want to lower it too far though, because we will catch too many false positives.\n",
    "\n",
    "threshold = 0.3\n",
    "preds = gbm.predict_proba(X_test)[:,1]\n",
    "pred = []\n",
    "for i in range(len(preds)):\n",
    "    if preds[i] > threshold:\n",
    "        pred.append(1)\n",
    "    else:\n",
    "        pred.append(0)"
   ]
  },
  {
   "cell_type": "code",
   "execution_count": 235,
   "metadata": {},
   "outputs": [
    {
     "name": "stdout",
     "output_type": "stream",
     "text": [
      "             precision    recall  f1-score   support\n",
      "\n",
      "          0       0.96      0.97      0.96      2311\n",
      "          1       0.78      0.72      0.75       362\n",
      "\n",
      "avg / total       0.93      0.94      0.93      2673\n",
      "\n",
      "[[2238   73]\n",
      " [ 100  262]]\n"
     ]
    }
   ],
   "source": [
    "#eval model performance\n",
    "print(classification_report(y_test,pred))\n",
    "print(confusion_matrix(y_test,pred))"
   ]
  },
  {
   "cell_type": "code",
   "execution_count": null,
   "metadata": {
    "collapsed": true
   },
   "outputs": [],
   "source": [
    "# the following section should be used if you want to precision tune the gbm -------------------"
   ]
  },
  {
   "cell_type": "code",
   "execution_count": null,
   "metadata": {
    "collapsed": true
   },
   "outputs": [],
   "source": [
    "#parameters = {'max_depth': [4,6,8], 'n_estimators': [2000, 2500, 3000, 4000], 'learning_rate': [0.005, 0.01, 0.02, 0.03, 0.05]}"
   ]
  },
  {
   "cell_type": "code",
   "execution_count": null,
   "metadata": {
    "collapsed": true
   },
   "outputs": [],
   "source": [
    "#clf = GridSearchCV(gbm, parameters, cv=5, verbose=True, scoring='recall')\n",
    "#clf.fit(X_train, y_train)"
   ]
  },
  {
   "cell_type": "code",
   "execution_count": null,
   "metadata": {
    "collapsed": true
   },
   "outputs": [],
   "source": [
    "#preds = clf.predict(X_test)"
   ]
  },
  {
   "cell_type": "code",
   "execution_count": null,
   "metadata": {
    "collapsed": true
   },
   "outputs": [],
   "source": [
    "#print(classification_report(y_test,preds))\n",
    "#print(confusion_matrix(y_test,preds))"
   ]
  },
  {
   "cell_type": "code",
   "execution_count": null,
   "metadata": {
    "collapsed": true
   },
   "outputs": [],
   "source": [
    "# end precision tuning section ----------------------"
   ]
  },
  {
   "cell_type": "code",
   "execution_count": null,
   "metadata": {
    "collapsed": true
   },
   "outputs": [],
   "source": [
    "# try a dense NN model "
   ]
  },
  {
   "cell_type": "code",
   "execution_count": 236,
   "metadata": {
    "collapsed": true
   },
   "outputs": [],
   "source": [
    "X_train, X_test, y_train, y_test = train_test_split(X, y, test_size=0.2, random_state=0, shuffle=False)"
   ]
  },
  {
   "cell_type": "code",
   "execution_count": 237,
   "metadata": {},
   "outputs": [],
   "source": [
    "scl = MinMaxScaler(feature_range=(-1, 1))\n",
    "X_train = scl.fit_transform(X_train)\n",
    "X_test = scl.transform(X_test)"
   ]
  },
  {
   "cell_type": "code",
   "execution_count": 238,
   "metadata": {
    "collapsed": true
   },
   "outputs": [],
   "source": [
    "class_weight = {0: 1.,\n",
    "                1: 5.}"
   ]
  },
  {
   "cell_type": "code",
   "execution_count": 239,
   "metadata": {
    "collapsed": true
   },
   "outputs": [],
   "source": [
    "model = Sequential()"
   ]
  },
  {
   "cell_type": "code",
   "execution_count": 240,
   "metadata": {
    "collapsed": true
   },
   "outputs": [],
   "source": [
    "model.add(Dense(256, activation='relu', input_shape=(200,)))\n",
    "model.add(Dense(200, activation='relu'))\n",
    "model.add(Dense(1, activation='sigmoid'))"
   ]
  },
  {
   "cell_type": "code",
   "execution_count": 241,
   "metadata": {
    "collapsed": true
   },
   "outputs": [],
   "source": [
    "model.compile(optimizer='rmsprop', loss='binary_crossentropy', metrics=['accuracy'])"
   ]
  },
  {
   "cell_type": "code",
   "execution_count": 242,
   "metadata": {},
   "outputs": [
    {
     "name": "stdout",
     "output_type": "stream",
     "text": [
      "Epoch 1/50\n",
      "10690/10690 [==============================] - 1s 51us/step - loss: 0.6923 - acc: 0.8491\n",
      "Epoch 2/50\n",
      "10690/10690 [==============================] - 0s 10us/step - loss: 0.5642 - acc: 0.8775\n",
      "Epoch 3/50\n",
      "10690/10690 [==============================] - 0s 10us/step - loss: 0.5281 - acc: 0.8785\n",
      "Epoch 4/50\n",
      "10690/10690 [==============================] - 0s 10us/step - loss: 0.4967 - acc: 0.8857\n",
      "Epoch 5/50\n",
      "10690/10690 [==============================] - 0s 10us/step - loss: 0.4568 - acc: 0.8952\n",
      "Epoch 6/50\n",
      "10690/10690 [==============================] - 0s 10us/step - loss: 0.4259 - acc: 0.8952\n",
      "Epoch 7/50\n",
      "10690/10690 [==============================] - 0s 10us/step - loss: 0.4124 - acc: 0.8951\n",
      "Epoch 8/50\n",
      "10690/10690 [==============================] - 0s 10us/step - loss: 0.3632 - acc: 0.9107\n",
      "Epoch 9/50\n",
      "10690/10690 [==============================] - 0s 10us/step - loss: 0.3472 - acc: 0.9131\n",
      "Epoch 10/50\n",
      "10690/10690 [==============================] - 0s 10us/step - loss: 0.3115 - acc: 0.9215\n",
      "Epoch 11/50\n",
      "10690/10690 [==============================] - 0s 10us/step - loss: 0.3009 - acc: 0.9208\n",
      "Epoch 12/50\n",
      "10690/10690 [==============================] - 0s 10us/step - loss: 0.2637 - acc: 0.9341\n",
      "Epoch 13/50\n",
      "10690/10690 [==============================] - 0s 10us/step - loss: 0.2744 - acc: 0.9269\n",
      "Epoch 14/50\n",
      "10690/10690 [==============================] - 0s 10us/step - loss: 0.2399 - acc: 0.9389\n",
      "Epoch 15/50\n",
      "10690/10690 [==============================] - 0s 10us/step - loss: 0.2227 - acc: 0.9420\n",
      "Epoch 16/50\n",
      "10690/10690 [==============================] - 0s 10us/step - loss: 0.2009 - acc: 0.9516\n",
      "Epoch 17/50\n",
      "10690/10690 [==============================] - 0s 10us/step - loss: 0.1868 - acc: 0.9545\n",
      "Epoch 18/50\n",
      "10690/10690 [==============================] - 0s 10us/step - loss: 0.1635 - acc: 0.9595\n",
      "Epoch 19/50\n",
      "10690/10690 [==============================] - 0s 10us/step - loss: 0.1619 - acc: 0.9581\n",
      "Epoch 20/50\n",
      "10690/10690 [==============================] - 0s 10us/step - loss: 0.1375 - acc: 0.9659\n",
      "Epoch 21/50\n",
      "10690/10690 [==============================] - 0s 10us/step - loss: 0.1572 - acc: 0.9616\n",
      "Epoch 22/50\n",
      "10690/10690 [==============================] - 0s 11us/step - loss: 0.1363 - acc: 0.9725\n",
      "Epoch 23/50\n",
      "10690/10690 [==============================] - 0s 10us/step - loss: 0.1064 - acc: 0.9760\n",
      "Epoch 24/50\n",
      "10690/10690 [==============================] - 0s 10us/step - loss: 0.1056 - acc: 0.9776\n",
      "Epoch 25/50\n",
      "10690/10690 [==============================] - 0s 10us/step - loss: 0.1171 - acc: 0.9697\n",
      "Epoch 26/50\n",
      "10690/10690 [==============================] - 0s 11us/step - loss: 0.0756 - acc: 0.9847\n",
      "Epoch 27/50\n",
      "10690/10690 [==============================] - 0s 10us/step - loss: 0.0777 - acc: 0.9829\n",
      "Epoch 28/50\n",
      "10690/10690 [==============================] - 0s 10us/step - loss: 0.1017 - acc: 0.9801\n",
      "Epoch 29/50\n",
      "10690/10690 [==============================] - 0s 11us/step - loss: 0.0640 - acc: 0.9866\n",
      "Epoch 30/50\n",
      "10690/10690 [==============================] - 0s 10us/step - loss: 0.0789 - acc: 0.9816\n",
      "Epoch 31/50\n",
      "10690/10690 [==============================] - 0s 10us/step - loss: 0.0807 - acc: 0.9833\n",
      "Epoch 32/50\n",
      "10690/10690 [==============================] - 0s 10us/step - loss: 0.0617 - acc: 0.9877\n",
      "Epoch 33/50\n",
      "10690/10690 [==============================] - 0s 10us/step - loss: 0.0797 - acc: 0.9814\n",
      "Epoch 34/50\n",
      "10690/10690 [==============================] - 0s 10us/step - loss: 0.0286 - acc: 0.9967\n",
      "Epoch 35/50\n",
      "10690/10690 [==============================] - 0s 10us/step - loss: 0.1423 - acc: 0.9790\n",
      "Epoch 36/50\n",
      "10690/10690 [==============================] - 0s 10us/step - loss: 0.0237 - acc: 0.9976\n",
      "Epoch 37/50\n",
      "10690/10690 [==============================] - 0s 10us/step - loss: 0.0590 - acc: 0.9879\n",
      "Epoch 38/50\n",
      "10690/10690 [==============================] - 0s 10us/step - loss: 0.0415 - acc: 0.9930\n",
      "Epoch 39/50\n",
      "10690/10690 [==============================] - 0s 10us/step - loss: 0.0237 - acc: 0.9954\n",
      "Epoch 40/50\n",
      "10690/10690 [==============================] - 0s 10us/step - loss: 0.0871 - acc: 0.9862\n",
      "Epoch 41/50\n",
      "10690/10690 [==============================] - 0s 10us/step - loss: 0.0269 - acc: 0.9978\n",
      "Epoch 42/50\n",
      "10690/10690 [==============================] - 0s 10us/step - loss: 0.0442 - acc: 0.9904\n",
      "Epoch 43/50\n",
      "10690/10690 [==============================] - 0s 10us/step - loss: 0.0805 - acc: 0.9846\n",
      "Epoch 44/50\n",
      "10690/10690 [==============================] - 0s 10us/step - loss: 0.0105 - acc: 0.9996\n",
      "Epoch 45/50\n",
      "10690/10690 [==============================] - 0s 11us/step - loss: 0.0808 - acc: 0.9895\n",
      "Epoch 46/50\n",
      "10690/10690 [==============================] - 0s 10us/step - loss: 0.0698 - acc: 0.9862\n",
      "Epoch 47/50\n",
      "10690/10690 [==============================] - 0s 10us/step - loss: 0.0099 - acc: 0.9997\n",
      "Epoch 48/50\n",
      "10690/10690 [==============================] - 0s 10us/step - loss: 0.0160 - acc: 0.9964\n",
      "Epoch 49/50\n",
      "10690/10690 [==============================] - 0s 10us/step - loss: 0.0843 - acc: 0.9926\n",
      "Epoch 50/50\n",
      "10690/10690 [==============================] - 0s 10us/step - loss: 0.0058 - acc: 0.9997\n"
     ]
    },
    {
     "data": {
      "text/plain": [
       "<keras.callbacks.History at 0x214109bb048>"
      ]
     },
     "execution_count": 242,
     "metadata": {},
     "output_type": "execute_result"
    }
   ],
   "source": [
    "model.fit(X_train,\n",
    "         y_train,\n",
    "         epochs=50,\n",
    "         batch_size=512,\n",
    "         class_weight=class_weight)"
   ]
  },
  {
   "cell_type": "code",
   "execution_count": 243,
   "metadata": {
    "collapsed": true
   },
   "outputs": [],
   "source": [
    "threshold = 0.1\n",
    "preds = model.predict_proba(X_test)\n",
    "pred = []\n",
    "for i in range(len(preds)):\n",
    "    if preds[i] > threshold:\n",
    "        pred.append(1)\n",
    "    else:\n",
    "        pred.append(0)"
   ]
  },
  {
   "cell_type": "code",
   "execution_count": 244,
   "metadata": {},
   "outputs": [
    {
     "name": "stdout",
     "output_type": "stream",
     "text": [
      "             precision    recall  f1-score   support\n",
      "\n",
      "          0       0.79      0.88      0.83      1675\n",
      "          1       0.75      0.61      0.68       998\n",
      "\n",
      "avg / total       0.78      0.78      0.78      2673\n",
      "\n",
      "[[1477  198]\n",
      " [ 388  610]]\n"
     ]
    }
   ],
   "source": [
    "print(classification_report(y_test,pred))\n",
    "print(confusion_matrix(y_test,pred))"
   ]
  },
  {
   "cell_type": "code",
   "execution_count": null,
   "metadata": {
    "collapsed": true
   },
   "outputs": [],
   "source": []
  }
 ],
 "metadata": {
  "kernelspec": {
   "display_name": "Python 3",
   "language": "python",
   "name": "python3"
  },
  "language_info": {
   "codemirror_mode": {
    "name": "ipython",
    "version": 3
   },
   "file_extension": ".py",
   "mimetype": "text/x-python",
   "name": "python",
   "nbconvert_exporter": "python",
   "pygments_lexer": "ipython3",
   "version": "3.6.3"
  }
 },
 "nbformat": 4,
 "nbformat_minor": 2
}
