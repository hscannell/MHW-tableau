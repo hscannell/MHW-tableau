{
 "cells": [
  {
   "cell_type": "markdown",
   "metadata": {},
   "source": [
    "### Marine Heatwave Categorical Classification\n",
    "Code to categorize marine heatwaves according to [Hobday et al., 2018](http://tos.org/oceanography/assets/docs/31-2_hobday.pdf).\n",
    "\n",
    "- Categories are defined as local differences between the climatology and the 90th-percentile\n",
    "- Multiples of this difference describe the different categoreis of MHWs\n",
    "\n",
    "![MHW Ranking](Hobday_etal_2018.png)"
   ]
  },
  {
   "cell_type": "code",
   "execution_count": 102,
   "metadata": {},
   "outputs": [],
   "source": [
    "import numpy as np\n",
    "import os, time, datetime\n",
    "from datetime import date\n",
    "from netCDF4 import Dataset\n",
    "import matplotlib.pyplot as plt\n",
    "import pandas as pd\n",
    "from pandas import DataFrame, Series, concat\n",
    "from marineHeatWaves import detect"
   ]
  },
  {
   "cell_type": "markdown",
   "metadata": {},
   "source": [
    "### Data Prep\n",
    "#### Load time series data from individual netCDF files"
   ]
  },
  {
   "cell_type": "code",
   "execution_count": 103,
   "metadata": {},
   "outputs": [
    {
     "name": "stdout",
     "output_type": "stream",
     "text": [
      "Location: 40ºN,160ºS\n",
      "         SST\n",
      "0  17.559999\n",
      "1  18.469999\n",
      "2  18.619999\n",
      "3  18.719999\n",
      "4  18.600000\n"
     ]
    }
   ],
   "source": [
    "# Load data\n",
    "files = ['30n120w.nc', '30n140w.nc', '40n160w.nc', '50n140w.nc'] \n",
    "f = 2 # index to files  <- choose to analyze a different time series by changing f from 0 to 3\n",
    "\n",
    "lat = files[f][0:2]\n",
    "lon = files[f][3:6]\n",
    "print('Location: '+lat+'ºN,'+lon+'ºS')\n",
    "\n",
    "fp = '/Users/hscannell/Desktop/data/SST_daily_time_series/' # <- change this to your path\n",
    "data_files = Dataset(fp+'sst_'+files[f]) # reading the netCDF file and creating a dataset\n",
    "    \n",
    "# SST (deg-C)   \n",
    "SST = np.squeeze(data_files.variables['sst'][:])\n",
    "\n",
    "# Time (days since)\n",
    "f_time = data_files.variables['time'][:] # time is given in days since 1800-01-01 00:00:00\n",
    "ref = datetime.date(1800, 1, 1).toordinal()\n",
    "sst_time = ref+f_time # adjust time as days since 0000-01-01 00:00:00\n",
    "\n",
    "# Dates (yyyy-mm-dd)\n",
    "sst_dates = [date.fromordinal(tt.astype(int)) for tt in sst_time]\n",
    "sst_dates = np.array(sst_dates)\n",
    "\n",
    "# Create a python series\n",
    "data = DataFrame(SST, columns=['SST'])\n",
    "\n",
    "print(data.head())"
   ]
  },
  {
   "cell_type": "markdown",
   "metadata": {},
   "source": [
    "#### Find marine heatwaves given our criteria\n",
    "\n",
    "- To do this we need the [marineHeatWaves](https://github.com/ecjoliver/marineHeatWaves) module created by Eric Oliver. \n",
    "- We will set our climatology to be between 1988-2017. This is the period in which we define the seasonal 90th percentile threshold to define marine heatwaves over all the data.\n",
    "- We are going to require that marine heatwaves persist for at least 5-days with no more than a 2-day drop in temperature below the threshold for any given event. "
   ]
  },
  {
   "cell_type": "code",
   "execution_count": 104,
   "metadata": {},
   "outputs": [],
   "source": [
    "sst = np.array(data['SST'])\n",
    "time = np.array(sst_time).astype(int)\n",
    "\n",
    "mhw, clim = detect(time, sst, climatologyPeriod=[1988, 2017], \n",
    "       pctile=90, windowHalfWidth=5, smoothPercentile=True, \n",
    "       smoothPercentileWidth=31, minDuration=6, \n",
    "       joinAcrossGaps=True, maxGap=2, maxPadLength=False, \n",
    "       coldSpells=False, alternateClimatology=False)\n",
    "\n",
    "sst_clim = clim['seas'] # seasonal climatology\n",
    "mhw_thres = clim['thresh'] # marine heatwave threshold\n",
    "mhw_st = mhw['index_start'] # Start index of MHWs\n",
    "mhw_en = mhw['index_end'] # End index of MHWs"
   ]
  },
  {
   "cell_type": "markdown",
   "metadata": {},
   "source": [
    "#### Find where the sea surface temperature meets our criteria for a marine heatwave\n",
    "\n",
    "(i.e. exceeds 90th percentile threshold for at least 5 days)"
   ]
  },
  {
   "cell_type": "code",
   "execution_count": null,
   "metadata": {},
   "outputs": [
    {
     "name": "stdout",
     "output_type": "stream",
     "text": [
      "number of marine heatwave days = \t\t801.0\n",
      "percent of days considered a marine heatwave = \t0.05962927119779647\n"
     ]
    }
   ],
   "source": [
    "# create MHW labels [1=MHW, 0=normal]\n",
    "mhw_label = sst*0\n",
    "for i in range(0,len(mhw_st)):\n",
    "    n = mhw_en[i]-mhw_st[i]\n",
    "    mhw_label[mhw_st[i]:mhw_en[i]] = np.ones(n)\n",
    "\n",
    "    \n",
    "# Plot binary classification\n",
    "plt.rc('xtick', labelsize=16) \n",
    "plt.rc('ytick', labelsize=16)\n",
    "plt.figure(figsize=(14,2))\n",
    "ax = plt.subplot(111)\n",
    "plt.bar(sst_dates, mhw_label, width=10, color='xkcd:reddish')\n",
    "plt.yticks([0, .9], ['normal', 'marine heatwave']);\n",
    "plt.title('Binary Classification', fontsize=18)\n",
    "ax.get_yaxis().tick_left() \n",
    "ax.spines[\"right\"].set_visible(False) \n",
    "ax.spines[\"left\"].set_visible(False) \n",
    "ax.tick_params(axis=u'both', which=u'both', length=0)\n",
    "\n",
    "\n",
    "print('number of marine heatwave days = \\t\\t{}'.format(sum(mhw_label)))\n",
    "print('percent of days considered a marine heatwave = \\t{}'.format(sum(mhw_label)/len(mhw_label)))"
   ]
  },
  {
   "cell_type": "markdown",
   "metadata": {},
   "source": [
    "### Create one hot encoding for marine heatwave intensity\n",
    "Label days according to categorical scheme proposed in [Hobday et al., 2018](http://tos.org/oceanography/assets/docs/31-2_hobday.pdf).\n",
    "\n",
    "* 0 = no marine heatwave\n",
    "* 1 = **moderate** (1-2x threshold)\n",
    "* 2 = **Strong** (2-3x threshold)\n",
    "* 3 = **Severe** (3-4x threshold)\n",
    "* 4 = **Extreme** (>4x threshold)"
   ]
  },
  {
   "cell_type": "code",
   "execution_count": null,
   "metadata": {},
   "outputs": [],
   "source": [
    "M = (mhw_label == 1) # index to where there are labeled marine heatwaves\n",
    "print('number of marine heatwave days = \\t\\t{}'.format(sum(M)))\n",
    "\n",
    "# Find how many times the anomaly is divisable by the threshold different from the climatology\n",
    "mhw_relThreshNorm = (data['SST'][M] - clim['thresh'][M])/ (clim['thresh'][M] - clim['seas'][M]) \n",
    "categs = np.zeros(data['SST'].size) \n",
    "categs[M] = np.floor(1. + mhw_relThreshNorm) \n",
    "\n",
    "# Plot one hot encoding for marine heatwave intensity\n",
    "plt.figure(figsize=(14,4))        \n",
    "plt.rc('xtick', labelsize=16) \n",
    "plt.rc('ytick', labelsize=16)\n",
    "ax = plt.subplot(111)\n",
    "plt.bar(sst_dates[(categs==1)], categs[(categs==1)], width=100, color='xkcd:marigold')\n",
    "plt.bar(sst_dates[(categs==2)], categs[(categs==2)], width=100, color='xkcd:bright orange')\n",
    "plt.bar(sst_dates[(categs==3)], categs[(categs==3)], width=100, color='xkcd:lipstick red')\n",
    "plt.bar(sst_dates[(categs==4)], categs[(categs==4)], width=100, color='xkcd:reddy brown')\n",
    "plt.title('MHW Categories - one hot ', fontsize=18)\n",
    "plt.yticks([0, 1, 2, 3, 4], ['', 'moderate','strong','severe','extreme']);\n",
    "plt.grid(True,alpha = 0.3)\n",
    "ax.get_xaxis().tick_bottom()  \n",
    "ax.get_yaxis().tick_left() \n",
    "ax.spines[\"top\"].set_visible(False)  \n",
    "ax.spines[\"right\"].set_visible(False) \n",
    "ax.spines[\"left\"].set_visible(False) \n",
    "ax.tick_params(axis=u'both', which=u'both', length=0)"
   ]
  },
  {
   "cell_type": "markdown",
   "metadata": {},
   "source": [
    "#### Export one hot encodings to a CSV"
   ]
  },
  {
   "cell_type": "code",
   "execution_count": null,
   "metadata": {},
   "outputs": [],
   "source": [
    "import csv\n",
    "\n",
    "fn = 'mhw_onehot_'+files[f][:-3]+'.csv'\n",
    "download_dir = '/Users/hscannell/Desktop/MHWpredict/data/Labels/'+fn \n",
    "print(download_dir)\n",
    "#where you want the file to be downloaded to \n",
    "\n",
    "MyData = np.vstack((sst_dates, categs))\n",
    "\n",
    "myFile = open(download_dir, \"w\") \n",
    "\n",
    "with myFile:\n",
    "    \n",
    "    writer = csv.writer(myFile)\n",
    "\n",
    "    writer.writerows(MyData)\n",
    "     \n",
    "print(\"Writing complete!\")"
   ]
  }
 ],
 "metadata": {
  "kernelspec": {
   "display_name": "Python 3",
   "language": "python",
   "name": "python3"
  },
  "language_info": {
   "codemirror_mode": {
    "name": "ipython",
    "version": 3
   },
   "file_extension": ".py",
   "mimetype": "text/x-python",
   "name": "python",
   "nbconvert_exporter": "python",
   "pygments_lexer": "ipython3",
   "version": "3.5.5"
  }
 },
 "nbformat": 4,
 "nbformat_minor": 2
}
